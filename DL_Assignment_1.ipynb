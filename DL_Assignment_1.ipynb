{
  "nbformat": 4,
  "nbformat_minor": 0,
  "metadata": {
    "accelerator": "GPU",
    "colab": {
      "name": "Final.ipynb",
      "provenance": []
    },
    "kernelspec": {
      "display_name": "Python 3",
      "name": "python3"
    },
    "language_info": {
      "name": "python"
    },
    "widgets": {
      "application/vnd.jupyter.widget-state+json": {
        "62605677abcb4fa3aec690ed35a3c41c": {
          "model_module": "@jupyter-widgets/controls",
          "model_name": "HBoxModel",
          "model_module_version": "1.5.0",
          "state": {
            "_dom_classes": [],
            "_model_module": "@jupyter-widgets/controls",
            "_model_module_version": "1.5.0",
            "_model_name": "HBoxModel",
            "_view_count": null,
            "_view_module": "@jupyter-widgets/controls",
            "_view_module_version": "1.5.0",
            "_view_name": "HBoxView",
            "box_style": "",
            "children": [
              "IPY_MODEL_9c1935c73d5541208c588e197c265da2",
              "IPY_MODEL_a10027768910411393ef61820ea0804b",
              "IPY_MODEL_3ff29763b3154879a17463a4a7adf4fb"
            ],
            "layout": "IPY_MODEL_344c170e36dd40368da0687997aa3cd8"
          }
        },
        "9c1935c73d5541208c588e197c265da2": {
          "model_module": "@jupyter-widgets/controls",
          "model_name": "HTMLModel",
          "model_module_version": "1.5.0",
          "state": {
            "_dom_classes": [],
            "_model_module": "@jupyter-widgets/controls",
            "_model_module_version": "1.5.0",
            "_model_name": "HTMLModel",
            "_view_count": null,
            "_view_module": "@jupyter-widgets/controls",
            "_view_module_version": "1.5.0",
            "_view_name": "HTMLView",
            "description": "",
            "description_tooltip": null,
            "layout": "IPY_MODEL_dca31e8dad4040bbb17b9abe516e401c",
            "placeholder": "​",
            "style": "IPY_MODEL_f841e40e15fb4579928e16e3205f2bd8",
            "value": ""
          }
        },
        "a10027768910411393ef61820ea0804b": {
          "model_module": "@jupyter-widgets/controls",
          "model_name": "FloatProgressModel",
          "model_module_version": "1.5.0",
          "state": {
            "_dom_classes": [],
            "_model_module": "@jupyter-widgets/controls",
            "_model_module_version": "1.5.0",
            "_model_name": "FloatProgressModel",
            "_view_count": null,
            "_view_module": "@jupyter-widgets/controls",
            "_view_module_version": "1.5.0",
            "_view_name": "ProgressView",
            "bar_style": "success",
            "description": "",
            "description_tooltip": null,
            "layout": "IPY_MODEL_aa30f239ea014768974a66da445f0a7f",
            "max": 9912422,
            "min": 0,
            "orientation": "horizontal",
            "style": "IPY_MODEL_5ea59e67a7c042dcb8aa5d5ba2b75cdb",
            "value": 9912422
          }
        },
        "3ff29763b3154879a17463a4a7adf4fb": {
          "model_module": "@jupyter-widgets/controls",
          "model_name": "HTMLModel",
          "model_module_version": "1.5.0",
          "state": {
            "_dom_classes": [],
            "_model_module": "@jupyter-widgets/controls",
            "_model_module_version": "1.5.0",
            "_model_name": "HTMLModel",
            "_view_count": null,
            "_view_module": "@jupyter-widgets/controls",
            "_view_module_version": "1.5.0",
            "_view_name": "HTMLView",
            "description": "",
            "description_tooltip": null,
            "layout": "IPY_MODEL_8abaf9cac810429dabba98b0425ea517",
            "placeholder": "​",
            "style": "IPY_MODEL_e1a8e440c5fb4a44b3334229963d1145",
            "value": " 9913344/? [00:00&lt;00:00, 26680500.92it/s]"
          }
        },
        "344c170e36dd40368da0687997aa3cd8": {
          "model_module": "@jupyter-widgets/base",
          "model_name": "LayoutModel",
          "model_module_version": "1.2.0",
          "state": {
            "_model_module": "@jupyter-widgets/base",
            "_model_module_version": "1.2.0",
            "_model_name": "LayoutModel",
            "_view_count": null,
            "_view_module": "@jupyter-widgets/base",
            "_view_module_version": "1.2.0",
            "_view_name": "LayoutView",
            "align_content": null,
            "align_items": null,
            "align_self": null,
            "border": null,
            "bottom": null,
            "display": null,
            "flex": null,
            "flex_flow": null,
            "grid_area": null,
            "grid_auto_columns": null,
            "grid_auto_flow": null,
            "grid_auto_rows": null,
            "grid_column": null,
            "grid_gap": null,
            "grid_row": null,
            "grid_template_areas": null,
            "grid_template_columns": null,
            "grid_template_rows": null,
            "height": null,
            "justify_content": null,
            "justify_items": null,
            "left": null,
            "margin": null,
            "max_height": null,
            "max_width": null,
            "min_height": null,
            "min_width": null,
            "object_fit": null,
            "object_position": null,
            "order": null,
            "overflow": null,
            "overflow_x": null,
            "overflow_y": null,
            "padding": null,
            "right": null,
            "top": null,
            "visibility": null,
            "width": null
          }
        },
        "dca31e8dad4040bbb17b9abe516e401c": {
          "model_module": "@jupyter-widgets/base",
          "model_name": "LayoutModel",
          "model_module_version": "1.2.0",
          "state": {
            "_model_module": "@jupyter-widgets/base",
            "_model_module_version": "1.2.0",
            "_model_name": "LayoutModel",
            "_view_count": null,
            "_view_module": "@jupyter-widgets/base",
            "_view_module_version": "1.2.0",
            "_view_name": "LayoutView",
            "align_content": null,
            "align_items": null,
            "align_self": null,
            "border": null,
            "bottom": null,
            "display": null,
            "flex": null,
            "flex_flow": null,
            "grid_area": null,
            "grid_auto_columns": null,
            "grid_auto_flow": null,
            "grid_auto_rows": null,
            "grid_column": null,
            "grid_gap": null,
            "grid_row": null,
            "grid_template_areas": null,
            "grid_template_columns": null,
            "grid_template_rows": null,
            "height": null,
            "justify_content": null,
            "justify_items": null,
            "left": null,
            "margin": null,
            "max_height": null,
            "max_width": null,
            "min_height": null,
            "min_width": null,
            "object_fit": null,
            "object_position": null,
            "order": null,
            "overflow": null,
            "overflow_x": null,
            "overflow_y": null,
            "padding": null,
            "right": null,
            "top": null,
            "visibility": null,
            "width": null
          }
        },
        "f841e40e15fb4579928e16e3205f2bd8": {
          "model_module": "@jupyter-widgets/controls",
          "model_name": "DescriptionStyleModel",
          "model_module_version": "1.5.0",
          "state": {
            "_model_module": "@jupyter-widgets/controls",
            "_model_module_version": "1.5.0",
            "_model_name": "DescriptionStyleModel",
            "_view_count": null,
            "_view_module": "@jupyter-widgets/base",
            "_view_module_version": "1.2.0",
            "_view_name": "StyleView",
            "description_width": ""
          }
        },
        "aa30f239ea014768974a66da445f0a7f": {
          "model_module": "@jupyter-widgets/base",
          "model_name": "LayoutModel",
          "model_module_version": "1.2.0",
          "state": {
            "_model_module": "@jupyter-widgets/base",
            "_model_module_version": "1.2.0",
            "_model_name": "LayoutModel",
            "_view_count": null,
            "_view_module": "@jupyter-widgets/base",
            "_view_module_version": "1.2.0",
            "_view_name": "LayoutView",
            "align_content": null,
            "align_items": null,
            "align_self": null,
            "border": null,
            "bottom": null,
            "display": null,
            "flex": null,
            "flex_flow": null,
            "grid_area": null,
            "grid_auto_columns": null,
            "grid_auto_flow": null,
            "grid_auto_rows": null,
            "grid_column": null,
            "grid_gap": null,
            "grid_row": null,
            "grid_template_areas": null,
            "grid_template_columns": null,
            "grid_template_rows": null,
            "height": null,
            "justify_content": null,
            "justify_items": null,
            "left": null,
            "margin": null,
            "max_height": null,
            "max_width": null,
            "min_height": null,
            "min_width": null,
            "object_fit": null,
            "object_position": null,
            "order": null,
            "overflow": null,
            "overflow_x": null,
            "overflow_y": null,
            "padding": null,
            "right": null,
            "top": null,
            "visibility": null,
            "width": null
          }
        },
        "5ea59e67a7c042dcb8aa5d5ba2b75cdb": {
          "model_module": "@jupyter-widgets/controls",
          "model_name": "ProgressStyleModel",
          "model_module_version": "1.5.0",
          "state": {
            "_model_module": "@jupyter-widgets/controls",
            "_model_module_version": "1.5.0",
            "_model_name": "ProgressStyleModel",
            "_view_count": null,
            "_view_module": "@jupyter-widgets/base",
            "_view_module_version": "1.2.0",
            "_view_name": "StyleView",
            "bar_color": null,
            "description_width": ""
          }
        },
        "8abaf9cac810429dabba98b0425ea517": {
          "model_module": "@jupyter-widgets/base",
          "model_name": "LayoutModel",
          "model_module_version": "1.2.0",
          "state": {
            "_model_module": "@jupyter-widgets/base",
            "_model_module_version": "1.2.0",
            "_model_name": "LayoutModel",
            "_view_count": null,
            "_view_module": "@jupyter-widgets/base",
            "_view_module_version": "1.2.0",
            "_view_name": "LayoutView",
            "align_content": null,
            "align_items": null,
            "align_self": null,
            "border": null,
            "bottom": null,
            "display": null,
            "flex": null,
            "flex_flow": null,
            "grid_area": null,
            "grid_auto_columns": null,
            "grid_auto_flow": null,
            "grid_auto_rows": null,
            "grid_column": null,
            "grid_gap": null,
            "grid_row": null,
            "grid_template_areas": null,
            "grid_template_columns": null,
            "grid_template_rows": null,
            "height": null,
            "justify_content": null,
            "justify_items": null,
            "left": null,
            "margin": null,
            "max_height": null,
            "max_width": null,
            "min_height": null,
            "min_width": null,
            "object_fit": null,
            "object_position": null,
            "order": null,
            "overflow": null,
            "overflow_x": null,
            "overflow_y": null,
            "padding": null,
            "right": null,
            "top": null,
            "visibility": null,
            "width": null
          }
        },
        "e1a8e440c5fb4a44b3334229963d1145": {
          "model_module": "@jupyter-widgets/controls",
          "model_name": "DescriptionStyleModel",
          "model_module_version": "1.5.0",
          "state": {
            "_model_module": "@jupyter-widgets/controls",
            "_model_module_version": "1.5.0",
            "_model_name": "DescriptionStyleModel",
            "_view_count": null,
            "_view_module": "@jupyter-widgets/base",
            "_view_module_version": "1.2.0",
            "_view_name": "StyleView",
            "description_width": ""
          }
        },
        "90c4c04d9c2543339d41b66b0c824191": {
          "model_module": "@jupyter-widgets/controls",
          "model_name": "HBoxModel",
          "model_module_version": "1.5.0",
          "state": {
            "_dom_classes": [],
            "_model_module": "@jupyter-widgets/controls",
            "_model_module_version": "1.5.0",
            "_model_name": "HBoxModel",
            "_view_count": null,
            "_view_module": "@jupyter-widgets/controls",
            "_view_module_version": "1.5.0",
            "_view_name": "HBoxView",
            "box_style": "",
            "children": [
              "IPY_MODEL_5297db27ab4d487e929d4cce479ffeb9",
              "IPY_MODEL_dd3afc579be8472f95f7656f5a6229d6",
              "IPY_MODEL_6c6d310107fa4807a3d1dfeda9ad658b"
            ],
            "layout": "IPY_MODEL_d3aaa952d63d4f3abf7aeacb4431b5ba"
          }
        },
        "5297db27ab4d487e929d4cce479ffeb9": {
          "model_module": "@jupyter-widgets/controls",
          "model_name": "HTMLModel",
          "model_module_version": "1.5.0",
          "state": {
            "_dom_classes": [],
            "_model_module": "@jupyter-widgets/controls",
            "_model_module_version": "1.5.0",
            "_model_name": "HTMLModel",
            "_view_count": null,
            "_view_module": "@jupyter-widgets/controls",
            "_view_module_version": "1.5.0",
            "_view_name": "HTMLView",
            "description": "",
            "description_tooltip": null,
            "layout": "IPY_MODEL_1e42c068f54a4bccb00d25fc43e5b309",
            "placeholder": "​",
            "style": "IPY_MODEL_527ddd87b03144728694df9d9146ca7a",
            "value": ""
          }
        },
        "dd3afc579be8472f95f7656f5a6229d6": {
          "model_module": "@jupyter-widgets/controls",
          "model_name": "FloatProgressModel",
          "model_module_version": "1.5.0",
          "state": {
            "_dom_classes": [],
            "_model_module": "@jupyter-widgets/controls",
            "_model_module_version": "1.5.0",
            "_model_name": "FloatProgressModel",
            "_view_count": null,
            "_view_module": "@jupyter-widgets/controls",
            "_view_module_version": "1.5.0",
            "_view_name": "ProgressView",
            "bar_style": "success",
            "description": "",
            "description_tooltip": null,
            "layout": "IPY_MODEL_c419fc03b2314654995c19f6034a5ed4",
            "max": 28881,
            "min": 0,
            "orientation": "horizontal",
            "style": "IPY_MODEL_1e9894419a9c42039b22f1b7dc09ace1",
            "value": 28881
          }
        },
        "6c6d310107fa4807a3d1dfeda9ad658b": {
          "model_module": "@jupyter-widgets/controls",
          "model_name": "HTMLModel",
          "model_module_version": "1.5.0",
          "state": {
            "_dom_classes": [],
            "_model_module": "@jupyter-widgets/controls",
            "_model_module_version": "1.5.0",
            "_model_name": "HTMLModel",
            "_view_count": null,
            "_view_module": "@jupyter-widgets/controls",
            "_view_module_version": "1.5.0",
            "_view_name": "HTMLView",
            "description": "",
            "description_tooltip": null,
            "layout": "IPY_MODEL_8bc12b146fc843e98ccfb8364baf7324",
            "placeholder": "​",
            "style": "IPY_MODEL_798f5e2510694fb58585bdcc41e1f9b9",
            "value": " 29696/? [00:00&lt;00:00, 698541.00it/s]"
          }
        },
        "d3aaa952d63d4f3abf7aeacb4431b5ba": {
          "model_module": "@jupyter-widgets/base",
          "model_name": "LayoutModel",
          "model_module_version": "1.2.0",
          "state": {
            "_model_module": "@jupyter-widgets/base",
            "_model_module_version": "1.2.0",
            "_model_name": "LayoutModel",
            "_view_count": null,
            "_view_module": "@jupyter-widgets/base",
            "_view_module_version": "1.2.0",
            "_view_name": "LayoutView",
            "align_content": null,
            "align_items": null,
            "align_self": null,
            "border": null,
            "bottom": null,
            "display": null,
            "flex": null,
            "flex_flow": null,
            "grid_area": null,
            "grid_auto_columns": null,
            "grid_auto_flow": null,
            "grid_auto_rows": null,
            "grid_column": null,
            "grid_gap": null,
            "grid_row": null,
            "grid_template_areas": null,
            "grid_template_columns": null,
            "grid_template_rows": null,
            "height": null,
            "justify_content": null,
            "justify_items": null,
            "left": null,
            "margin": null,
            "max_height": null,
            "max_width": null,
            "min_height": null,
            "min_width": null,
            "object_fit": null,
            "object_position": null,
            "order": null,
            "overflow": null,
            "overflow_x": null,
            "overflow_y": null,
            "padding": null,
            "right": null,
            "top": null,
            "visibility": null,
            "width": null
          }
        },
        "1e42c068f54a4bccb00d25fc43e5b309": {
          "model_module": "@jupyter-widgets/base",
          "model_name": "LayoutModel",
          "model_module_version": "1.2.0",
          "state": {
            "_model_module": "@jupyter-widgets/base",
            "_model_module_version": "1.2.0",
            "_model_name": "LayoutModel",
            "_view_count": null,
            "_view_module": "@jupyter-widgets/base",
            "_view_module_version": "1.2.0",
            "_view_name": "LayoutView",
            "align_content": null,
            "align_items": null,
            "align_self": null,
            "border": null,
            "bottom": null,
            "display": null,
            "flex": null,
            "flex_flow": null,
            "grid_area": null,
            "grid_auto_columns": null,
            "grid_auto_flow": null,
            "grid_auto_rows": null,
            "grid_column": null,
            "grid_gap": null,
            "grid_row": null,
            "grid_template_areas": null,
            "grid_template_columns": null,
            "grid_template_rows": null,
            "height": null,
            "justify_content": null,
            "justify_items": null,
            "left": null,
            "margin": null,
            "max_height": null,
            "max_width": null,
            "min_height": null,
            "min_width": null,
            "object_fit": null,
            "object_position": null,
            "order": null,
            "overflow": null,
            "overflow_x": null,
            "overflow_y": null,
            "padding": null,
            "right": null,
            "top": null,
            "visibility": null,
            "width": null
          }
        },
        "527ddd87b03144728694df9d9146ca7a": {
          "model_module": "@jupyter-widgets/controls",
          "model_name": "DescriptionStyleModel",
          "model_module_version": "1.5.0",
          "state": {
            "_model_module": "@jupyter-widgets/controls",
            "_model_module_version": "1.5.0",
            "_model_name": "DescriptionStyleModel",
            "_view_count": null,
            "_view_module": "@jupyter-widgets/base",
            "_view_module_version": "1.2.0",
            "_view_name": "StyleView",
            "description_width": ""
          }
        },
        "c419fc03b2314654995c19f6034a5ed4": {
          "model_module": "@jupyter-widgets/base",
          "model_name": "LayoutModel",
          "model_module_version": "1.2.0",
          "state": {
            "_model_module": "@jupyter-widgets/base",
            "_model_module_version": "1.2.0",
            "_model_name": "LayoutModel",
            "_view_count": null,
            "_view_module": "@jupyter-widgets/base",
            "_view_module_version": "1.2.0",
            "_view_name": "LayoutView",
            "align_content": null,
            "align_items": null,
            "align_self": null,
            "border": null,
            "bottom": null,
            "display": null,
            "flex": null,
            "flex_flow": null,
            "grid_area": null,
            "grid_auto_columns": null,
            "grid_auto_flow": null,
            "grid_auto_rows": null,
            "grid_column": null,
            "grid_gap": null,
            "grid_row": null,
            "grid_template_areas": null,
            "grid_template_columns": null,
            "grid_template_rows": null,
            "height": null,
            "justify_content": null,
            "justify_items": null,
            "left": null,
            "margin": null,
            "max_height": null,
            "max_width": null,
            "min_height": null,
            "min_width": null,
            "object_fit": null,
            "object_position": null,
            "order": null,
            "overflow": null,
            "overflow_x": null,
            "overflow_y": null,
            "padding": null,
            "right": null,
            "top": null,
            "visibility": null,
            "width": null
          }
        },
        "1e9894419a9c42039b22f1b7dc09ace1": {
          "model_module": "@jupyter-widgets/controls",
          "model_name": "ProgressStyleModel",
          "model_module_version": "1.5.0",
          "state": {
            "_model_module": "@jupyter-widgets/controls",
            "_model_module_version": "1.5.0",
            "_model_name": "ProgressStyleModel",
            "_view_count": null,
            "_view_module": "@jupyter-widgets/base",
            "_view_module_version": "1.2.0",
            "_view_name": "StyleView",
            "bar_color": null,
            "description_width": ""
          }
        },
        "8bc12b146fc843e98ccfb8364baf7324": {
          "model_module": "@jupyter-widgets/base",
          "model_name": "LayoutModel",
          "model_module_version": "1.2.0",
          "state": {
            "_model_module": "@jupyter-widgets/base",
            "_model_module_version": "1.2.0",
            "_model_name": "LayoutModel",
            "_view_count": null,
            "_view_module": "@jupyter-widgets/base",
            "_view_module_version": "1.2.0",
            "_view_name": "LayoutView",
            "align_content": null,
            "align_items": null,
            "align_self": null,
            "border": null,
            "bottom": null,
            "display": null,
            "flex": null,
            "flex_flow": null,
            "grid_area": null,
            "grid_auto_columns": null,
            "grid_auto_flow": null,
            "grid_auto_rows": null,
            "grid_column": null,
            "grid_gap": null,
            "grid_row": null,
            "grid_template_areas": null,
            "grid_template_columns": null,
            "grid_template_rows": null,
            "height": null,
            "justify_content": null,
            "justify_items": null,
            "left": null,
            "margin": null,
            "max_height": null,
            "max_width": null,
            "min_height": null,
            "min_width": null,
            "object_fit": null,
            "object_position": null,
            "order": null,
            "overflow": null,
            "overflow_x": null,
            "overflow_y": null,
            "padding": null,
            "right": null,
            "top": null,
            "visibility": null,
            "width": null
          }
        },
        "798f5e2510694fb58585bdcc41e1f9b9": {
          "model_module": "@jupyter-widgets/controls",
          "model_name": "DescriptionStyleModel",
          "model_module_version": "1.5.0",
          "state": {
            "_model_module": "@jupyter-widgets/controls",
            "_model_module_version": "1.5.0",
            "_model_name": "DescriptionStyleModel",
            "_view_count": null,
            "_view_module": "@jupyter-widgets/base",
            "_view_module_version": "1.2.0",
            "_view_name": "StyleView",
            "description_width": ""
          }
        },
        "2cfc81d1d32148618a6901918856bd4e": {
          "model_module": "@jupyter-widgets/controls",
          "model_name": "HBoxModel",
          "model_module_version": "1.5.0",
          "state": {
            "_dom_classes": [],
            "_model_module": "@jupyter-widgets/controls",
            "_model_module_version": "1.5.0",
            "_model_name": "HBoxModel",
            "_view_count": null,
            "_view_module": "@jupyter-widgets/controls",
            "_view_module_version": "1.5.0",
            "_view_name": "HBoxView",
            "box_style": "",
            "children": [
              "IPY_MODEL_b6a98b2e77b240378a5dd47375549aaa",
              "IPY_MODEL_1aea7c4fb8a5414aa8e01989274f6764",
              "IPY_MODEL_57eb85b06ca44723a341ab4902cfd811"
            ],
            "layout": "IPY_MODEL_2d8dbb9aafe54fa485a91ba3915e252f"
          }
        },
        "b6a98b2e77b240378a5dd47375549aaa": {
          "model_module": "@jupyter-widgets/controls",
          "model_name": "HTMLModel",
          "model_module_version": "1.5.0",
          "state": {
            "_dom_classes": [],
            "_model_module": "@jupyter-widgets/controls",
            "_model_module_version": "1.5.0",
            "_model_name": "HTMLModel",
            "_view_count": null,
            "_view_module": "@jupyter-widgets/controls",
            "_view_module_version": "1.5.0",
            "_view_name": "HTMLView",
            "description": "",
            "description_tooltip": null,
            "layout": "IPY_MODEL_ade01bfac9134350abf367a725a4b0b9",
            "placeholder": "​",
            "style": "IPY_MODEL_9568e4f90b1c4e1fb39203ca35b891fe",
            "value": ""
          }
        },
        "1aea7c4fb8a5414aa8e01989274f6764": {
          "model_module": "@jupyter-widgets/controls",
          "model_name": "FloatProgressModel",
          "model_module_version": "1.5.0",
          "state": {
            "_dom_classes": [],
            "_model_module": "@jupyter-widgets/controls",
            "_model_module_version": "1.5.0",
            "_model_name": "FloatProgressModel",
            "_view_count": null,
            "_view_module": "@jupyter-widgets/controls",
            "_view_module_version": "1.5.0",
            "_view_name": "ProgressView",
            "bar_style": "success",
            "description": "",
            "description_tooltip": null,
            "layout": "IPY_MODEL_d873d22dbf874368bd1ce196d4b58759",
            "max": 1648877,
            "min": 0,
            "orientation": "horizontal",
            "style": "IPY_MODEL_d583870ae58f4978ac164eaac1b2d617",
            "value": 1648877
          }
        },
        "57eb85b06ca44723a341ab4902cfd811": {
          "model_module": "@jupyter-widgets/controls",
          "model_name": "HTMLModel",
          "model_module_version": "1.5.0",
          "state": {
            "_dom_classes": [],
            "_model_module": "@jupyter-widgets/controls",
            "_model_module_version": "1.5.0",
            "_model_name": "HTMLModel",
            "_view_count": null,
            "_view_module": "@jupyter-widgets/controls",
            "_view_module_version": "1.5.0",
            "_view_name": "HTMLView",
            "description": "",
            "description_tooltip": null,
            "layout": "IPY_MODEL_94798b365ea14f69b6835d0c87feb51b",
            "placeholder": "​",
            "style": "IPY_MODEL_f37282e2d6064ee8ac80ae4c19983c92",
            "value": " 1649664/? [00:00&lt;00:00, 3746780.54it/s]"
          }
        },
        "2d8dbb9aafe54fa485a91ba3915e252f": {
          "model_module": "@jupyter-widgets/base",
          "model_name": "LayoutModel",
          "model_module_version": "1.2.0",
          "state": {
            "_model_module": "@jupyter-widgets/base",
            "_model_module_version": "1.2.0",
            "_model_name": "LayoutModel",
            "_view_count": null,
            "_view_module": "@jupyter-widgets/base",
            "_view_module_version": "1.2.0",
            "_view_name": "LayoutView",
            "align_content": null,
            "align_items": null,
            "align_self": null,
            "border": null,
            "bottom": null,
            "display": null,
            "flex": null,
            "flex_flow": null,
            "grid_area": null,
            "grid_auto_columns": null,
            "grid_auto_flow": null,
            "grid_auto_rows": null,
            "grid_column": null,
            "grid_gap": null,
            "grid_row": null,
            "grid_template_areas": null,
            "grid_template_columns": null,
            "grid_template_rows": null,
            "height": null,
            "justify_content": null,
            "justify_items": null,
            "left": null,
            "margin": null,
            "max_height": null,
            "max_width": null,
            "min_height": null,
            "min_width": null,
            "object_fit": null,
            "object_position": null,
            "order": null,
            "overflow": null,
            "overflow_x": null,
            "overflow_y": null,
            "padding": null,
            "right": null,
            "top": null,
            "visibility": null,
            "width": null
          }
        },
        "ade01bfac9134350abf367a725a4b0b9": {
          "model_module": "@jupyter-widgets/base",
          "model_name": "LayoutModel",
          "model_module_version": "1.2.0",
          "state": {
            "_model_module": "@jupyter-widgets/base",
            "_model_module_version": "1.2.0",
            "_model_name": "LayoutModel",
            "_view_count": null,
            "_view_module": "@jupyter-widgets/base",
            "_view_module_version": "1.2.0",
            "_view_name": "LayoutView",
            "align_content": null,
            "align_items": null,
            "align_self": null,
            "border": null,
            "bottom": null,
            "display": null,
            "flex": null,
            "flex_flow": null,
            "grid_area": null,
            "grid_auto_columns": null,
            "grid_auto_flow": null,
            "grid_auto_rows": null,
            "grid_column": null,
            "grid_gap": null,
            "grid_row": null,
            "grid_template_areas": null,
            "grid_template_columns": null,
            "grid_template_rows": null,
            "height": null,
            "justify_content": null,
            "justify_items": null,
            "left": null,
            "margin": null,
            "max_height": null,
            "max_width": null,
            "min_height": null,
            "min_width": null,
            "object_fit": null,
            "object_position": null,
            "order": null,
            "overflow": null,
            "overflow_x": null,
            "overflow_y": null,
            "padding": null,
            "right": null,
            "top": null,
            "visibility": null,
            "width": null
          }
        },
        "9568e4f90b1c4e1fb39203ca35b891fe": {
          "model_module": "@jupyter-widgets/controls",
          "model_name": "DescriptionStyleModel",
          "model_module_version": "1.5.0",
          "state": {
            "_model_module": "@jupyter-widgets/controls",
            "_model_module_version": "1.5.0",
            "_model_name": "DescriptionStyleModel",
            "_view_count": null,
            "_view_module": "@jupyter-widgets/base",
            "_view_module_version": "1.2.0",
            "_view_name": "StyleView",
            "description_width": ""
          }
        },
        "d873d22dbf874368bd1ce196d4b58759": {
          "model_module": "@jupyter-widgets/base",
          "model_name": "LayoutModel",
          "model_module_version": "1.2.0",
          "state": {
            "_model_module": "@jupyter-widgets/base",
            "_model_module_version": "1.2.0",
            "_model_name": "LayoutModel",
            "_view_count": null,
            "_view_module": "@jupyter-widgets/base",
            "_view_module_version": "1.2.0",
            "_view_name": "LayoutView",
            "align_content": null,
            "align_items": null,
            "align_self": null,
            "border": null,
            "bottom": null,
            "display": null,
            "flex": null,
            "flex_flow": null,
            "grid_area": null,
            "grid_auto_columns": null,
            "grid_auto_flow": null,
            "grid_auto_rows": null,
            "grid_column": null,
            "grid_gap": null,
            "grid_row": null,
            "grid_template_areas": null,
            "grid_template_columns": null,
            "grid_template_rows": null,
            "height": null,
            "justify_content": null,
            "justify_items": null,
            "left": null,
            "margin": null,
            "max_height": null,
            "max_width": null,
            "min_height": null,
            "min_width": null,
            "object_fit": null,
            "object_position": null,
            "order": null,
            "overflow": null,
            "overflow_x": null,
            "overflow_y": null,
            "padding": null,
            "right": null,
            "top": null,
            "visibility": null,
            "width": null
          }
        },
        "d583870ae58f4978ac164eaac1b2d617": {
          "model_module": "@jupyter-widgets/controls",
          "model_name": "ProgressStyleModel",
          "model_module_version": "1.5.0",
          "state": {
            "_model_module": "@jupyter-widgets/controls",
            "_model_module_version": "1.5.0",
            "_model_name": "ProgressStyleModel",
            "_view_count": null,
            "_view_module": "@jupyter-widgets/base",
            "_view_module_version": "1.2.0",
            "_view_name": "StyleView",
            "bar_color": null,
            "description_width": ""
          }
        },
        "94798b365ea14f69b6835d0c87feb51b": {
          "model_module": "@jupyter-widgets/base",
          "model_name": "LayoutModel",
          "model_module_version": "1.2.0",
          "state": {
            "_model_module": "@jupyter-widgets/base",
            "_model_module_version": "1.2.0",
            "_model_name": "LayoutModel",
            "_view_count": null,
            "_view_module": "@jupyter-widgets/base",
            "_view_module_version": "1.2.0",
            "_view_name": "LayoutView",
            "align_content": null,
            "align_items": null,
            "align_self": null,
            "border": null,
            "bottom": null,
            "display": null,
            "flex": null,
            "flex_flow": null,
            "grid_area": null,
            "grid_auto_columns": null,
            "grid_auto_flow": null,
            "grid_auto_rows": null,
            "grid_column": null,
            "grid_gap": null,
            "grid_row": null,
            "grid_template_areas": null,
            "grid_template_columns": null,
            "grid_template_rows": null,
            "height": null,
            "justify_content": null,
            "justify_items": null,
            "left": null,
            "margin": null,
            "max_height": null,
            "max_width": null,
            "min_height": null,
            "min_width": null,
            "object_fit": null,
            "object_position": null,
            "order": null,
            "overflow": null,
            "overflow_x": null,
            "overflow_y": null,
            "padding": null,
            "right": null,
            "top": null,
            "visibility": null,
            "width": null
          }
        },
        "f37282e2d6064ee8ac80ae4c19983c92": {
          "model_module": "@jupyter-widgets/controls",
          "model_name": "DescriptionStyleModel",
          "model_module_version": "1.5.0",
          "state": {
            "_model_module": "@jupyter-widgets/controls",
            "_model_module_version": "1.5.0",
            "_model_name": "DescriptionStyleModel",
            "_view_count": null,
            "_view_module": "@jupyter-widgets/base",
            "_view_module_version": "1.2.0",
            "_view_name": "StyleView",
            "description_width": ""
          }
        },
        "f87d28650fde4be1957c9b44980ed632": {
          "model_module": "@jupyter-widgets/controls",
          "model_name": "HBoxModel",
          "model_module_version": "1.5.0",
          "state": {
            "_dom_classes": [],
            "_model_module": "@jupyter-widgets/controls",
            "_model_module_version": "1.5.0",
            "_model_name": "HBoxModel",
            "_view_count": null,
            "_view_module": "@jupyter-widgets/controls",
            "_view_module_version": "1.5.0",
            "_view_name": "HBoxView",
            "box_style": "",
            "children": [
              "IPY_MODEL_3c69d5151ee44b3e9d0d3c74c693e005",
              "IPY_MODEL_a6e2c6d470744c36abc1e9b2e03098d2",
              "IPY_MODEL_b513b455572946c2a7b5180a0fba9c52"
            ],
            "layout": "IPY_MODEL_4e37b22ded9e430b8032fc65a456823c"
          }
        },
        "3c69d5151ee44b3e9d0d3c74c693e005": {
          "model_module": "@jupyter-widgets/controls",
          "model_name": "HTMLModel",
          "model_module_version": "1.5.0",
          "state": {
            "_dom_classes": [],
            "_model_module": "@jupyter-widgets/controls",
            "_model_module_version": "1.5.0",
            "_model_name": "HTMLModel",
            "_view_count": null,
            "_view_module": "@jupyter-widgets/controls",
            "_view_module_version": "1.5.0",
            "_view_name": "HTMLView",
            "description": "",
            "description_tooltip": null,
            "layout": "IPY_MODEL_14bd9e7614f342b7a2f0a65de644f44c",
            "placeholder": "​",
            "style": "IPY_MODEL_fa6d9b15adb64b929cf4018612477c35",
            "value": ""
          }
        },
        "a6e2c6d470744c36abc1e9b2e03098d2": {
          "model_module": "@jupyter-widgets/controls",
          "model_name": "FloatProgressModel",
          "model_module_version": "1.5.0",
          "state": {
            "_dom_classes": [],
            "_model_module": "@jupyter-widgets/controls",
            "_model_module_version": "1.5.0",
            "_model_name": "FloatProgressModel",
            "_view_count": null,
            "_view_module": "@jupyter-widgets/controls",
            "_view_module_version": "1.5.0",
            "_view_name": "ProgressView",
            "bar_style": "success",
            "description": "",
            "description_tooltip": null,
            "layout": "IPY_MODEL_7fe2d203bc8140f0bc25a1bb6baed38e",
            "max": 4542,
            "min": 0,
            "orientation": "horizontal",
            "style": "IPY_MODEL_1f7365c0ee0844b9ac21d8427dc7cad4",
            "value": 4542
          }
        },
        "b513b455572946c2a7b5180a0fba9c52": {
          "model_module": "@jupyter-widgets/controls",
          "model_name": "HTMLModel",
          "model_module_version": "1.5.0",
          "state": {
            "_dom_classes": [],
            "_model_module": "@jupyter-widgets/controls",
            "_model_module_version": "1.5.0",
            "_model_name": "HTMLModel",
            "_view_count": null,
            "_view_module": "@jupyter-widgets/controls",
            "_view_module_version": "1.5.0",
            "_view_name": "HTMLView",
            "description": "",
            "description_tooltip": null,
            "layout": "IPY_MODEL_7a65fe9867154df5838ea87033fc4239",
            "placeholder": "​",
            "style": "IPY_MODEL_d5d559b0a29d41c28ac18a8dcd9b9656",
            "value": " 5120/? [00:00&lt;00:00, 100396.15it/s]"
          }
        },
        "4e37b22ded9e430b8032fc65a456823c": {
          "model_module": "@jupyter-widgets/base",
          "model_name": "LayoutModel",
          "model_module_version": "1.2.0",
          "state": {
            "_model_module": "@jupyter-widgets/base",
            "_model_module_version": "1.2.0",
            "_model_name": "LayoutModel",
            "_view_count": null,
            "_view_module": "@jupyter-widgets/base",
            "_view_module_version": "1.2.0",
            "_view_name": "LayoutView",
            "align_content": null,
            "align_items": null,
            "align_self": null,
            "border": null,
            "bottom": null,
            "display": null,
            "flex": null,
            "flex_flow": null,
            "grid_area": null,
            "grid_auto_columns": null,
            "grid_auto_flow": null,
            "grid_auto_rows": null,
            "grid_column": null,
            "grid_gap": null,
            "grid_row": null,
            "grid_template_areas": null,
            "grid_template_columns": null,
            "grid_template_rows": null,
            "height": null,
            "justify_content": null,
            "justify_items": null,
            "left": null,
            "margin": null,
            "max_height": null,
            "max_width": null,
            "min_height": null,
            "min_width": null,
            "object_fit": null,
            "object_position": null,
            "order": null,
            "overflow": null,
            "overflow_x": null,
            "overflow_y": null,
            "padding": null,
            "right": null,
            "top": null,
            "visibility": null,
            "width": null
          }
        },
        "14bd9e7614f342b7a2f0a65de644f44c": {
          "model_module": "@jupyter-widgets/base",
          "model_name": "LayoutModel",
          "model_module_version": "1.2.0",
          "state": {
            "_model_module": "@jupyter-widgets/base",
            "_model_module_version": "1.2.0",
            "_model_name": "LayoutModel",
            "_view_count": null,
            "_view_module": "@jupyter-widgets/base",
            "_view_module_version": "1.2.0",
            "_view_name": "LayoutView",
            "align_content": null,
            "align_items": null,
            "align_self": null,
            "border": null,
            "bottom": null,
            "display": null,
            "flex": null,
            "flex_flow": null,
            "grid_area": null,
            "grid_auto_columns": null,
            "grid_auto_flow": null,
            "grid_auto_rows": null,
            "grid_column": null,
            "grid_gap": null,
            "grid_row": null,
            "grid_template_areas": null,
            "grid_template_columns": null,
            "grid_template_rows": null,
            "height": null,
            "justify_content": null,
            "justify_items": null,
            "left": null,
            "margin": null,
            "max_height": null,
            "max_width": null,
            "min_height": null,
            "min_width": null,
            "object_fit": null,
            "object_position": null,
            "order": null,
            "overflow": null,
            "overflow_x": null,
            "overflow_y": null,
            "padding": null,
            "right": null,
            "top": null,
            "visibility": null,
            "width": null
          }
        },
        "fa6d9b15adb64b929cf4018612477c35": {
          "model_module": "@jupyter-widgets/controls",
          "model_name": "DescriptionStyleModel",
          "model_module_version": "1.5.0",
          "state": {
            "_model_module": "@jupyter-widgets/controls",
            "_model_module_version": "1.5.0",
            "_model_name": "DescriptionStyleModel",
            "_view_count": null,
            "_view_module": "@jupyter-widgets/base",
            "_view_module_version": "1.2.0",
            "_view_name": "StyleView",
            "description_width": ""
          }
        },
        "7fe2d203bc8140f0bc25a1bb6baed38e": {
          "model_module": "@jupyter-widgets/base",
          "model_name": "LayoutModel",
          "model_module_version": "1.2.0",
          "state": {
            "_model_module": "@jupyter-widgets/base",
            "_model_module_version": "1.2.0",
            "_model_name": "LayoutModel",
            "_view_count": null,
            "_view_module": "@jupyter-widgets/base",
            "_view_module_version": "1.2.0",
            "_view_name": "LayoutView",
            "align_content": null,
            "align_items": null,
            "align_self": null,
            "border": null,
            "bottom": null,
            "display": null,
            "flex": null,
            "flex_flow": null,
            "grid_area": null,
            "grid_auto_columns": null,
            "grid_auto_flow": null,
            "grid_auto_rows": null,
            "grid_column": null,
            "grid_gap": null,
            "grid_row": null,
            "grid_template_areas": null,
            "grid_template_columns": null,
            "grid_template_rows": null,
            "height": null,
            "justify_content": null,
            "justify_items": null,
            "left": null,
            "margin": null,
            "max_height": null,
            "max_width": null,
            "min_height": null,
            "min_width": null,
            "object_fit": null,
            "object_position": null,
            "order": null,
            "overflow": null,
            "overflow_x": null,
            "overflow_y": null,
            "padding": null,
            "right": null,
            "top": null,
            "visibility": null,
            "width": null
          }
        },
        "1f7365c0ee0844b9ac21d8427dc7cad4": {
          "model_module": "@jupyter-widgets/controls",
          "model_name": "ProgressStyleModel",
          "model_module_version": "1.5.0",
          "state": {
            "_model_module": "@jupyter-widgets/controls",
            "_model_module_version": "1.5.0",
            "_model_name": "ProgressStyleModel",
            "_view_count": null,
            "_view_module": "@jupyter-widgets/base",
            "_view_module_version": "1.2.0",
            "_view_name": "StyleView",
            "bar_color": null,
            "description_width": ""
          }
        },
        "7a65fe9867154df5838ea87033fc4239": {
          "model_module": "@jupyter-widgets/base",
          "model_name": "LayoutModel",
          "model_module_version": "1.2.0",
          "state": {
            "_model_module": "@jupyter-widgets/base",
            "_model_module_version": "1.2.0",
            "_model_name": "LayoutModel",
            "_view_count": null,
            "_view_module": "@jupyter-widgets/base",
            "_view_module_version": "1.2.0",
            "_view_name": "LayoutView",
            "align_content": null,
            "align_items": null,
            "align_self": null,
            "border": null,
            "bottom": null,
            "display": null,
            "flex": null,
            "flex_flow": null,
            "grid_area": null,
            "grid_auto_columns": null,
            "grid_auto_flow": null,
            "grid_auto_rows": null,
            "grid_column": null,
            "grid_gap": null,
            "grid_row": null,
            "grid_template_areas": null,
            "grid_template_columns": null,
            "grid_template_rows": null,
            "height": null,
            "justify_content": null,
            "justify_items": null,
            "left": null,
            "margin": null,
            "max_height": null,
            "max_width": null,
            "min_height": null,
            "min_width": null,
            "object_fit": null,
            "object_position": null,
            "order": null,
            "overflow": null,
            "overflow_x": null,
            "overflow_y": null,
            "padding": null,
            "right": null,
            "top": null,
            "visibility": null,
            "width": null
          }
        },
        "d5d559b0a29d41c28ac18a8dcd9b9656": {
          "model_module": "@jupyter-widgets/controls",
          "model_name": "DescriptionStyleModel",
          "model_module_version": "1.5.0",
          "state": {
            "_model_module": "@jupyter-widgets/controls",
            "_model_module_version": "1.5.0",
            "_model_name": "DescriptionStyleModel",
            "_view_count": null,
            "_view_module": "@jupyter-widgets/base",
            "_view_module_version": "1.2.0",
            "_view_name": "StyleView",
            "description_width": ""
          }
        },
        "2d429bd91027432498374db7e57db08c": {
          "model_module": "@jupyter-widgets/controls",
          "model_name": "HBoxModel",
          "model_module_version": "1.5.0",
          "state": {
            "_dom_classes": [],
            "_model_module": "@jupyter-widgets/controls",
            "_model_module_version": "1.5.0",
            "_model_name": "HBoxModel",
            "_view_count": null,
            "_view_module": "@jupyter-widgets/controls",
            "_view_module_version": "1.5.0",
            "_view_name": "HBoxView",
            "box_style": "",
            "children": [
              "IPY_MODEL_f0a9792cb4734407bb0368e6124fec1f",
              "IPY_MODEL_c92b732ef1fd48709080b54daab42753",
              "IPY_MODEL_d73b48b20a3440e39d53bd5bfd04ff90"
            ],
            "layout": "IPY_MODEL_07aa2e1d5fb749b8826a55ad35c532cd"
          }
        },
        "f0a9792cb4734407bb0368e6124fec1f": {
          "model_module": "@jupyter-widgets/controls",
          "model_name": "HTMLModel",
          "model_module_version": "1.5.0",
          "state": {
            "_dom_classes": [],
            "_model_module": "@jupyter-widgets/controls",
            "_model_module_version": "1.5.0",
            "_model_name": "HTMLModel",
            "_view_count": null,
            "_view_module": "@jupyter-widgets/controls",
            "_view_module_version": "1.5.0",
            "_view_name": "HTMLView",
            "description": "",
            "description_tooltip": null,
            "layout": "IPY_MODEL_55f9d2da0d9440839608ad9baab32de1",
            "placeholder": "​",
            "style": "IPY_MODEL_4f082a119b3d4c958febec88eed90a0c",
            "value": ""
          }
        },
        "c92b732ef1fd48709080b54daab42753": {
          "model_module": "@jupyter-widgets/controls",
          "model_name": "FloatProgressModel",
          "model_module_version": "1.5.0",
          "state": {
            "_dom_classes": [],
            "_model_module": "@jupyter-widgets/controls",
            "_model_module_version": "1.5.0",
            "_model_name": "FloatProgressModel",
            "_view_count": null,
            "_view_module": "@jupyter-widgets/controls",
            "_view_module_version": "1.5.0",
            "_view_name": "ProgressView",
            "bar_style": "success",
            "description": "",
            "description_tooltip": null,
            "layout": "IPY_MODEL_bbd44cc803834281a6e6a89a6fe3fb7e",
            "max": 170498071,
            "min": 0,
            "orientation": "horizontal",
            "style": "IPY_MODEL_2d157403695d45209abdd89681e0317c",
            "value": 170498071
          }
        },
        "d73b48b20a3440e39d53bd5bfd04ff90": {
          "model_module": "@jupyter-widgets/controls",
          "model_name": "HTMLModel",
          "model_module_version": "1.5.0",
          "state": {
            "_dom_classes": [],
            "_model_module": "@jupyter-widgets/controls",
            "_model_module_version": "1.5.0",
            "_model_name": "HTMLModel",
            "_view_count": null,
            "_view_module": "@jupyter-widgets/controls",
            "_view_module_version": "1.5.0",
            "_view_name": "HTMLView",
            "description": "",
            "description_tooltip": null,
            "layout": "IPY_MODEL_442c3563d5bd4b4680316617fd369ede",
            "placeholder": "​",
            "style": "IPY_MODEL_9107471543ac4f289c1dd6a6c416d163",
            "value": " 170499072/? [00:03&lt;00:00, 61213423.45it/s]"
          }
        },
        "07aa2e1d5fb749b8826a55ad35c532cd": {
          "model_module": "@jupyter-widgets/base",
          "model_name": "LayoutModel",
          "model_module_version": "1.2.0",
          "state": {
            "_model_module": "@jupyter-widgets/base",
            "_model_module_version": "1.2.0",
            "_model_name": "LayoutModel",
            "_view_count": null,
            "_view_module": "@jupyter-widgets/base",
            "_view_module_version": "1.2.0",
            "_view_name": "LayoutView",
            "align_content": null,
            "align_items": null,
            "align_self": null,
            "border": null,
            "bottom": null,
            "display": null,
            "flex": null,
            "flex_flow": null,
            "grid_area": null,
            "grid_auto_columns": null,
            "grid_auto_flow": null,
            "grid_auto_rows": null,
            "grid_column": null,
            "grid_gap": null,
            "grid_row": null,
            "grid_template_areas": null,
            "grid_template_columns": null,
            "grid_template_rows": null,
            "height": null,
            "justify_content": null,
            "justify_items": null,
            "left": null,
            "margin": null,
            "max_height": null,
            "max_width": null,
            "min_height": null,
            "min_width": null,
            "object_fit": null,
            "object_position": null,
            "order": null,
            "overflow": null,
            "overflow_x": null,
            "overflow_y": null,
            "padding": null,
            "right": null,
            "top": null,
            "visibility": null,
            "width": null
          }
        },
        "55f9d2da0d9440839608ad9baab32de1": {
          "model_module": "@jupyter-widgets/base",
          "model_name": "LayoutModel",
          "model_module_version": "1.2.0",
          "state": {
            "_model_module": "@jupyter-widgets/base",
            "_model_module_version": "1.2.0",
            "_model_name": "LayoutModel",
            "_view_count": null,
            "_view_module": "@jupyter-widgets/base",
            "_view_module_version": "1.2.0",
            "_view_name": "LayoutView",
            "align_content": null,
            "align_items": null,
            "align_self": null,
            "border": null,
            "bottom": null,
            "display": null,
            "flex": null,
            "flex_flow": null,
            "grid_area": null,
            "grid_auto_columns": null,
            "grid_auto_flow": null,
            "grid_auto_rows": null,
            "grid_column": null,
            "grid_gap": null,
            "grid_row": null,
            "grid_template_areas": null,
            "grid_template_columns": null,
            "grid_template_rows": null,
            "height": null,
            "justify_content": null,
            "justify_items": null,
            "left": null,
            "margin": null,
            "max_height": null,
            "max_width": null,
            "min_height": null,
            "min_width": null,
            "object_fit": null,
            "object_position": null,
            "order": null,
            "overflow": null,
            "overflow_x": null,
            "overflow_y": null,
            "padding": null,
            "right": null,
            "top": null,
            "visibility": null,
            "width": null
          }
        },
        "4f082a119b3d4c958febec88eed90a0c": {
          "model_module": "@jupyter-widgets/controls",
          "model_name": "DescriptionStyleModel",
          "model_module_version": "1.5.0",
          "state": {
            "_model_module": "@jupyter-widgets/controls",
            "_model_module_version": "1.5.0",
            "_model_name": "DescriptionStyleModel",
            "_view_count": null,
            "_view_module": "@jupyter-widgets/base",
            "_view_module_version": "1.2.0",
            "_view_name": "StyleView",
            "description_width": ""
          }
        },
        "bbd44cc803834281a6e6a89a6fe3fb7e": {
          "model_module": "@jupyter-widgets/base",
          "model_name": "LayoutModel",
          "model_module_version": "1.2.0",
          "state": {
            "_model_module": "@jupyter-widgets/base",
            "_model_module_version": "1.2.0",
            "_model_name": "LayoutModel",
            "_view_count": null,
            "_view_module": "@jupyter-widgets/base",
            "_view_module_version": "1.2.0",
            "_view_name": "LayoutView",
            "align_content": null,
            "align_items": null,
            "align_self": null,
            "border": null,
            "bottom": null,
            "display": null,
            "flex": null,
            "flex_flow": null,
            "grid_area": null,
            "grid_auto_columns": null,
            "grid_auto_flow": null,
            "grid_auto_rows": null,
            "grid_column": null,
            "grid_gap": null,
            "grid_row": null,
            "grid_template_areas": null,
            "grid_template_columns": null,
            "grid_template_rows": null,
            "height": null,
            "justify_content": null,
            "justify_items": null,
            "left": null,
            "margin": null,
            "max_height": null,
            "max_width": null,
            "min_height": null,
            "min_width": null,
            "object_fit": null,
            "object_position": null,
            "order": null,
            "overflow": null,
            "overflow_x": null,
            "overflow_y": null,
            "padding": null,
            "right": null,
            "top": null,
            "visibility": null,
            "width": null
          }
        },
        "2d157403695d45209abdd89681e0317c": {
          "model_module": "@jupyter-widgets/controls",
          "model_name": "ProgressStyleModel",
          "model_module_version": "1.5.0",
          "state": {
            "_model_module": "@jupyter-widgets/controls",
            "_model_module_version": "1.5.0",
            "_model_name": "ProgressStyleModel",
            "_view_count": null,
            "_view_module": "@jupyter-widgets/base",
            "_view_module_version": "1.2.0",
            "_view_name": "StyleView",
            "bar_color": null,
            "description_width": ""
          }
        },
        "442c3563d5bd4b4680316617fd369ede": {
          "model_module": "@jupyter-widgets/base",
          "model_name": "LayoutModel",
          "model_module_version": "1.2.0",
          "state": {
            "_model_module": "@jupyter-widgets/base",
            "_model_module_version": "1.2.0",
            "_model_name": "LayoutModel",
            "_view_count": null,
            "_view_module": "@jupyter-widgets/base",
            "_view_module_version": "1.2.0",
            "_view_name": "LayoutView",
            "align_content": null,
            "align_items": null,
            "align_self": null,
            "border": null,
            "bottom": null,
            "display": null,
            "flex": null,
            "flex_flow": null,
            "grid_area": null,
            "grid_auto_columns": null,
            "grid_auto_flow": null,
            "grid_auto_rows": null,
            "grid_column": null,
            "grid_gap": null,
            "grid_row": null,
            "grid_template_areas": null,
            "grid_template_columns": null,
            "grid_template_rows": null,
            "height": null,
            "justify_content": null,
            "justify_items": null,
            "left": null,
            "margin": null,
            "max_height": null,
            "max_width": null,
            "min_height": null,
            "min_width": null,
            "object_fit": null,
            "object_position": null,
            "order": null,
            "overflow": null,
            "overflow_x": null,
            "overflow_y": null,
            "padding": null,
            "right": null,
            "top": null,
            "visibility": null,
            "width": null
          }
        },
        "9107471543ac4f289c1dd6a6c416d163": {
          "model_module": "@jupyter-widgets/controls",
          "model_name": "DescriptionStyleModel",
          "model_module_version": "1.5.0",
          "state": {
            "_model_module": "@jupyter-widgets/controls",
            "_model_module_version": "1.5.0",
            "_model_name": "DescriptionStyleModel",
            "_view_count": null,
            "_view_module": "@jupyter-widgets/base",
            "_view_module_version": "1.2.0",
            "_view_name": "StyleView",
            "description_width": ""
          }
        }
      }
    }
  },
  "cells": [
    {
      "cell_type": "markdown",
      "metadata": {
        "id": "KkvwGmrLDX9B"
      },
      "source": [
        "#CS F425 Deep Learning Assignment 1\n",
        "\n",
        "By \n",
        "\n",
        ">Param Biyani (2019A7PS0059G) \n",
        "\n",
        ">Tanmay Devale (2019A7PS0066G)\n",
        "\n",
        ">Vishal Vivek Bharambe (2019A7PS0160G)\n",
        "\n",
        "Each member of the team showed equal contribution towards the assignment. \n",
        "\n",
        "Everyone contributed towards research, ideas, and implementation.\n"
      ]
    },
    {
      "cell_type": "markdown",
      "metadata": {
        "id": "Qe-Tn6LwpOc-"
      },
      "source": [
        "#Problem Statement\n",
        "\n",
        "In this assignment we will explore the impact of\n",
        "Skip Connections in Multi Layer Perceptron networks. Your tasks are to -\n",
        "1. Compare the performance of MLPs with skip connections to those without skip\n",
        "connections.\n",
        "2. Analyse multiple different types of skip connections (at least 2) and compare their\n",
        "performance.\n",
        "3. Perform ablation studies over different (at least 2) characteristics of skip connections\n",
        "(e.g. number of layers skipped) to see how this effects performance.\n",
        "4. BONUS: Attempt to explain, through an experiment of your own, why Skip Connections help or hurt.\n",
        "\n",
        "For training and performance evaluation in the above tasks use both CIFAR-10 and\n",
        "MNIST."
      ]
    },
    {
      "cell_type": "markdown",
      "metadata": {
        "id": "4WgKoyVt0Spb"
      },
      "source": [
        "##Setup"
      ]
    },
    {
      "cell_type": "code",
      "metadata": {
        "id": "s64hlYgGo_4R"
      },
      "source": [
        "import torch\n",
        "import numpy as np\n",
        "import matplotlib.pyplot as plt\n",
        "import torchvision"
      ],
      "execution_count": 67,
      "outputs": []
    },
    {
      "cell_type": "code",
      "metadata": {
        "colab": {
          "base_uri": "https://localhost:8080/"
        },
        "id": "3QJy_SswwdUp",
        "outputId": "4a77ff6b-307e-46aa-e622-acce4a930116"
      },
      "source": [
        "# UI related imports\n",
        "%pip install -U git+https://github.com/szagoruyko/pytorchviz.git@master\n",
        "!pip install hiddenlayer\n",
        "import hiddenlayer as hl\n",
        "from torchviz import make_dot, make_dot_from_trace\n",
        "from tqdm import tqdm\n",
        "from torchsummary import summary"
      ],
      "execution_count": null,
      "outputs": [
        {
          "name": "stdout",
          "output_type": "stream",
          "text": [
            "Collecting git+https://github.com/szagoruyko/pytorchviz.git@master\n",
            "  Cloning https://github.com/szagoruyko/pytorchviz.git (to revision master) to /tmp/pip-req-build-4h1ib3pw\n",
            "  Running command git clone -q https://github.com/szagoruyko/pytorchviz.git /tmp/pip-req-build-4h1ib3pw\n",
            "Requirement already satisfied: torch in /usr/local/lib/python3.7/dist-packages (from torchviz==0.0.2) (1.9.0+cu102)\n",
            "Requirement already satisfied: graphviz in /usr/local/lib/python3.7/dist-packages (from torchviz==0.0.2) (0.10.1)\n",
            "Requirement already satisfied: typing-extensions in /usr/local/lib/python3.7/dist-packages (from torch->torchviz==0.0.2) (3.7.4.3)\n",
            "Building wheels for collected packages: torchviz\n",
            "  Building wheel for torchviz (setup.py) ... \u001b[?25l\u001b[?25hdone\n",
            "  Created wheel for torchviz: filename=torchviz-0.0.2-py3-none-any.whl size=4991 sha256=5c058c81cde20e826a118dc7a1cc9d8ace7abb9993b44b8d6c7f1718291e875c\n",
            "  Stored in directory: /tmp/pip-ephem-wheel-cache-68p4ruqh/wheels/69/06/fd/652908d49c931cdcca96be3c727fb11ed777a3a62402210396\n",
            "Successfully built torchviz\n",
            "Installing collected packages: torchviz\n",
            "Successfully installed torchviz-0.0.2\n",
            "Collecting hiddenlayer\n",
            "  Downloading hiddenlayer-0.3-py3-none-any.whl (19 kB)\n",
            "Installing collected packages: hiddenlayer\n",
            "Successfully installed hiddenlayer-0.3\n"
          ]
        }
      ]
    },
    {
      "cell_type": "markdown",
      "metadata": {
        "id": "tYt4mAS1q-ia"
      },
      "source": [
        "Loading and flattening MNIST and CIFAR10 datasets"
      ]
    },
    {
      "cell_type": "code",
      "metadata": {
        "colab": {
          "base_uri": "https://localhost:8080/",
          "height": 566,
          "referenced_widgets": [
            "62605677abcb4fa3aec690ed35a3c41c",
            "9c1935c73d5541208c588e197c265da2",
            "a10027768910411393ef61820ea0804b",
            "3ff29763b3154879a17463a4a7adf4fb",
            "344c170e36dd40368da0687997aa3cd8",
            "dca31e8dad4040bbb17b9abe516e401c",
            "f841e40e15fb4579928e16e3205f2bd8",
            "aa30f239ea014768974a66da445f0a7f",
            "5ea59e67a7c042dcb8aa5d5ba2b75cdb",
            "8abaf9cac810429dabba98b0425ea517",
            "e1a8e440c5fb4a44b3334229963d1145",
            "90c4c04d9c2543339d41b66b0c824191",
            "5297db27ab4d487e929d4cce479ffeb9",
            "dd3afc579be8472f95f7656f5a6229d6",
            "6c6d310107fa4807a3d1dfeda9ad658b",
            "d3aaa952d63d4f3abf7aeacb4431b5ba",
            "1e42c068f54a4bccb00d25fc43e5b309",
            "527ddd87b03144728694df9d9146ca7a",
            "c419fc03b2314654995c19f6034a5ed4",
            "1e9894419a9c42039b22f1b7dc09ace1",
            "8bc12b146fc843e98ccfb8364baf7324",
            "798f5e2510694fb58585bdcc41e1f9b9",
            "2cfc81d1d32148618a6901918856bd4e",
            "b6a98b2e77b240378a5dd47375549aaa",
            "1aea7c4fb8a5414aa8e01989274f6764",
            "57eb85b06ca44723a341ab4902cfd811",
            "2d8dbb9aafe54fa485a91ba3915e252f",
            "ade01bfac9134350abf367a725a4b0b9",
            "9568e4f90b1c4e1fb39203ca35b891fe",
            "d873d22dbf874368bd1ce196d4b58759",
            "d583870ae58f4978ac164eaac1b2d617",
            "94798b365ea14f69b6835d0c87feb51b",
            "f37282e2d6064ee8ac80ae4c19983c92",
            "f87d28650fde4be1957c9b44980ed632",
            "3c69d5151ee44b3e9d0d3c74c693e005",
            "a6e2c6d470744c36abc1e9b2e03098d2",
            "b513b455572946c2a7b5180a0fba9c52",
            "4e37b22ded9e430b8032fc65a456823c",
            "14bd9e7614f342b7a2f0a65de644f44c",
            "fa6d9b15adb64b929cf4018612477c35",
            "7fe2d203bc8140f0bc25a1bb6baed38e",
            "1f7365c0ee0844b9ac21d8427dc7cad4",
            "7a65fe9867154df5838ea87033fc4239",
            "d5d559b0a29d41c28ac18a8dcd9b9656",
            "2d429bd91027432498374db7e57db08c",
            "f0a9792cb4734407bb0368e6124fec1f",
            "c92b732ef1fd48709080b54daab42753",
            "d73b48b20a3440e39d53bd5bfd04ff90",
            "07aa2e1d5fb749b8826a55ad35c532cd",
            "55f9d2da0d9440839608ad9baab32de1",
            "4f082a119b3d4c958febec88eed90a0c",
            "bbd44cc803834281a6e6a89a6fe3fb7e",
            "2d157403695d45209abdd89681e0317c",
            "442c3563d5bd4b4680316617fd369ede",
            "9107471543ac4f289c1dd6a6c416d163"
          ]
        },
        "id": "_REvhhD-qalq",
        "outputId": "4fe95bc7-208c-463b-b904-af0a62634e80"
      },
      "source": [
        "train_loader_MNIST = torch.utils.data.DataLoader(\n",
        "  torchvision.datasets.MNIST('/files/', train=True, download=True,\n",
        "                             transform=torchvision.transforms.Compose([\n",
        "                               torchvision.transforms.ToTensor(),torchvision.transforms.Lambda(lambda x: torch.flatten(x))\n",
        "                             ])),\n",
        "  batch_size=256, shuffle=True)\n",
        "test_loader_MNIST = torch.utils.data.DataLoader(\n",
        "  torchvision.datasets.MNIST('/files/', train=False, download=True,\n",
        "                             transform=torchvision.transforms.Compose([\n",
        "                               torchvision.transforms.ToTensor(),torchvision.transforms.Lambda(lambda x: torch.flatten(x))\n",
        "                             ])),\n",
        "  batch_size=256, shuffle=False)\n",
        "train_loader_CIFAR10 = torch.utils.data.DataLoader(\n",
        "    torchvision.datasets.CIFAR10('/files/', train=True, download=True,\n",
        "                             transform=torchvision.transforms.Compose([\n",
        "                               torchvision.transforms.ToTensor(),torchvision.transforms.Lambda(lambda x: torch.flatten(x))\n",
        "                             ])),\n",
        "  batch_size=256, shuffle=True)\n",
        "test_loader_CIFAR10 = torch.utils.data.DataLoader(\n",
        "  torchvision.datasets.CIFAR10('/files/', train=False, download=True,\n",
        "                             transform=torchvision.transforms.Compose([\n",
        "                               torchvision.transforms.ToTensor(),torchvision.transforms.Lambda(lambda x: torch.flatten(x))\n",
        "                             ])),\n",
        "  batch_size=256, shuffle=False)"
      ],
      "execution_count": null,
      "outputs": [
        {
          "name": "stdout",
          "output_type": "stream",
          "text": [
            "Downloading http://yann.lecun.com/exdb/mnist/train-images-idx3-ubyte.gz\n",
            "Downloading http://yann.lecun.com/exdb/mnist/train-images-idx3-ubyte.gz to /files/MNIST/raw/train-images-idx3-ubyte.gz\n"
          ]
        },
        {
          "data": {
            "application/vnd.jupyter.widget-view+json": {
              "model_id": "62605677abcb4fa3aec690ed35a3c41c",
              "version_major": 2,
              "version_minor": 0
            },
            "text/plain": [
              "  0%|          | 0/9912422 [00:00<?, ?it/s]"
            ]
          },
          "metadata": {},
          "output_type": "display_data"
        },
        {
          "name": "stdout",
          "output_type": "stream",
          "text": [
            "Extracting /files/MNIST/raw/train-images-idx3-ubyte.gz to /files/MNIST/raw\n",
            "\n",
            "Downloading http://yann.lecun.com/exdb/mnist/train-labels-idx1-ubyte.gz\n",
            "Downloading http://yann.lecun.com/exdb/mnist/train-labels-idx1-ubyte.gz to /files/MNIST/raw/train-labels-idx1-ubyte.gz\n"
          ]
        },
        {
          "data": {
            "application/vnd.jupyter.widget-view+json": {
              "model_id": "90c4c04d9c2543339d41b66b0c824191",
              "version_major": 2,
              "version_minor": 0
            },
            "text/plain": [
              "  0%|          | 0/28881 [00:00<?, ?it/s]"
            ]
          },
          "metadata": {},
          "output_type": "display_data"
        },
        {
          "name": "stdout",
          "output_type": "stream",
          "text": [
            "Extracting /files/MNIST/raw/train-labels-idx1-ubyte.gz to /files/MNIST/raw\n",
            "\n",
            "Downloading http://yann.lecun.com/exdb/mnist/t10k-images-idx3-ubyte.gz\n",
            "Downloading http://yann.lecun.com/exdb/mnist/t10k-images-idx3-ubyte.gz to /files/MNIST/raw/t10k-images-idx3-ubyte.gz\n"
          ]
        },
        {
          "data": {
            "application/vnd.jupyter.widget-view+json": {
              "model_id": "2cfc81d1d32148618a6901918856bd4e",
              "version_major": 2,
              "version_minor": 0
            },
            "text/plain": [
              "  0%|          | 0/1648877 [00:00<?, ?it/s]"
            ]
          },
          "metadata": {},
          "output_type": "display_data"
        },
        {
          "name": "stdout",
          "output_type": "stream",
          "text": [
            "Extracting /files/MNIST/raw/t10k-images-idx3-ubyte.gz to /files/MNIST/raw\n",
            "\n",
            "Downloading http://yann.lecun.com/exdb/mnist/t10k-labels-idx1-ubyte.gz\n",
            "Downloading http://yann.lecun.com/exdb/mnist/t10k-labels-idx1-ubyte.gz to /files/MNIST/raw/t10k-labels-idx1-ubyte.gz\n"
          ]
        },
        {
          "data": {
            "application/vnd.jupyter.widget-view+json": {
              "model_id": "f87d28650fde4be1957c9b44980ed632",
              "version_major": 2,
              "version_minor": 0
            },
            "text/plain": [
              "  0%|          | 0/4542 [00:00<?, ?it/s]"
            ]
          },
          "metadata": {},
          "output_type": "display_data"
        },
        {
          "name": "stdout",
          "output_type": "stream",
          "text": [
            "Extracting /files/MNIST/raw/t10k-labels-idx1-ubyte.gz to /files/MNIST/raw\n",
            "\n",
            "Downloading https://www.cs.toronto.edu/~kriz/cifar-10-python.tar.gz to /files/cifar-10-python.tar.gz\n"
          ]
        },
        {
          "name": "stderr",
          "output_type": "stream",
          "text": [
            "/usr/local/lib/python3.7/dist-packages/torchvision/datasets/mnist.py:498: UserWarning: The given NumPy array is not writeable, and PyTorch does not support non-writeable tensors. This means you can write to the underlying (supposedly non-writeable) NumPy array using the tensor. You may want to copy the array to protect its data or make it writeable before converting it to a tensor. This type of warning will be suppressed for the rest of this program. (Triggered internally at  /pytorch/torch/csrc/utils/tensor_numpy.cpp:180.)\n",
            "  return torch.from_numpy(parsed.astype(m[2], copy=False)).view(*s)\n"
          ]
        },
        {
          "data": {
            "application/vnd.jupyter.widget-view+json": {
              "model_id": "2d429bd91027432498374db7e57db08c",
              "version_major": 2,
              "version_minor": 0
            },
            "text/plain": [
              "  0%|          | 0/170498071 [00:00<?, ?it/s]"
            ]
          },
          "metadata": {},
          "output_type": "display_data"
        },
        {
          "name": "stdout",
          "output_type": "stream",
          "text": [
            "Extracting /files/cifar-10-python.tar.gz to /files/\n",
            "Files already downloaded and verified\n"
          ]
        }
      ]
    },
    {
      "cell_type": "markdown",
      "metadata": {
        "id": "hwVwyTlArETL"
      },
      "source": [
        "Setting Device to GPU if possible"
      ]
    },
    {
      "cell_type": "code",
      "metadata": {
        "colab": {
          "base_uri": "https://localhost:8080/"
        },
        "id": "sRT-KNGirFXT",
        "outputId": "19d28cb2-06d3-47c2-ea7b-a5becbe03fad"
      },
      "source": [
        "device = torch.device('cuda' if torch.cuda.is_available() else 'cpu')\n",
        "device"
      ],
      "execution_count": null,
      "outputs": [
        {
          "data": {
            "text/plain": [
              "device(type='cpu')"
            ]
          },
          "execution_count": 4,
          "metadata": {},
          "output_type": "execute_result"
        }
      ]
    },
    {
      "cell_type": "markdown",
      "metadata": {
        "id": "T2-B-YiZrZJi"
      },
      "source": [
        "Our accuracy calculating function. \n",
        "\n",
        "Takes in the model and the test loader file as input."
      ]
    },
    {
      "cell_type": "code",
      "metadata": {
        "id": "hIprN6SbrYnr"
      },
      "source": [
        "def get_val_acc(modelToGetFrom, test_loader):\n",
        "  correct,total = 0,0;\n",
        "  for images,labels in test_loader:\n",
        "    images = images.view(images.shape[0],-1).to(device)\n",
        "    labels = labels.to(device)\n",
        "    total += images.shape[0]\n",
        "    out = modelToGetFrom(images)\n",
        "    out = out.argmax(dim=1)\n",
        "    correct += sum(out==labels)\n",
        "  return correct/total"
      ],
      "execution_count": null,
      "outputs": []
    },
    {
      "cell_type": "markdown",
      "metadata": {
        "id": "WZvbiO4irtUG"
      },
      "source": [
        "#Trainer\n",
        "This is a function which can train the model for 20 epochs with a Cross Entropy Loss function, and Adam optimizer with learning rate of 0.0002.\n",
        "\n",
        "As there can be a GPU, you can have your torch.device as cuda, hence we might need to transfer the images and labels to the device as well."
      ]
    },
    {
      "cell_type": "code",
      "metadata": {
        "id": "HqYSl21Crpr0"
      },
      "source": [
        "def runner(model, train_loader, test_loader, learning_rate = 0.0002, criterion = torch.nn.CrossEntropyLoss()):\n",
        "\n",
        "  optimizer = torch.optim.Adam(model.parameters(), lr = learning_rate)\n",
        "  losslist = []\n",
        "  accuracies = []\n",
        "  curBest=0\n",
        "  for epoch in tqdm(range(20)):\n",
        "      running_loss = 0\n",
        "      for images, labels in train_loader:\n",
        "          images = images.to(device)\n",
        "    \n",
        "          # Training pass\n",
        "          optimizer.zero_grad()\n",
        "          \n",
        "          output = model(images)\n",
        "          labels = labels.to(device)\n",
        "          loss = criterion(output, labels)\n",
        "          \n",
        "          #This is where the model learns by backpropagating\n",
        "          loss.backward()\n",
        "          \n",
        "          #And optimizes its weights here\n",
        "          optimizer.step()\n",
        "          \n",
        "          running_loss += loss.item()\n",
        "      \n",
        "      val_acc =get_val_acc(model,test_loader)\n",
        "      \n",
        "      if (epoch+1) % 5 == 0:\n",
        "        print(\"Epoch {} - Training loss: {} - val_acc: {}\".format(epoch+1, running_loss/len(train_loader),val_acc))\n",
        "\n",
        "      # Recording Loss and Accuracy values\n",
        "      losslist.append(running_loss/len(train_loader))\n",
        "      accuracies.append(val_acc)\n",
        "\n",
        "  return losslist, accuracies"
      ],
      "execution_count": null,
      "outputs": []
    },
    {
      "cell_type": "markdown",
      "metadata": {
        "id": "JQaF6noh1BBi"
      },
      "source": [
        "Buffer variable images for UI purposes"
      ]
    },
    {
      "cell_type": "code",
      "metadata": {
        "id": "WOkq7eEow2ds"
      },
      "source": [
        "images,labels = next(iter(test_loader_CIFAR10))\n",
        "images = images.to(device)\n",
        "images = images.view(images.shape[0],-1)"
      ],
      "execution_count": null,
      "outputs": []
    },
    {
      "cell_type": "markdown",
      "metadata": {
        "id": "5dw_2T7MuUVw"
      },
      "source": [
        "# Part 1 - Comparing Skipped vs Classic MLP"
      ]
    },
    {
      "cell_type": "markdown",
      "metadata": {
        "id": "92d29926"
      },
      "source": [
        "### MLP Class\n",
        "This makes a normal MLP where a list of integers should be passed to the constructor including the input_size (i.e layers[0] ) . It has ReLU as it activation for all the layers except for the last layer which has softmax as its activation function to squeeze down all the values to probabilities."
      ]
    },
    {
      "cell_type": "code",
      "metadata": {
        "id": "ec2e3046"
      },
      "source": [
        "class MLP(torch.nn.Module):\n",
        "  \n",
        "    def __init__(self,layers):\n",
        "        super(MLP, self).__init__()\n",
        "        self.layers = layers\n",
        "        self.layerAction = torch.nn.ModuleList()\n",
        "        for i in range(len(layers)-1):\n",
        "          self.layerAction.append(torch.nn.Linear(layers[i],layers[i+1]))\n",
        "\n",
        "    def forward(self, x):\n",
        "        output = x\n",
        "        for i in range(len(self.layers) - 2):\n",
        "          output = self.layerAction[i](output)\n",
        "          output = torch.nn.functional.relu(output)\n",
        "        output = self.layerAction[len(self.layerAction)-1](output)\n",
        "        output = torch.nn.functional.softmax(output, dim=1)\n",
        "        return output"
      ],
      "execution_count": null,
      "outputs": []
    },
    {
      "cell_type": "markdown",
      "metadata": {
        "id": "aa4d0e7e"
      },
      "source": [
        "### Declaring and training the normal MLP with 13 layers\n"
      ]
    },
    {
      "cell_type": "code",
      "metadata": {
        "id": "mGuKYbedxBhe"
      },
      "source": [
        "mlp_mnist = MLP([784,256,256,256,256,128,128,128,128,64,64,64,64,10])\n",
        "mlp_mnist = mlp_mnist.to(device)"
      ],
      "execution_count": null,
      "outputs": []
    },
    {
      "cell_type": "code",
      "metadata": {
        "colab": {
          "base_uri": "https://localhost:8080/",
          "height": 175
        },
        "id": "mwZ9Q91ywT7Z",
        "outputId": "cb08a692-5c83-434a-af51-c507e1a26316"
      },
      "source": [
        "mlp_cifar = MLP([32*32*3,256,256,256,256,128,128,128,128,64,64,64,64,10])\n",
        "mlp_cifar = mlp_cifar.to(device)\n",
        "hl.build_graph(mlp_cifar, images)"
      ],
      "execution_count": null,
      "outputs": [
        {
          "data": {
            "image/svg+xml": "<?xml version=\"1.0\" encoding=\"UTF-8\" standalone=\"no\"?>\n<!DOCTYPE svg PUBLIC \"-//W3C//DTD SVG 1.1//EN\"\n \"http://www.w3.org/Graphics/SVG/1.1/DTD/svg11.dtd\">\n<!-- Generated by graphviz version 2.40.1 (20161225.0304)\n -->\n<!-- Title: %3 Pages: 1 -->\n<svg width=\"396pt\" height=\"116pt\"\n viewBox=\"0.00 0.00 396.00 116.00\" xmlns=\"http://www.w3.org/2000/svg\" xmlns:xlink=\"http://www.w3.org/1999/xlink\">\n<g id=\"graph0\" class=\"graph\" transform=\"scale(1 1) rotate(0) translate(72 80)\">\n<title>%3</title>\n<polygon fill=\"#ffffff\" stroke=\"transparent\" points=\"-72,36 -72,-80 324,-80 324,36 -72,36\"/>\n<!-- /outputs/51 -->\n<g id=\"node1\" class=\"node\">\n<title>/outputs/51</title>\n<polygon fill=\"#e8e8e8\" stroke=\"#000000\" points=\"162,-40 108,-40 108,-4 162,-4 162,-40\"/>\n<text text-anchor=\"start\" x=\"122\" y=\"-19\" font-family=\"Times\" font-size=\"10.00\" fill=\"#000000\">Linear</text>\n</g>\n<!-- /outputs/52 -->\n<g id=\"node2\" class=\"node\">\n<title>/outputs/52</title>\n<polygon fill=\"#e8e8e8\" stroke=\"#000000\" points=\"252,-40 198,-40 198,-4 252,-4 252,-40\"/>\n<text text-anchor=\"start\" x=\"208\" y=\"-19\" font-family=\"Times\" font-size=\"10.00\" fill=\"#000000\">Softmax</text>\n</g>\n<!-- /outputs/51&#45;&gt;/outputs/52 -->\n<g id=\"edge1\" class=\"edge\">\n<title>/outputs/51&#45;&gt;/outputs/52</title>\n<path fill=\"none\" stroke=\"#000000\" d=\"M162.003,-22C170.0277,-22 178.9665,-22 187.5309,-22\"/>\n<polygon fill=\"#000000\" stroke=\"#000000\" points=\"187.7051,-25.5001 197.705,-22 187.705,-18.5001 187.7051,-25.5001\"/>\n</g>\n<!-- 12963824963522448409 -->\n<g id=\"node3\" class=\"node\">\n<title>12963824963522448409</title>\n<polygon fill=\"#e8e8e8\" stroke=\"#000000\" points=\"72,-44 0,-44 0,0 72,0 72,-44\"/>\n<text text-anchor=\"start\" x=\"8\" y=\"-28\" font-family=\"Times\" font-size=\"10.00\" fill=\"#000000\">Linear &gt; Relu</text>\n<text text-anchor=\"start\" x=\"52\" y=\"-7\" font-family=\"Times\" font-size=\"10.00\" fill=\"#000000\">x12</text>\n</g>\n<!-- 12963824963522448409&#45;&gt;/outputs/51 -->\n<g id=\"edge2\" class=\"edge\">\n<title>12963824963522448409&#45;&gt;/outputs/51</title>\n<path fill=\"none\" stroke=\"#000000\" d=\"M72.0213,-22C80.3402,-22 89.2088,-22 97.5856,-22\"/>\n<polygon fill=\"#000000\" stroke=\"#000000\" points=\"97.8548,-25.5001 107.8547,-22 97.8547,-18.5001 97.8548,-25.5001\"/>\n</g>\n</g>\n</svg>\n",
            "text/plain": [
              "<hiddenlayer.graph.Graph at 0x7fb1b2a8e790>"
            ]
          },
          "execution_count": 10,
          "metadata": {},
          "output_type": "execute_result"
        }
      ]
    },
    {
      "cell_type": "markdown",
      "metadata": {
        "id": "d2yoRZH9xQZW"
      },
      "source": [
        "###Training for Unskipped"
      ]
    },
    {
      "cell_type": "code",
      "metadata": {
        "colab": {
          "base_uri": "https://localhost:8080/"
        },
        "id": "in95_oYaw4q8",
        "outputId": "6a1f5079-5ac3-42c9-ee46-04242cd7bc7a"
      },
      "source": [
        "# Training for MNIST\n",
        "unskipped_loss_mnist, unskipped_acc_mnist = runner(mlp_mnist, train_loader_MNIST, test_loader_MNIST)"
      ],
      "execution_count": null,
      "outputs": [
        {
          "name": "stderr",
          "output_type": "stream",
          "text": [
            " 25%|██▌       | 5/20 [01:11<03:34, 14.31s/it]"
          ]
        },
        {
          "name": "stdout",
          "output_type": "stream",
          "text": [
            "Epoch 5 - Training loss: 1.7648442963336377 - val_acc: 0.696399986743927\n"
          ]
        },
        {
          "name": "stderr",
          "output_type": "stream",
          "text": [
            " 50%|█████     | 10/20 [02:22<02:22, 14.23s/it]"
          ]
        },
        {
          "name": "stdout",
          "output_type": "stream",
          "text": [
            "Epoch 10 - Training loss: 1.7308791079419725 - val_acc: 0.7358999848365784\n"
          ]
        },
        {
          "name": "stderr",
          "output_type": "stream",
          "text": [
            " 75%|███████▌  | 15/20 [03:34<01:11, 14.32s/it]"
          ]
        },
        {
          "name": "stdout",
          "output_type": "stream",
          "text": [
            "Epoch 15 - Training loss: 1.7082270794726433 - val_acc: 0.754800021648407\n"
          ]
        },
        {
          "name": "stderr",
          "output_type": "stream",
          "text": [
            "100%|██████████| 20/20 [04:45<00:00, 14.26s/it]"
          ]
        },
        {
          "name": "stdout",
          "output_type": "stream",
          "text": [
            "Epoch 20 - Training loss: 1.650252561873578 - val_acc: 0.8145999908447266\n"
          ]
        },
        {
          "name": "stderr",
          "output_type": "stream",
          "text": [
            "\n"
          ]
        }
      ]
    },
    {
      "cell_type": "code",
      "metadata": {
        "colab": {
          "base_uri": "https://localhost:8080/"
        },
        "id": "3lEs_smxxHJY",
        "outputId": "26d45ade-b59e-4d59-c68a-d10b6a22f5cf"
      },
      "source": [
        "# Training for CIFAR10\n",
        "unskipped_loss_cifar, unskipped_acc_cifar = runner(mlp_cifar, train_loader_CIFAR10, test_loader_CIFAR10)"
      ],
      "execution_count": null,
      "outputs": [
        {
          "name": "stderr",
          "output_type": "stream",
          "text": [
            " 25%|██▌       | 5/20 [01:25<04:20, 17.38s/it]"
          ]
        },
        {
          "name": "stdout",
          "output_type": "stream",
          "text": [
            "Epoch 5 - Training loss: 2.184909153957756 - val_acc: 0.2768999934196472\n"
          ]
        },
        {
          "name": "stderr",
          "output_type": "stream",
          "text": [
            " 50%|█████     | 10/20 [02:54<02:57, 17.73s/it]"
          ]
        },
        {
          "name": "stdout",
          "output_type": "stream",
          "text": [
            "Epoch 10 - Training loss: 2.1402279454834607 - val_acc: 0.30489999055862427\n"
          ]
        },
        {
          "name": "stderr",
          "output_type": "stream",
          "text": [
            " 75%|███████▌  | 15/20 [04:22<01:28, 17.65s/it]"
          ]
        },
        {
          "name": "stdout",
          "output_type": "stream",
          "text": [
            "Epoch 15 - Training loss: 2.124809776033674 - val_acc: 0.31470000743865967\n"
          ]
        },
        {
          "name": "stderr",
          "output_type": "stream",
          "text": [
            "100%|██████████| 20/20 [05:52<00:00, 17.60s/it]"
          ]
        },
        {
          "name": "stdout",
          "output_type": "stream",
          "text": [
            "Epoch 20 - Training loss: 2.1024948808611654 - val_acc: 0.3303000032901764\n"
          ]
        },
        {
          "name": "stderr",
          "output_type": "stream",
          "text": [
            "\n"
          ]
        }
      ]
    },
    {
      "cell_type": "code",
      "metadata": {
        "id": "_WJxRl8Hx1Ah"
      },
      "source": [
        ""
      ],
      "execution_count": null,
      "outputs": []
    },
    {
      "cell_type": "markdown",
      "metadata": {
        "id": "65243425"
      },
      "source": [
        "### Making a MLP with Skip connections with similar layers to the MLP we training on above."
      ]
    },
    {
      "cell_type": "code",
      "metadata": {
        "id": "db0b9678"
      },
      "source": [
        "class MLP_skip_add(torch.nn.Module):\n",
        "  \n",
        "    def __init__(self,input_size):\n",
        "        super(MLP_skip_add, self).__init__()\n",
        "        self.fc1 = torch.nn.Linear(input_size,256)\n",
        "        self.fc2= torch.nn.Linear(256,256)\n",
        "        self.fc3 = torch.nn.Linear(256,256)\n",
        "        self.fc4 = torch.nn.Linear(256,256)\n",
        "        self.fc5 = torch.nn.Linear(256,128)\n",
        "        self.fc6 = torch.nn.Linear(128,128)\n",
        "        self.fc7 = torch.nn.Linear(128,128)\n",
        "        self.fc8 = torch.nn.Linear(128,128)\n",
        "        self.fc9 = torch.nn.Linear(128,64)\n",
        "        self.fc10 = torch.nn.Linear(64,64)\n",
        "        self.fc11 = torch.nn.Linear(64,64)\n",
        "        self.fc12 = torch.nn.Linear(64,64)\n",
        "        self.fc13 = torch.nn.Linear(64,10)\n",
        "\n",
        "    def forward(self, x):\n",
        "        output = x\n",
        "        output = torch.nn.functional.relu(self.fc1(output))\n",
        "        output = torch.nn.functional.relu(self.fc2(output))\n",
        "        res1 = output\n",
        "        output = torch.nn.functional.relu(self.fc3(output))\n",
        "        output = torch.nn.functional.relu(self.fc4(output))\n",
        "        output += res1\n",
        "        output = torch.nn.functional.relu(self.fc5(output))\n",
        "        output = torch.nn.functional.relu(self.fc6(output))\n",
        "        res2 = output\n",
        "        output = torch.nn.functional.relu(self.fc7(output))\n",
        "        output = torch.nn.functional.relu(self.fc8(output))\n",
        "        output += res2\n",
        "        output = torch.nn.functional.relu(self.fc9(output))\n",
        "        output = torch.nn.functional.relu(self.fc10(output))\n",
        "        res3 = output\n",
        "        output = torch.nn.functional.relu(self.fc11(output))\n",
        "        output = torch.nn.functional.relu(self.fc12(output))\n",
        "        output += res3\n",
        "        output = torch.nn.functional.softmax(self.fc13(output), dim = 1)\n",
        "        return output"
      ],
      "execution_count": null,
      "outputs": []
    },
    {
      "cell_type": "markdown",
      "metadata": {
        "id": "LX77mEEs0AK1"
      },
      "source": [
        "###Model Initialization\n"
      ]
    },
    {
      "cell_type": "code",
      "metadata": {
        "id": "9305e91e"
      },
      "source": [
        "mlp_skipper_mnist = MLP_skip_add(28*28*1)\n",
        "mlp_skipper_mnist = mlp_skipper_mnist.to(device)"
      ],
      "execution_count": null,
      "outputs": []
    },
    {
      "cell_type": "code",
      "metadata": {
        "colab": {
          "base_uri": "https://localhost:8080/",
          "height": 228
        },
        "id": "htj0IQIPyzzm",
        "outputId": "2bf754cf-893c-4a6c-8d5b-e11e3d6ee93c"
      },
      "source": [
        "mlp_skipper_cifar = MLP_skip_add(32*32*3)\n",
        "mlp_skipper_cifar = mlp_skipper_cifar.to(device)\n",
        "hl.build_graph(mlp_skipper_cifar, images)"
      ],
      "execution_count": null,
      "outputs": [
        {
          "data": {
            "image/svg+xml": "<?xml version=\"1.0\" encoding=\"UTF-8\" standalone=\"no\"?>\n<!DOCTYPE svg PUBLIC \"-//W3C//DTD SVG 1.1//EN\"\n \"http://www.w3.org/Graphics/SVG/1.1/DTD/svg11.dtd\">\n<!-- Generated by graphviz version 2.40.1 (20161225.0304)\n -->\n<!-- Title: %3 Pages: 1 -->\n<svg width=\"1206pt\" height=\"141pt\"\n viewBox=\"0.00 0.00 1206.00 141.00\" xmlns=\"http://www.w3.org/2000/svg\" xmlns:xlink=\"http://www.w3.org/1999/xlink\">\n<g id=\"graph0\" class=\"graph\" transform=\"scale(1 1) rotate(0) translate(72 105)\">\n<title>%3</title>\n<polygon fill=\"#ffffff\" stroke=\"transparent\" points=\"-72,36 -72,-105 1134,-105 1134,36 -72,36\"/>\n<!-- /outputs/35 -->\n<g id=\"node1\" class=\"node\">\n<title>/outputs/35</title>\n<polygon fill=\"#e8e8e8\" stroke=\"#000000\" points=\"270,-65 216,-65 216,-29 270,-29 270,-65\"/>\n<text text-anchor=\"start\" x=\"234\" y=\"-44\" font-family=\"Times\" font-size=\"10.00\" fill=\"#000000\">Add</text>\n</g>\n<!-- 15494819663806357695 -->\n<g id=\"node8\" class=\"node\">\n<title>15494819663806357695</title>\n<polygon fill=\"#e8e8e8\" stroke=\"#000000\" points=\"378,-69 306,-69 306,-25 378,-25 378,-69\"/>\n<text text-anchor=\"start\" x=\"314\" y=\"-53\" font-family=\"Times\" font-size=\"10.00\" fill=\"#000000\">Linear &gt; Relu</text>\n<text text-anchor=\"start\" x=\"363\" y=\"-32\" font-family=\"Times\" font-size=\"10.00\" fill=\"#000000\">x2</text>\n</g>\n<!-- /outputs/35&#45;&gt;15494819663806357695 -->\n<g id=\"edge6\" class=\"edge\">\n<title>/outputs/35&#45;&gt;15494819663806357695</title>\n<path fill=\"none\" stroke=\"#000000\" d=\"M270.0522,-47C277.9527,-47 286.8212,-47 295.5618,-47\"/>\n<polygon fill=\"#000000\" stroke=\"#000000\" points=\"295.6982,-50.5001 305.6982,-47 295.6982,-43.5001 295.6982,-50.5001\"/>\n</g>\n<!-- /outputs/44 -->\n<g id=\"node2\" class=\"node\">\n<title>/outputs/44</title>\n<polygon fill=\"#e8e8e8\" stroke=\"#000000\" points=\"576,-65 522,-65 522,-29 576,-29 576,-65\"/>\n<text text-anchor=\"start\" x=\"540\" y=\"-44\" font-family=\"Times\" font-size=\"10.00\" fill=\"#000000\">Add</text>\n</g>\n<!-- 15638488452848375454 -->\n<g id=\"node10\" class=\"node\">\n<title>15638488452848375454</title>\n<polygon fill=\"#e8e8e8\" stroke=\"#000000\" points=\"684,-69 612,-69 612,-25 684,-25 684,-69\"/>\n<text text-anchor=\"start\" x=\"620\" y=\"-53\" font-family=\"Times\" font-size=\"10.00\" fill=\"#000000\">Linear &gt; Relu</text>\n<text text-anchor=\"start\" x=\"669\" y=\"-32\" font-family=\"Times\" font-size=\"10.00\" fill=\"#000000\">x2</text>\n</g>\n<!-- /outputs/44&#45;&gt;15638488452848375454 -->\n<g id=\"edge10\" class=\"edge\">\n<title>/outputs/44&#45;&gt;15638488452848375454</title>\n<path fill=\"none\" stroke=\"#000000\" d=\"M576.0522,-47C583.9527,-47 592.8212,-47 601.5618,-47\"/>\n<polygon fill=\"#000000\" stroke=\"#000000\" points=\"601.6982,-50.5001 611.6982,-47 601.6982,-43.5001 601.6982,-50.5001\"/>\n</g>\n<!-- /outputs/53 -->\n<g id=\"node3\" class=\"node\">\n<title>/outputs/53</title>\n<polygon fill=\"#e8e8e8\" stroke=\"#000000\" points=\"882,-65 828,-65 828,-29 882,-29 882,-65\"/>\n<text text-anchor=\"start\" x=\"846\" y=\"-44\" font-family=\"Times\" font-size=\"10.00\" fill=\"#000000\">Add</text>\n</g>\n<!-- /outputs/54 -->\n<g id=\"node4\" class=\"node\">\n<title>/outputs/54</title>\n<polygon fill=\"#e8e8e8\" stroke=\"#000000\" points=\"972,-65 918,-65 918,-29 972,-29 972,-65\"/>\n<text text-anchor=\"start\" x=\"932\" y=\"-44\" font-family=\"Times\" font-size=\"10.00\" fill=\"#000000\">Linear</text>\n</g>\n<!-- /outputs/53&#45;&gt;/outputs/54 -->\n<g id=\"edge1\" class=\"edge\">\n<title>/outputs/53&#45;&gt;/outputs/54</title>\n<path fill=\"none\" stroke=\"#000000\" d=\"M882.003,-47C890.0277,-47 898.9665,-47 907.5309,-47\"/>\n<polygon fill=\"#000000\" stroke=\"#000000\" points=\"907.7051,-50.5001 917.705,-47 907.705,-43.5001 907.7051,-50.5001\"/>\n</g>\n<!-- /outputs/55 -->\n<g id=\"node5\" class=\"node\">\n<title>/outputs/55</title>\n<polygon fill=\"#e8e8e8\" stroke=\"#000000\" points=\"1062,-65 1008,-65 1008,-29 1062,-29 1062,-65\"/>\n<text text-anchor=\"start\" x=\"1018\" y=\"-44\" font-family=\"Times\" font-size=\"10.00\" fill=\"#000000\">Softmax</text>\n</g>\n<!-- /outputs/54&#45;&gt;/outputs/55 -->\n<g id=\"edge2\" class=\"edge\">\n<title>/outputs/54&#45;&gt;/outputs/55</title>\n<path fill=\"none\" stroke=\"#000000\" d=\"M972.003,-47C980.0277,-47 988.9665,-47 997.5309,-47\"/>\n<polygon fill=\"#000000\" stroke=\"#000000\" points=\"997.7051,-50.5001 1007.705,-47 997.705,-43.5001 997.7051,-50.5001\"/>\n</g>\n<!-- 15816126045668540641 -->\n<g id=\"node6\" class=\"node\">\n<title>15816126045668540641</title>\n<polygon fill=\"#e8e8e8\" stroke=\"#000000\" points=\"72,-69 0,-69 0,-25 72,-25 72,-69\"/>\n<text text-anchor=\"start\" x=\"8\" y=\"-53\" font-family=\"Times\" font-size=\"10.00\" fill=\"#000000\">Linear &gt; Relu</text>\n<text text-anchor=\"start\" x=\"57\" y=\"-32\" font-family=\"Times\" font-size=\"10.00\" fill=\"#000000\">x2</text>\n</g>\n<!-- 15816126045668540641&#45;&gt;/outputs/35 -->\n<g id=\"edge3\" class=\"edge\">\n<title>15816126045668540641&#45;&gt;/outputs/35</title>\n<path fill=\"none\" stroke=\"#000000\" d=\"M72.2222,-50.6102C83.6557,-51.5908 96.3448,-52.5152 108,-53 139.9724,-54.3299 148.0361,-54.5187 180,-53 188.3484,-52.6034 197.2982,-51.9126 205.7547,-51.1377\"/>\n<polygon fill=\"#000000\" stroke=\"#000000\" points=\"206.1377,-54.617 215.7516,-50.1647 205.4596,-47.6499 206.1377,-54.617\"/>\n</g>\n<!-- 7554946683819163052 -->\n<g id=\"node7\" class=\"node\">\n<title>7554946683819163052</title>\n<polygon fill=\"#e8e8e8\" stroke=\"#000000\" points=\"180,-44 108,-44 108,0 180,0 180,-44\"/>\n<text text-anchor=\"start\" x=\"116\" y=\"-28\" font-family=\"Times\" font-size=\"10.00\" fill=\"#000000\">Linear &gt; Relu</text>\n<text text-anchor=\"start\" x=\"165\" y=\"-7\" font-family=\"Times\" font-size=\"10.00\" fill=\"#000000\">x2</text>\n</g>\n<!-- 15816126045668540641&#45;&gt;7554946683819163052 -->\n<g id=\"edge4\" class=\"edge\">\n<title>15816126045668540641&#45;&gt;7554946683819163052</title>\n<path fill=\"none\" stroke=\"#000000\" d=\"M72.2629,-38.6058C80.4552,-36.7094 89.2602,-34.6712 97.7994,-32.6946\"/>\n<polygon fill=\"#000000\" stroke=\"#000000\" points=\"98.6959,-36.0797 107.649,-30.4146 97.1173,-29.26 98.6959,-36.0797\"/>\n</g>\n<!-- 7554946683819163052&#45;&gt;/outputs/35 -->\n<g id=\"edge5\" class=\"edge\">\n<title>7554946683819163052&#45;&gt;/outputs/35</title>\n<path fill=\"none\" stroke=\"#000000\" d=\"M180.0213,-31.0963C188.525,-33.2437 197.6032,-35.5362 206.1433,-37.6928\"/>\n<polygon fill=\"#000000\" stroke=\"#000000\" points=\"205.3021,-41.0901 215.8547,-40.1451 207.0161,-34.3032 205.3021,-41.0901\"/>\n</g>\n<!-- 15494819663806357695&#45;&gt;/outputs/44 -->\n<g id=\"edge7\" class=\"edge\">\n<title>15494819663806357695&#45;&gt;/outputs/44</title>\n<path fill=\"none\" stroke=\"#000000\" d=\"M378.2222,-50.6102C389.6557,-51.5908 402.3448,-52.5152 414,-53 445.9724,-54.3299 454.0361,-54.5187 486,-53 494.3484,-52.6034 503.2982,-51.9126 511.7547,-51.1377\"/>\n<polygon fill=\"#000000\" stroke=\"#000000\" points=\"512.1377,-54.617 521.7516,-50.1647 511.4596,-47.6499 512.1377,-54.617\"/>\n</g>\n<!-- 14830635536518311977 -->\n<g id=\"node9\" class=\"node\">\n<title>14830635536518311977</title>\n<polygon fill=\"#e8e8e8\" stroke=\"#000000\" points=\"486,-44 414,-44 414,0 486,0 486,-44\"/>\n<text text-anchor=\"start\" x=\"422\" y=\"-28\" font-family=\"Times\" font-size=\"10.00\" fill=\"#000000\">Linear &gt; Relu</text>\n<text text-anchor=\"start\" x=\"471\" y=\"-7\" font-family=\"Times\" font-size=\"10.00\" fill=\"#000000\">x2</text>\n</g>\n<!-- 15494819663806357695&#45;&gt;14830635536518311977 -->\n<g id=\"edge8\" class=\"edge\">\n<title>15494819663806357695&#45;&gt;14830635536518311977</title>\n<path fill=\"none\" stroke=\"#000000\" d=\"M378.2629,-38.6058C386.4552,-36.7094 395.2602,-34.6712 403.7994,-32.6946\"/>\n<polygon fill=\"#000000\" stroke=\"#000000\" points=\"404.6959,-36.0797 413.649,-30.4146 403.1173,-29.26 404.6959,-36.0797\"/>\n</g>\n<!-- 14830635536518311977&#45;&gt;/outputs/44 -->\n<g id=\"edge9\" class=\"edge\">\n<title>14830635536518311977&#45;&gt;/outputs/44</title>\n<path fill=\"none\" stroke=\"#000000\" d=\"M486.0213,-31.0963C494.525,-33.2437 503.6032,-35.5362 512.1433,-37.6928\"/>\n<polygon fill=\"#000000\" stroke=\"#000000\" points=\"511.3021,-41.0901 521.8547,-40.1451 513.0161,-34.3032 511.3021,-41.0901\"/>\n</g>\n<!-- 15638488452848375454&#45;&gt;/outputs/53 -->\n<g id=\"edge11\" class=\"edge\">\n<title>15638488452848375454&#45;&gt;/outputs/53</title>\n<path fill=\"none\" stroke=\"#000000\" d=\"M684.2222,-50.6102C695.6557,-51.5908 708.3448,-52.5152 720,-53 751.9724,-54.3299 760.0361,-54.5187 792,-53 800.3484,-52.6034 809.2982,-51.9126 817.7547,-51.1377\"/>\n<polygon fill=\"#000000\" stroke=\"#000000\" points=\"818.1377,-54.617 827.7516,-50.1647 817.4596,-47.6499 818.1377,-54.617\"/>\n</g>\n<!-- 5317022349658957391 -->\n<g id=\"node11\" class=\"node\">\n<title>5317022349658957391</title>\n<polygon fill=\"#e8e8e8\" stroke=\"#000000\" points=\"792,-44 720,-44 720,0 792,0 792,-44\"/>\n<text text-anchor=\"start\" x=\"728\" y=\"-28\" font-family=\"Times\" font-size=\"10.00\" fill=\"#000000\">Linear &gt; Relu</text>\n<text text-anchor=\"start\" x=\"777\" y=\"-7\" font-family=\"Times\" font-size=\"10.00\" fill=\"#000000\">x2</text>\n</g>\n<!-- 15638488452848375454&#45;&gt;5317022349658957391 -->\n<g id=\"edge12\" class=\"edge\">\n<title>15638488452848375454&#45;&gt;5317022349658957391</title>\n<path fill=\"none\" stroke=\"#000000\" d=\"M684.2629,-38.6058C692.4552,-36.7094 701.2602,-34.6712 709.7994,-32.6946\"/>\n<polygon fill=\"#000000\" stroke=\"#000000\" points=\"710.6959,-36.0797 719.649,-30.4146 709.1173,-29.26 710.6959,-36.0797\"/>\n</g>\n<!-- 5317022349658957391&#45;&gt;/outputs/53 -->\n<g id=\"edge13\" class=\"edge\">\n<title>5317022349658957391&#45;&gt;/outputs/53</title>\n<path fill=\"none\" stroke=\"#000000\" d=\"M792.0213,-31.0963C800.525,-33.2437 809.6032,-35.5362 818.1433,-37.6928\"/>\n<polygon fill=\"#000000\" stroke=\"#000000\" points=\"817.3021,-41.0901 827.8547,-40.1451 819.0161,-34.3032 817.3021,-41.0901\"/>\n</g>\n</g>\n</svg>\n",
            "text/plain": [
              "<hiddenlayer.graph.Graph at 0x7fb1b2fe7350>"
            ]
          },
          "execution_count": 15,
          "metadata": {},
          "output_type": "execute_result"
        }
      ]
    },
    {
      "cell_type": "markdown",
      "metadata": {
        "id": "_nrqiNiw0M7y"
      },
      "source": [
        "###Training for Skipped"
      ]
    },
    {
      "cell_type": "code",
      "metadata": {
        "colab": {
          "base_uri": "https://localhost:8080/"
        },
        "id": "7zRqptr80TrU",
        "outputId": "e0f6850a-f020-41c7-ec5d-9021f2c156ee"
      },
      "source": [
        "# Training for MNIST\n",
        "skipped_loss_mnist, skipped_acc_mnist = runner(mlp_skipper_mnist, train_loader_MNIST, test_loader_MNIST)"
      ],
      "execution_count": null,
      "outputs": [
        {
          "name": "stderr",
          "output_type": "stream",
          "text": [
            " 25%|██▌       | 5/20 [01:09<03:31, 14.07s/it]"
          ]
        },
        {
          "name": "stdout",
          "output_type": "stream",
          "text": [
            "Epoch 5 - Training loss: 1.6107843683121053 - val_acc: 0.8561000227928162\n"
          ]
        },
        {
          "name": "stderr",
          "output_type": "stream",
          "text": [
            " 50%|█████     | 10/20 [02:21<02:22, 14.28s/it]"
          ]
        },
        {
          "name": "stdout",
          "output_type": "stream",
          "text": [
            "Epoch 10 - Training loss: 1.5166422214913875 - val_acc: 0.9456999897956848\n"
          ]
        },
        {
          "name": "stderr",
          "output_type": "stream",
          "text": [
            " 75%|███████▌  | 15/20 [03:32<01:11, 14.20s/it]"
          ]
        },
        {
          "name": "stdout",
          "output_type": "stream",
          "text": [
            "Epoch 15 - Training loss: 1.4984861028955339 - val_acc: 0.9498999714851379\n"
          ]
        },
        {
          "name": "stderr",
          "output_type": "stream",
          "text": [
            "100%|██████████| 20/20 [04:43<00:00, 14.17s/it]"
          ]
        },
        {
          "name": "stdout",
          "output_type": "stream",
          "text": [
            "Epoch 20 - Training loss: 1.4913886151415237 - val_acc: 0.9631999731063843\n"
          ]
        },
        {
          "name": "stderr",
          "output_type": "stream",
          "text": [
            "\n"
          ]
        }
      ]
    },
    {
      "cell_type": "code",
      "metadata": {
        "colab": {
          "base_uri": "https://localhost:8080/"
        },
        "id": "gdd8U5sW0dWs",
        "outputId": "09132cce-4dac-43b1-c743-8c7ec9c05ee0"
      },
      "source": [
        "# Training for CIFAR10\n",
        "skipped_loss_cifar, skipped_acc_cifar = runner(mlp_skipper_cifar, train_loader_CIFAR10, test_loader_CIFAR10)"
      ],
      "execution_count": null,
      "outputs": [
        {
          "name": "stderr",
          "output_type": "stream",
          "text": [
            " 25%|██▌       | 5/20 [01:27<04:27, 17.82s/it]"
          ]
        },
        {
          "name": "stdout",
          "output_type": "stream",
          "text": [
            "Epoch 5 - Training loss: 2.1351085816110884 - val_acc: 0.3215000033378601\n"
          ]
        },
        {
          "name": "stderr",
          "output_type": "stream",
          "text": [
            " 50%|█████     | 10/20 [02:59<03:02, 18.24s/it]"
          ]
        },
        {
          "name": "stdout",
          "output_type": "stream",
          "text": [
            "Epoch 10 - Training loss: 2.0797773794252046 - val_acc: 0.36309999227523804\n"
          ]
        },
        {
          "name": "stderr",
          "output_type": "stream",
          "text": [
            " 75%|███████▌  | 15/20 [04:31<01:32, 18.51s/it]"
          ]
        },
        {
          "name": "stdout",
          "output_type": "stream",
          "text": [
            "Epoch 15 - Training loss: 2.0546304279444167 - val_acc: 0.4074999988079071\n"
          ]
        },
        {
          "name": "stderr",
          "output_type": "stream",
          "text": [
            "100%|██████████| 20/20 [06:02<00:00, 18.12s/it]"
          ]
        },
        {
          "name": "stdout",
          "output_type": "stream",
          "text": [
            "Epoch 20 - Training loss: 2.0278903385814355 - val_acc: 0.4189000129699707\n"
          ]
        },
        {
          "name": "stderr",
          "output_type": "stream",
          "text": [
            "\n"
          ]
        }
      ]
    },
    {
      "cell_type": "markdown",
      "metadata": {
        "id": "rM9_9DVu0jUA"
      },
      "source": [
        "##Comparison\n",
        "\n",
        "Plotting Accuracy and Loss for both MNIST and CIFAR10"
      ]
    },
    {
      "cell_type": "code",
      "metadata": {
        "colab": {
          "base_uri": "https://localhost:8080/",
          "height": 545
        },
        "id": "045d7893",
        "outputId": "3f851e3b-e5d6-41b3-c3e8-a5928c661170"
      },
      "source": [
        "plt.figure('Accuracy MNIST')\n",
        "plt.title('Accuracy MNIST')\n",
        "\n",
        "plt.plot([i.to(torch.device('cpu')).mul(100) for i in skipped_acc_mnist], label = 'Skipped')\n",
        "plt.plot([i.to(torch.device('cpu')).mul(100) for i in unskipped_acc_mnist], label = 'Unskipped')\n",
        "\n",
        "plt.xlim(0, 20)\n",
        "# plt.ylim(0, 100)\n",
        "plt.legend()\n",
        "plt.show()\n",
        "\n",
        "plt.figure('Loss MNIST')\n",
        "plt.title('Loss MNIST')\n",
        "\n",
        "plt.plot(skipped_loss_mnist, label = 'Skipped')\n",
        "plt.plot(unskipped_loss_mnist, label = 'Unskipped')\n",
        "\n",
        "plt.xlim(0, 20)\n",
        "\n",
        "plt.legend()\n",
        "plt.show()"
      ],
      "execution_count": null,
      "outputs": [
        {
          "data": {
            "image/png": "[encoded data removed]",
            "text/plain": [
              "<Figure size 432x288 with 1 Axes>"
            ]
          },
          "metadata": {},
          "output_type": "display_data"
        },
        {
          "data": {
            "image/png": "[encoded data removed]",
            "text/plain": [
              "<Figure size 432x288 with 1 Axes>"
            ]
          },
          "metadata": {},
          "output_type": "display_data"
        }
      ]
    },
    {
      "cell_type": "code",
      "metadata": {
        "colab": {
          "base_uri": "https://localhost:8080/",
          "height": 545
        },
        "id": "BMSzZ34A1P1u",
        "outputId": "e3dda474-5d1a-42f5-f21d-6bb3ac91883f"
      },
      "source": [
        "plt.figure('Accuracy CIFAR')\n",
        "plt.title('Accuracy CIFAR')\n",
        "\n",
        "plt.plot([i.to(torch.device('cpu')).mul(100) for i in skipped_acc_cifar], label = 'Skipped')\n",
        "plt.plot([i.to(torch.device('cpu')).mul(100) for i in unskipped_acc_cifar], label = 'Unskipped')\n",
        "\n",
        "plt.xlim(0, 20)\n",
        "# plt.ylim(0, 100)\n",
        "plt.legend()\n",
        "plt.show()\n",
        "\n",
        "plt.figure('Loss CIFAR')\n",
        "plt.title('Loss CIFAR')\n",
        "\n",
        "plt.plot(skipped_loss_cifar, label = 'Skipped')\n",
        "plt.plot(unskipped_loss_cifar, label = 'Unskipped')\n",
        "\n",
        "plt.xlim(0, 20)\n",
        "\n",
        "plt.legend()\n",
        "plt.show()"
      ],
      "execution_count": null,
      "outputs": [
        {
          "data": {
            "image/png": "[encoded data removed]",
            "text/plain": [
              "<Figure size 432x288 with 1 Axes>"
            ]
          },
          "metadata": {},
          "output_type": "display_data"
        },
        {
          "data": {
            "image/png": "[encoded data removed]",
            "text/plain": [
              "<Figure size 432x288 with 1 Axes>"
            ]
          },
          "metadata": {},
          "output_type": "display_data"
        }
      ]
    },
    {
      "cell_type": "markdown",
      "metadata": {
        "id": "p_bcicwC1-e8"
      },
      "source": [
        "##Observations\n",
        "\n",
        "Model with Skipped connections preforms much better in both Loss and Accuracy than Unskipped."
      ]
    },
    {
      "cell_type": "markdown",
      "metadata": {
        "id": "Qoa0ZH5U10JJ"
      },
      "source": [
        "# Part 2 - Analyse multiple different types of skip connections\n",
        "\n",
        "We have compared three types of skip connections:\n",
        "\n",
        "- Type 1 - Simple Additive Summation - The output of a previous layer is added to the output of a following deeper layer. These can be applied over layers with same size.\n",
        "- Type 2 - Concatenation    - Here the vectors are concatenated and passed onto further layers.\n",
        "- Type 3 - Projection + Summation  - This is a similar type to Type 1 but here we can have a connection between layers with different size too, which can be done by having a learnable matrix W in the skip connection so that the skip vector V is multiplied to W to get a projection in smaller number of dimensions and can be used.\n",
        "\n",
        "We have already shown Type 1 in Part 1. \n",
        "\n",
        "We train the Type 2 and a combination of Type 1 and Type 3 here, and compare the three experiments."
      ]
    },
    {
      "cell_type": "markdown",
      "metadata": {
        "id": "Mt2birxY3pvC"
      },
      "source": [
        "### Declaring Model Classes"
      ]
    },
    {
      "cell_type": "code",
      "metadata": {
        "id": "cIYi-MiA3EOD"
      },
      "source": [
        "class MLP_Skip_Concat(torch.nn.Module):\n",
        "  \n",
        "    def __init__(self,input_size):\n",
        "        super(MLP_Skip_Concat, self).__init__()\n",
        "        self.fc1 = torch.nn.Linear(input_size,256)\n",
        "        self.fc2 = torch.nn.Linear(256,256)\n",
        "        self.fc3 = torch.nn.Linear(256,256)\n",
        "        self.fc4 = torch.nn.Linear(256,256)\n",
        "        self.fc5 = torch.nn.Linear(512,128)\n",
        "        self.fc6 = torch.nn.Linear(128,128)\n",
        "        self.fc7 = torch.nn.Linear(128,128)\n",
        "        self.fc8 = torch.nn.Linear(128,128)\n",
        "        self.fc9 = torch.nn.Linear(256,64)\n",
        "        self.fc10 = torch.nn.Linear(64,64)\n",
        "        self.fc11 = torch.nn.Linear(64,64)\n",
        "        self.fc12 = torch.nn.Linear(64,64)\n",
        "        self.fc13 = torch.nn.Linear(128,10)\n",
        "\n",
        "    def forward(self, x):\n",
        "        output = x\n",
        "        output = torch.nn.functional.relu(self.fc1(output))\n",
        "        output = torch.nn.functional.relu(self.fc2(output))\n",
        "        res1 = output\n",
        "        output = torch.nn.functional.relu(self.fc3(output))\n",
        "        output = torch.nn.functional.relu(self.fc4(output))\n",
        "        output = torch.cat((output,res1), 1)\n",
        "        output = torch.nn.functional.relu(self.fc5(output))\n",
        "        output = torch.nn.functional.relu(self.fc6(output))\n",
        "        res2 = output\n",
        "        output = torch.nn.functional.relu(self.fc7(output))\n",
        "        output = torch.nn.functional.relu(self.fc8(output))\n",
        "        output = torch.cat((output,res2), 1)\n",
        "        output = torch.nn.functional.relu(self.fc9(output))\n",
        "        output = torch.nn.functional.relu(self.fc10(output))\n",
        "        res3 = output\n",
        "        output = torch.nn.functional.relu(self.fc11(output))\n",
        "        output = torch.nn.functional.relu(self.fc12(output))\n",
        "        output = torch.cat((output,res3), 1)\n",
        "        output = torch.nn.functional.softmax(self.fc13(output))\n",
        "        return output"
      ],
      "execution_count": null,
      "outputs": []
    },
    {
      "cell_type": "code",
      "metadata": {
        "id": "DY4u2vmg4qs_"
      },
      "source": [
        "class MLP_Skip_Hybrid(torch.nn.Module):\n",
        "  \n",
        "    def __init__(self, input_size):\n",
        "        super(MLP_Skip_Hybrid, self).__init__()\n",
        "        self.fc1 = torch.nn.Linear(input_size,256)\n",
        "        self.fc2= torch.nn.Linear(256,256)\n",
        "        self.fc3 = torch.nn.Linear(256,256)\n",
        "        self.fc4 = torch.nn.Linear(256,256)\n",
        "        self.fc5 = torch.nn.Linear(256,128)\n",
        "        self.fc6 = torch.nn.Linear(128,128)\n",
        "        self.fc7 = torch.nn.Linear(128,128)\n",
        "        self.fc8 = torch.nn.Linear(128,128)\n",
        "        self.fc9 = torch.nn.Linear(128,64)\n",
        "        self.fc10 = torch.nn.Linear(64,64)\n",
        "        self.fc11 = torch.nn.Linear(64,64)\n",
        "        self.fc12 = torch.nn.Linear(64,64)\n",
        "        self.fc13 = torch.nn.Linear(64,10)\n",
        "        self.residualConnection1= torch.nn.Linear(256,128,bias=False)\n",
        "        self.residualConnection2= torch.nn.Linear(128,64,bias=False)\n",
        "    def forward(self, x):\n",
        "        output = x\n",
        "        output = torch.nn.functional.relu(self.fc1(output))\n",
        "        output = torch.nn.functional.relu(self.fc2(output))\n",
        "        residueTypeI1 = output\n",
        "        output = torch.nn.functional.relu(self.fc3(output))\n",
        "        output = torch.nn.functional.relu(self.fc4(output))\n",
        "        output = output + residueTypeI1\n",
        "        residueTypeII1 = torch.nn.functional.relu(self.residualConnection1(output)) \n",
        "        output = torch.nn.functional.relu(self.fc5(output))\n",
        "        output = torch.nn.functional.relu(self.fc6(output))\n",
        "        output = output+residueTypeII1\n",
        "        residueTypeI2 = output\n",
        "        output = torch.nn.functional.relu(self.fc7(output))\n",
        "        output = torch.nn.functional.relu(self.fc8(output))\n",
        "        output = output + residueTypeI2\n",
        "        residueTypeII2 = torch.nn.functional.relu(self.residualConnection2(output))\n",
        "        output = torch.nn.functional.relu(self.fc9(output+residueTypeI2))\n",
        "        output = torch.nn.functional.relu(self.fc10(output))\n",
        "        output = output+ residueTypeII2\n",
        "        residueTypeI3 = output\n",
        "        output = torch.nn.functional.relu(self.fc11(output))\n",
        "        output = torch.nn.functional.relu(self.fc12(output))\n",
        "        \n",
        "        output = torch.nn.functional.softmax(self.fc13(output+residueTypeI3), dim = 1)\n",
        "        return output"
      ],
      "execution_count": null,
      "outputs": []
    },
    {
      "cell_type": "markdown",
      "metadata": {
        "id": "h1SlZcJF5CPz"
      },
      "source": [
        "###Initializing Concatenated Skip Connections"
      ]
    },
    {
      "cell_type": "code",
      "metadata": {
        "id": "YOylAYST3JrE"
      },
      "source": [
        "skipper_concat_mnist = MLP_Skip_Concat(28*28*1)\n",
        "skipper_concat_mnist = skipper_concat_mnist.to(device)"
      ],
      "execution_count": null,
      "outputs": []
    },
    {
      "cell_type": "code",
      "metadata": {
        "colab": {
          "base_uri": "https://localhost:8080/",
          "height": 246
        },
        "id": "wRnmklTP3tEj",
        "outputId": "28567f58-648a-4b35-f325-b9e2c38d222d"
      },
      "source": [
        "skipper_concat_cifar = MLP_Skip_Concat(32*32*3)\n",
        "skipper_concat_cifar = skipper_concat_cifar.to(device)\n",
        "hl.build_graph(skipper_concat_cifar, images)"
      ],
      "execution_count": null,
      "outputs": [
        {
          "name": "stderr",
          "output_type": "stream",
          "text": [
            "/usr/local/lib/python3.7/dist-packages/ipykernel_launcher.py:39: UserWarning: Implicit dimension choice for softmax has been deprecated. Change the call to include dim=X as an argument.\n"
          ]
        },
        {
          "data": {
            "image/svg+xml": "<?xml version=\"1.0\" encoding=\"UTF-8\" standalone=\"no\"?>\n<!DOCTYPE svg PUBLIC \"-//W3C//DTD SVG 1.1//EN\"\n \"http://www.w3.org/Graphics/SVG/1.1/DTD/svg11.dtd\">\n<!-- Generated by graphviz version 2.40.1 (20161225.0304)\n -->\n<!-- Title: %3 Pages: 1 -->\n<svg width=\"1206pt\" height=\"141pt\"\n viewBox=\"0.00 0.00 1206.00 141.00\" xmlns=\"http://www.w3.org/2000/svg\" xmlns:xlink=\"http://www.w3.org/1999/xlink\">\n<g id=\"graph0\" class=\"graph\" transform=\"scale(1 1) rotate(0) translate(72 105)\">\n<title>%3</title>\n<polygon fill=\"#ffffff\" stroke=\"transparent\" points=\"-72,36 -72,-105 1134,-105 1134,36 -72,36\"/>\n<!-- /outputs/35 -->\n<g id=\"node1\" class=\"node\">\n<title>/outputs/35</title>\n<polygon fill=\"#e8e8e8\" stroke=\"#000000\" points=\"270,-65 216,-65 216,-29 270,-29 270,-65\"/>\n<text text-anchor=\"start\" x=\"228\" y=\"-44\" font-family=\"Times\" font-size=\"10.00\" fill=\"#000000\">Concat</text>\n</g>\n<!-- 12573331521753780485 -->\n<g id=\"node8\" class=\"node\">\n<title>12573331521753780485</title>\n<polygon fill=\"#e8e8e8\" stroke=\"#000000\" points=\"378,-69 306,-69 306,-25 378,-25 378,-69\"/>\n<text text-anchor=\"start\" x=\"314\" y=\"-53\" font-family=\"Times\" font-size=\"10.00\" fill=\"#000000\">Linear &gt; Relu</text>\n<text text-anchor=\"start\" x=\"363\" y=\"-32\" font-family=\"Times\" font-size=\"10.00\" fill=\"#000000\">x2</text>\n</g>\n<!-- /outputs/35&#45;&gt;12573331521753780485 -->\n<g id=\"edge6\" class=\"edge\">\n<title>/outputs/35&#45;&gt;12573331521753780485</title>\n<path fill=\"none\" stroke=\"#000000\" d=\"M270.0522,-47C277.9527,-47 286.8212,-47 295.5618,-47\"/>\n<polygon fill=\"#000000\" stroke=\"#000000\" points=\"295.6982,-50.5001 305.6982,-47 295.6982,-43.5001 295.6982,-50.5001\"/>\n</g>\n<!-- /outputs/44 -->\n<g id=\"node2\" class=\"node\">\n<title>/outputs/44</title>\n<polygon fill=\"#e8e8e8\" stroke=\"#000000\" points=\"576,-65 522,-65 522,-29 576,-29 576,-65\"/>\n<text text-anchor=\"start\" x=\"534\" y=\"-44\" font-family=\"Times\" font-size=\"10.00\" fill=\"#000000\">Concat</text>\n</g>\n<!-- 8961429132650934021 -->\n<g id=\"node10\" class=\"node\">\n<title>8961429132650934021</title>\n<polygon fill=\"#e8e8e8\" stroke=\"#000000\" points=\"684,-69 612,-69 612,-25 684,-25 684,-69\"/>\n<text text-anchor=\"start\" x=\"620\" y=\"-53\" font-family=\"Times\" font-size=\"10.00\" fill=\"#000000\">Linear &gt; Relu</text>\n<text text-anchor=\"start\" x=\"669\" y=\"-32\" font-family=\"Times\" font-size=\"10.00\" fill=\"#000000\">x2</text>\n</g>\n<!-- /outputs/44&#45;&gt;8961429132650934021 -->\n<g id=\"edge10\" class=\"edge\">\n<title>/outputs/44&#45;&gt;8961429132650934021</title>\n<path fill=\"none\" stroke=\"#000000\" d=\"M576.0522,-47C583.9527,-47 592.8212,-47 601.5618,-47\"/>\n<polygon fill=\"#000000\" stroke=\"#000000\" points=\"601.6982,-50.5001 611.6982,-47 601.6982,-43.5001 601.6982,-50.5001\"/>\n</g>\n<!-- /outputs/53 -->\n<g id=\"node3\" class=\"node\">\n<title>/outputs/53</title>\n<polygon fill=\"#e8e8e8\" stroke=\"#000000\" points=\"882,-65 828,-65 828,-29 882,-29 882,-65\"/>\n<text text-anchor=\"start\" x=\"840\" y=\"-44\" font-family=\"Times\" font-size=\"10.00\" fill=\"#000000\">Concat</text>\n</g>\n<!-- /outputs/54 -->\n<g id=\"node4\" class=\"node\">\n<title>/outputs/54</title>\n<polygon fill=\"#e8e8e8\" stroke=\"#000000\" points=\"972,-65 918,-65 918,-29 972,-29 972,-65\"/>\n<text text-anchor=\"start\" x=\"932\" y=\"-44\" font-family=\"Times\" font-size=\"10.00\" fill=\"#000000\">Linear</text>\n</g>\n<!-- /outputs/53&#45;&gt;/outputs/54 -->\n<g id=\"edge1\" class=\"edge\">\n<title>/outputs/53&#45;&gt;/outputs/54</title>\n<path fill=\"none\" stroke=\"#000000\" d=\"M882.003,-47C890.0277,-47 898.9665,-47 907.5309,-47\"/>\n<polygon fill=\"#000000\" stroke=\"#000000\" points=\"907.7051,-50.5001 917.705,-47 907.705,-43.5001 907.7051,-50.5001\"/>\n</g>\n<!-- /outputs/55 -->\n<g id=\"node5\" class=\"node\">\n<title>/outputs/55</title>\n<polygon fill=\"#e8e8e8\" stroke=\"#000000\" points=\"1062,-65 1008,-65 1008,-29 1062,-29 1062,-65\"/>\n<text text-anchor=\"start\" x=\"1018\" y=\"-44\" font-family=\"Times\" font-size=\"10.00\" fill=\"#000000\">Softmax</text>\n</g>\n<!-- /outputs/54&#45;&gt;/outputs/55 -->\n<g id=\"edge2\" class=\"edge\">\n<title>/outputs/54&#45;&gt;/outputs/55</title>\n<path fill=\"none\" stroke=\"#000000\" d=\"M972.003,-47C980.0277,-47 988.9665,-47 997.5309,-47\"/>\n<polygon fill=\"#000000\" stroke=\"#000000\" points=\"997.7051,-50.5001 1007.705,-47 997.705,-43.5001 997.7051,-50.5001\"/>\n</g>\n<!-- 12122230503315197450 -->\n<g id=\"node6\" class=\"node\">\n<title>12122230503315197450</title>\n<polygon fill=\"#e8e8e8\" stroke=\"#000000\" points=\"72,-69 0,-69 0,-25 72,-25 72,-69\"/>\n<text text-anchor=\"start\" x=\"8\" y=\"-53\" font-family=\"Times\" font-size=\"10.00\" fill=\"#000000\">Linear &gt; Relu</text>\n<text text-anchor=\"start\" x=\"57\" y=\"-32\" font-family=\"Times\" font-size=\"10.00\" fill=\"#000000\">x2</text>\n</g>\n<!-- 12122230503315197450&#45;&gt;/outputs/35 -->\n<g id=\"edge3\" class=\"edge\">\n<title>12122230503315197450&#45;&gt;/outputs/35</title>\n<path fill=\"none\" stroke=\"#000000\" d=\"M72.2222,-50.6102C83.6557,-51.5908 96.3448,-52.5152 108,-53 139.9724,-54.3299 148.0361,-54.5187 180,-53 188.3484,-52.6034 197.2982,-51.9126 205.7547,-51.1377\"/>\n<polygon fill=\"#000000\" stroke=\"#000000\" points=\"206.1377,-54.617 215.7516,-50.1647 205.4596,-47.6499 206.1377,-54.617\"/>\n</g>\n<!-- 4193716615791335642 -->\n<g id=\"node7\" class=\"node\">\n<title>4193716615791335642</title>\n<polygon fill=\"#e8e8e8\" stroke=\"#000000\" points=\"180,-44 108,-44 108,0 180,0 180,-44\"/>\n<text text-anchor=\"start\" x=\"116\" y=\"-28\" font-family=\"Times\" font-size=\"10.00\" fill=\"#000000\">Linear &gt; Relu</text>\n<text text-anchor=\"start\" x=\"165\" y=\"-7\" font-family=\"Times\" font-size=\"10.00\" fill=\"#000000\">x2</text>\n</g>\n<!-- 12122230503315197450&#45;&gt;4193716615791335642 -->\n<g id=\"edge4\" class=\"edge\">\n<title>12122230503315197450&#45;&gt;4193716615791335642</title>\n<path fill=\"none\" stroke=\"#000000\" d=\"M72.2629,-38.6058C80.4552,-36.7094 89.2602,-34.6712 97.7994,-32.6946\"/>\n<polygon fill=\"#000000\" stroke=\"#000000\" points=\"98.6959,-36.0797 107.649,-30.4146 97.1173,-29.26 98.6959,-36.0797\"/>\n</g>\n<!-- 4193716615791335642&#45;&gt;/outputs/35 -->\n<g id=\"edge5\" class=\"edge\">\n<title>4193716615791335642&#45;&gt;/outputs/35</title>\n<path fill=\"none\" stroke=\"#000000\" d=\"M180.0213,-31.0963C188.525,-33.2437 197.6032,-35.5362 206.1433,-37.6928\"/>\n<polygon fill=\"#000000\" stroke=\"#000000\" points=\"205.3021,-41.0901 215.8547,-40.1451 207.0161,-34.3032 205.3021,-41.0901\"/>\n</g>\n<!-- 12573331521753780485&#45;&gt;/outputs/44 -->\n<g id=\"edge7\" class=\"edge\">\n<title>12573331521753780485&#45;&gt;/outputs/44</title>\n<path fill=\"none\" stroke=\"#000000\" d=\"M378.2222,-50.6102C389.6557,-51.5908 402.3448,-52.5152 414,-53 445.9724,-54.3299 454.0361,-54.5187 486,-53 494.3484,-52.6034 503.2982,-51.9126 511.7547,-51.1377\"/>\n<polygon fill=\"#000000\" stroke=\"#000000\" points=\"512.1377,-54.617 521.7516,-50.1647 511.4596,-47.6499 512.1377,-54.617\"/>\n</g>\n<!-- 3646715463718794089 -->\n<g id=\"node9\" class=\"node\">\n<title>3646715463718794089</title>\n<polygon fill=\"#e8e8e8\" stroke=\"#000000\" points=\"486,-44 414,-44 414,0 486,0 486,-44\"/>\n<text text-anchor=\"start\" x=\"422\" y=\"-28\" font-family=\"Times\" font-size=\"10.00\" fill=\"#000000\">Linear &gt; Relu</text>\n<text text-anchor=\"start\" x=\"471\" y=\"-7\" font-family=\"Times\" font-size=\"10.00\" fill=\"#000000\">x2</text>\n</g>\n<!-- 12573331521753780485&#45;&gt;3646715463718794089 -->\n<g id=\"edge8\" class=\"edge\">\n<title>12573331521753780485&#45;&gt;3646715463718794089</title>\n<path fill=\"none\" stroke=\"#000000\" d=\"M378.2629,-38.6058C386.4552,-36.7094 395.2602,-34.6712 403.7994,-32.6946\"/>\n<polygon fill=\"#000000\" stroke=\"#000000\" points=\"404.6959,-36.0797 413.649,-30.4146 403.1173,-29.26 404.6959,-36.0797\"/>\n</g>\n<!-- 3646715463718794089&#45;&gt;/outputs/44 -->\n<g id=\"edge9\" class=\"edge\">\n<title>3646715463718794089&#45;&gt;/outputs/44</title>\n<path fill=\"none\" stroke=\"#000000\" d=\"M486.0213,-31.0963C494.525,-33.2437 503.6032,-35.5362 512.1433,-37.6928\"/>\n<polygon fill=\"#000000\" stroke=\"#000000\" points=\"511.3021,-41.0901 521.8547,-40.1451 513.0161,-34.3032 511.3021,-41.0901\"/>\n</g>\n<!-- 8961429132650934021&#45;&gt;/outputs/53 -->\n<g id=\"edge11\" class=\"edge\">\n<title>8961429132650934021&#45;&gt;/outputs/53</title>\n<path fill=\"none\" stroke=\"#000000\" d=\"M684.2222,-50.6102C695.6557,-51.5908 708.3448,-52.5152 720,-53 751.9724,-54.3299 760.0361,-54.5187 792,-53 800.3484,-52.6034 809.2982,-51.9126 817.7547,-51.1377\"/>\n<polygon fill=\"#000000\" stroke=\"#000000\" points=\"818.1377,-54.617 827.7516,-50.1647 817.4596,-47.6499 818.1377,-54.617\"/>\n</g>\n<!-- 14691770198976324045 -->\n<g id=\"node11\" class=\"node\">\n<title>14691770198976324045</title>\n<polygon fill=\"#e8e8e8\" stroke=\"#000000\" points=\"792,-44 720,-44 720,0 792,0 792,-44\"/>\n<text text-anchor=\"start\" x=\"728\" y=\"-28\" font-family=\"Times\" font-size=\"10.00\" fill=\"#000000\">Linear &gt; Relu</text>\n<text text-anchor=\"start\" x=\"777\" y=\"-7\" font-family=\"Times\" font-size=\"10.00\" fill=\"#000000\">x2</text>\n</g>\n<!-- 8961429132650934021&#45;&gt;14691770198976324045 -->\n<g id=\"edge12\" class=\"edge\">\n<title>8961429132650934021&#45;&gt;14691770198976324045</title>\n<path fill=\"none\" stroke=\"#000000\" d=\"M684.2629,-38.6058C692.4552,-36.7094 701.2602,-34.6712 709.7994,-32.6946\"/>\n<polygon fill=\"#000000\" stroke=\"#000000\" points=\"710.6959,-36.0797 719.649,-30.4146 709.1173,-29.26 710.6959,-36.0797\"/>\n</g>\n<!-- 14691770198976324045&#45;&gt;/outputs/53 -->\n<g id=\"edge13\" class=\"edge\">\n<title>14691770198976324045&#45;&gt;/outputs/53</title>\n<path fill=\"none\" stroke=\"#000000\" d=\"M792.0213,-31.0963C800.525,-33.2437 809.6032,-35.5362 818.1433,-37.6928\"/>\n<polygon fill=\"#000000\" stroke=\"#000000\" points=\"817.3021,-41.0901 827.8547,-40.1451 819.0161,-34.3032 817.3021,-41.0901\"/>\n</g>\n</g>\n</svg>\n",
            "text/plain": [
              "<hiddenlayer.graph.Graph at 0x7fb1b2446250>"
            ]
          },
          "execution_count": 22,
          "metadata": {},
          "output_type": "execute_result"
        }
      ]
    },
    {
      "cell_type": "markdown",
      "metadata": {
        "id": "rX7JjGPJ5NsC"
      },
      "source": [
        "###Initializing Hybrid Skip Connections"
      ]
    },
    {
      "cell_type": "code",
      "metadata": {
        "id": "VAHZhM4y4qmZ"
      },
      "source": [
        "skipper_hybrid_mnist = MLP_Skip_Hybrid(28*28*1)\n",
        "skipper_hybrid_mnist = skipper_hybrid_mnist.to(device)"
      ],
      "execution_count": null,
      "outputs": []
    },
    {
      "cell_type": "code",
      "metadata": {
        "colab": {
          "base_uri": "https://localhost:8080/",
          "height": 330
        },
        "id": "mDhi1pOk4tfX",
        "outputId": "9d40009e-acc8-4622-af2c-cda8df2c989e"
      },
      "source": [
        "skipper_hybrid_cifar = MLP_Skip_Hybrid(32*32*3)\n",
        "skipper_hybrid_cifar = skipper_hybrid_cifar.to(device)\n",
        "hl.build_graph(skipper_hybrid_cifar, images)"
      ],
      "execution_count": null,
      "outputs": [
        {
          "data": {
            "image/svg+xml": "<?xml version=\"1.0\" encoding=\"UTF-8\" standalone=\"no\"?>\n<!DOCTYPE svg PUBLIC \"-//W3C//DTD SVG 1.1//EN\"\n \"http://www.w3.org/Graphics/SVG/1.1/DTD/svg11.dtd\">\n<!-- Generated by graphviz version 2.40.1 (20161225.0304)\n -->\n<!-- Title: %3 Pages: 1 -->\n<svg width=\"1574pt\" height=\"217pt\"\n viewBox=\"0.00 0.00 1574.00 217.00\" xmlns=\"http://www.w3.org/2000/svg\" xmlns:xlink=\"http://www.w3.org/1999/xlink\">\n<g id=\"graph0\" class=\"graph\" transform=\"scale(1 1) rotate(0) translate(72 181)\">\n<title>%3</title>\n<polygon fill=\"#ffffff\" stroke=\"transparent\" points=\"-72,36 -72,-181 1502,-181 1502,36 -72,36\"/>\n<!-- /outputs/37 -->\n<g id=\"node1\" class=\"node\">\n<title>/outputs/37</title>\n<polygon fill=\"#e8e8e8\" stroke=\"#000000\" points=\"272,-65 218,-65 218,-29 272,-29 272,-65\"/>\n<text text-anchor=\"start\" x=\"236\" y=\"-44\" font-family=\"Times\" font-size=\"10.00\" fill=\"#000000\">Add</text>\n</g>\n<!-- /outputs/39 -->\n<g id=\"node3\" class=\"node\">\n<title>/outputs/39</title>\n<polygon fill=\"#e8e8e8\" stroke=\"#000000\" points=\"364,-119 310,-119 310,-83 364,-83 364,-119\"/>\n<text text-anchor=\"start\" x=\"320\" y=\"-98\" font-family=\"Times\" font-size=\"10.00\" fill=\"#000000\">MatMul</text>\n</g>\n<!-- /outputs/37&#45;&gt;/outputs/39 -->\n<g id=\"edge1\" class=\"edge\">\n<title>/outputs/37&#45;&gt;/outputs/39</title>\n<path fill=\"none\" stroke=\"#000000\" d=\"M272.1054,-62.9097C281.1955,-68.2452 291.477,-74.28 301.132,-79.947\"/>\n<polygon fill=\"#000000\" stroke=\"#000000\" points=\"299.3745,-82.9738 309.7704,-85.0174 302.9179,-76.9369 299.3745,-82.9738\"/>\n</g>\n<!-- 14782749695133585608 -->\n<g id=\"node17\" class=\"node\">\n<title>14782749695133585608</title>\n<polygon fill=\"#e8e8e8\" stroke=\"#000000\" points=\"472,-66 400,-66 400,-22 472,-22 472,-66\"/>\n<text text-anchor=\"start\" x=\"408\" y=\"-50\" font-family=\"Times\" font-size=\"10.00\" fill=\"#000000\">Linear &gt; Relu</text>\n<text text-anchor=\"start\" x=\"457\" y=\"-29\" font-family=\"Times\" font-size=\"10.00\" fill=\"#000000\">x2</text>\n</g>\n<!-- /outputs/37&#45;&gt;14782749695133585608 -->\n<g id=\"edge18\" class=\"edge\">\n<title>/outputs/37&#45;&gt;14782749695133585608</title>\n<path fill=\"none\" stroke=\"#000000\" d=\"M272.3656,-46.5702C302.8777,-46.0909 352.7516,-45.3076 389.431,-44.7314\"/>\n<polygon fill=\"#000000\" stroke=\"#000000\" points=\"389.9324,-48.2241 399.8762,-44.5674 389.8224,-41.225 389.9324,-48.2241\"/>\n</g>\n<!-- /outputs/38 -->\n<g id=\"node2\" class=\"node\">\n<title>/outputs/38</title>\n<polygon fill=\"#e8e8e8\" stroke=\"#000000\" points=\"274,-119 216,-119 216,-83 274,-83 274,-119\"/>\n<text text-anchor=\"start\" x=\"224\" y=\"-98\" font-family=\"Times\" font-size=\"10.00\" fill=\"#000000\">Transpose</text>\n</g>\n<!-- /outputs/38&#45;&gt;/outputs/39 -->\n<g id=\"edge2\" class=\"edge\">\n<title>/outputs/38&#45;&gt;/outputs/39</title>\n<path fill=\"none\" stroke=\"#000000\" d=\"M274.1094,-101C282.2682,-101 291.2502,-101 299.8095,-101\"/>\n<polygon fill=\"#000000\" stroke=\"#000000\" points=\"299.9566,-104.5001 309.9566,-101 299.9566,-97.5001 299.9566,-104.5001\"/>\n</g>\n<!-- /outputs/40 -->\n<g id=\"node4\" class=\"node\">\n<title>/outputs/40</title>\n<polygon fill=\"#e8e8e8\" stroke=\"#000000\" points=\"463,-120 409,-120 409,-84 463,-84 463,-120\"/>\n<text text-anchor=\"start\" x=\"426\" y=\"-99\" font-family=\"Times\" font-size=\"10.00\" fill=\"#000000\">Relu</text>\n</g>\n<!-- /outputs/39&#45;&gt;/outputs/40 -->\n<g id=\"edge3\" class=\"edge\">\n<title>/outputs/39&#45;&gt;/outputs/40</title>\n<path fill=\"none\" stroke=\"#000000\" d=\"M364.0522,-101.2733C374.7472,-101.3813 387.216,-101.5072 398.7404,-101.6236\"/>\n<polygon fill=\"#000000\" stroke=\"#000000\" points=\"398.9456,-105.1258 408.9805,-101.7271 399.0164,-98.1262 398.9456,-105.1258\"/>\n</g>\n<!-- /outputs/45 -->\n<g id=\"node5\" class=\"node\">\n<title>/outputs/45</title>\n<polygon fill=\"#e8e8e8\" stroke=\"#000000\" points=\"562,-91 508,-91 508,-55 562,-55 562,-91\"/>\n<text text-anchor=\"start\" x=\"526\" y=\"-70\" font-family=\"Times\" font-size=\"10.00\" fill=\"#000000\">Add</text>\n</g>\n<!-- /outputs/40&#45;&gt;/outputs/45 -->\n<g id=\"edge4\" class=\"edge\">\n<title>/outputs/40&#45;&gt;/outputs/45</title>\n<path fill=\"none\" stroke=\"#000000\" d=\"M463.0522,-94.0756C473.8564,-90.9108 486.4707,-87.2157 498.0929,-83.8112\"/>\n<polygon fill=\"#000000\" stroke=\"#000000\" points=\"499.3677,-87.0849 507.9805,-80.9148 497.3999,-80.3672 499.3677,-87.0849\"/>\n</g>\n<!-- /outputs/50 -->\n<g id=\"node6\" class=\"node\">\n<title>/outputs/50</title>\n<polygon fill=\"#e8e8e8\" stroke=\"#000000\" points=\"762,-91 708,-91 708,-55 762,-55 762,-91\"/>\n<text text-anchor=\"start\" x=\"726\" y=\"-70\" font-family=\"Times\" font-size=\"10.00\" fill=\"#000000\">Add</text>\n</g>\n<!-- /outputs/45&#45;&gt;/outputs/50 -->\n<g id=\"edge5\" class=\"edge\">\n<title>/outputs/45&#45;&gt;/outputs/50</title>\n<path fill=\"none\" stroke=\"#000000\" d=\"M562.1965,-89.7693C572.9398,-95.4716 585.6524,-101.1266 598,-104 629.1672,-111.2529 638.7889,-111.0617 670,-104 679.6839,-101.809 689.6147,-97.9941 698.7073,-93.7738\"/>\n<polygon fill=\"#000000\" stroke=\"#000000\" points=\"700.4086,-96.8375 707.8339,-89.28 697.3164,-90.5575 700.4086,-96.8375\"/>\n</g>\n<!-- /outputs/54 -->\n<g id=\"node10\" class=\"node\">\n<title>/outputs/54</title>\n<polygon fill=\"#e8e8e8\" stroke=\"#000000\" points=\"854,-64 800,-64 800,-28 854,-28 854,-64\"/>\n<text text-anchor=\"start\" x=\"818\" y=\"-43\" font-family=\"Times\" font-size=\"10.00\" fill=\"#000000\">Add</text>\n</g>\n<!-- /outputs/45&#45;&gt;/outputs/54 -->\n<g id=\"edge6\" class=\"edge\">\n<title>/outputs/45&#45;&gt;/outputs/54</title>\n<path fill=\"none\" stroke=\"#000000\" d=\"M562.1965,-56.2307C572.9398,-50.5284 585.6524,-44.8734 598,-42 664.1103,-26.6156 743.8759,-33.5266 789.691,-39.84\"/>\n<polygon fill=\"#000000\" stroke=\"#000000\" points=\"789.3592,-43.3283 799.7568,-41.2936 790.3598,-36.4001 789.3592,-43.3283\"/>\n</g>\n<!-- 3806150801028967198 -->\n<g id=\"node18\" class=\"node\">\n<title>3806150801028967198</title>\n<polygon fill=\"#e8e8e8\" stroke=\"#000000\" points=\"670,-95 598,-95 598,-51 670,-51 670,-95\"/>\n<text text-anchor=\"start\" x=\"606\" y=\"-79\" font-family=\"Times\" font-size=\"10.00\" fill=\"#000000\">Linear &gt; Relu</text>\n<text text-anchor=\"start\" x=\"655\" y=\"-58\" font-family=\"Times\" font-size=\"10.00\" fill=\"#000000\">x2</text>\n</g>\n<!-- /outputs/45&#45;&gt;3806150801028967198 -->\n<g id=\"edge20\" class=\"edge\">\n<title>/outputs/45&#45;&gt;3806150801028967198</title>\n<path fill=\"none\" stroke=\"#000000\" d=\"M562.0522,-73C569.9527,-73 578.8212,-73 587.5618,-73\"/>\n<polygon fill=\"#000000\" stroke=\"#000000\" points=\"587.6982,-76.5001 597.6982,-73 587.6982,-69.5001 587.6982,-76.5001\"/>\n</g>\n<!-- /outputs/52 -->\n<g id=\"node8\" class=\"node\">\n<title>/outputs/52</title>\n<polygon fill=\"#e8e8e8\" stroke=\"#000000\" points=\"854,-122 800,-122 800,-86 854,-86 854,-122\"/>\n<text text-anchor=\"start\" x=\"810\" y=\"-101\" font-family=\"Times\" font-size=\"10.00\" fill=\"#000000\">MatMul</text>\n</g>\n<!-- /outputs/50&#45;&gt;/outputs/52 -->\n<g id=\"edge7\" class=\"edge\">\n<title>/outputs/50&#45;&gt;/outputs/52</title>\n<path fill=\"none\" stroke=\"#000000\" d=\"M762.1054,-82.1334C770.9172,-85.1026 780.8487,-88.449 790.2436,-91.6147\"/>\n<polygon fill=\"#000000\" stroke=\"#000000\" points=\"789.1763,-94.9483 799.7704,-94.8248 791.4115,-88.3148 789.1763,-94.9483\"/>\n</g>\n<!-- /outputs/50&#45;&gt;/outputs/54 -->\n<g id=\"edge8\" class=\"edge\">\n<title>/outputs/50&#45;&gt;/outputs/54</title>\n<path fill=\"none\" stroke=\"#000000\" d=\"M762.1054,-65.0451C770.8245,-62.4863 780.6397,-59.6057 789.9467,-56.8743\"/>\n<polygon fill=\"#000000\" stroke=\"#000000\" points=\"791.1607,-60.1657 799.7704,-53.9913 789.1894,-53.449 791.1607,-60.1657\"/>\n</g>\n<!-- /outputs/51 -->\n<g id=\"node7\" class=\"node\">\n<title>/outputs/51</title>\n<polygon fill=\"#e8e8e8\" stroke=\"#000000\" points=\"764,-145 706,-145 706,-109 764,-109 764,-145\"/>\n<text text-anchor=\"start\" x=\"714\" y=\"-124\" font-family=\"Times\" font-size=\"10.00\" fill=\"#000000\">Transpose</text>\n</g>\n<!-- /outputs/51&#45;&gt;/outputs/52 -->\n<g id=\"edge9\" class=\"edge\">\n<title>/outputs/51&#45;&gt;/outputs/52</title>\n<path fill=\"none\" stroke=\"#000000\" d=\"M764.1094,-119.7227C772.3578,-117.6605 781.4477,-115.3881 790.0916,-113.2271\"/>\n<polygon fill=\"#000000\" stroke=\"#000000\" points=\"791.1041,-116.5818 799.9566,-110.7609 789.4063,-109.7908 791.1041,-116.5818\"/>\n</g>\n<!-- /outputs/53 -->\n<g id=\"node9\" class=\"node\">\n<title>/outputs/53</title>\n<polygon fill=\"#e8e8e8\" stroke=\"#000000\" points=\"953,-122 899,-122 899,-86 953,-86 953,-122\"/>\n<text text-anchor=\"start\" x=\"916\" y=\"-101\" font-family=\"Times\" font-size=\"10.00\" fill=\"#000000\">Relu</text>\n</g>\n<!-- /outputs/52&#45;&gt;/outputs/53 -->\n<g id=\"edge10\" class=\"edge\">\n<title>/outputs/52&#45;&gt;/outputs/53</title>\n<path fill=\"none\" stroke=\"#000000\" d=\"M854.0522,-104C864.7472,-104 877.216,-104 888.7404,-104\"/>\n<polygon fill=\"#000000\" stroke=\"#000000\" points=\"888.9806,-107.5001 898.9805,-104 888.9805,-100.5001 888.9806,-107.5001\"/>\n</g>\n<!-- /outputs/59 -->\n<g id=\"node11\" class=\"node\">\n<title>/outputs/59</title>\n<polygon fill=\"#e8e8e8\" stroke=\"#000000\" points=\"1052,-93 998,-93 998,-57 1052,-57 1052,-93\"/>\n<text text-anchor=\"start\" x=\"1016\" y=\"-72\" font-family=\"Times\" font-size=\"10.00\" fill=\"#000000\">Add</text>\n</g>\n<!-- /outputs/53&#45;&gt;/outputs/59 -->\n<g id=\"edge11\" class=\"edge\">\n<title>/outputs/53&#45;&gt;/outputs/59</title>\n<path fill=\"none\" stroke=\"#000000\" d=\"M953.0522,-96.0756C963.8564,-92.9108 976.4707,-89.2157 988.0929,-85.8112\"/>\n<polygon fill=\"#000000\" stroke=\"#000000\" points=\"989.3677,-89.0849 997.9805,-82.9148 987.3999,-82.3672 989.3677,-89.0849\"/>\n</g>\n<!-- 1865523696580628205 -->\n<g id=\"node19\" class=\"node\">\n<title>1865523696580628205</title>\n<polygon fill=\"#e8e8e8\" stroke=\"#000000\" points=\"962,-68 890,-68 890,-24 962,-24 962,-68\"/>\n<text text-anchor=\"start\" x=\"898\" y=\"-52\" font-family=\"Times\" font-size=\"10.00\" fill=\"#000000\">Linear &gt; Relu</text>\n<text text-anchor=\"start\" x=\"947\" y=\"-31\" font-family=\"Times\" font-size=\"10.00\" fill=\"#000000\">x2</text>\n</g>\n<!-- /outputs/54&#45;&gt;1865523696580628205 -->\n<g id=\"edge22\" class=\"edge\">\n<title>/outputs/54&#45;&gt;1865523696580628205</title>\n<path fill=\"none\" stroke=\"#000000\" d=\"M854.0522,-46C861.9527,-46 870.8212,-46 879.5618,-46\"/>\n<polygon fill=\"#000000\" stroke=\"#000000\" points=\"879.6982,-49.5001 889.6982,-46 879.6982,-42.5001 879.6982,-49.5001\"/>\n</g>\n<!-- /outputs/64 -->\n<g id=\"node12\" class=\"node\">\n<title>/outputs/64</title>\n<polygon fill=\"#e8e8e8\" stroke=\"#000000\" points=\"1250,-93 1196,-93 1196,-57 1250,-57 1250,-93\"/>\n<text text-anchor=\"start\" x=\"1214\" y=\"-72\" font-family=\"Times\" font-size=\"10.00\" fill=\"#000000\">Add</text>\n</g>\n<!-- /outputs/59&#45;&gt;/outputs/64 -->\n<g id=\"edge12\" class=\"edge\">\n<title>/outputs/59&#45;&gt;/outputs/64</title>\n<path fill=\"none\" stroke=\"#000000\" d=\"M1052.2484,-78.1647C1063.3246,-79.3024 1076.2572,-80.4421 1088,-81 1119.9639,-82.5187 1128.0361,-82.5187 1160,-81 1168.3484,-80.6034 1177.2982,-79.9126 1185.7547,-79.1377\"/>\n<polygon fill=\"#000000\" stroke=\"#000000\" points=\"1186.1377,-82.617 1195.7516,-78.1647 1185.4596,-75.6499 1186.1377,-82.617\"/>\n</g>\n<!-- 9197719904207428225 -->\n<g id=\"node20\" class=\"node\">\n<title>9197719904207428225</title>\n<polygon fill=\"#e8e8e8\" stroke=\"#000000\" points=\"1160,-72 1088,-72 1088,-28 1160,-28 1160,-72\"/>\n<text text-anchor=\"start\" x=\"1096\" y=\"-56\" font-family=\"Times\" font-size=\"10.00\" fill=\"#000000\">Linear &gt; Relu</text>\n<text text-anchor=\"start\" x=\"1145\" y=\"-35\" font-family=\"Times\" font-size=\"10.00\" fill=\"#000000\">x2</text>\n</g>\n<!-- /outputs/59&#45;&gt;9197719904207428225 -->\n<g id=\"edge24\" class=\"edge\">\n<title>/outputs/59&#45;&gt;9197719904207428225</title>\n<path fill=\"none\" stroke=\"#000000\" d=\"M1052.0522,-68.1686C1060.0386,-66.1519 1069.0141,-63.8853 1077.8468,-61.6549\"/>\n<polygon fill=\"#000000\" stroke=\"#000000\" points=\"1078.8595,-65.0091 1087.6982,-59.1671 1077.1456,-58.2221 1078.8595,-65.0091\"/>\n</g>\n<!-- /outputs/65 -->\n<g id=\"node13\" class=\"node\">\n<title>/outputs/65</title>\n<polygon fill=\"#e8e8e8\" stroke=\"#000000\" points=\"1340,-93 1286,-93 1286,-57 1340,-57 1340,-93\"/>\n<text text-anchor=\"start\" x=\"1300\" y=\"-72\" font-family=\"Times\" font-size=\"10.00\" fill=\"#000000\">Linear</text>\n</g>\n<!-- /outputs/64&#45;&gt;/outputs/65 -->\n<g id=\"edge13\" class=\"edge\">\n<title>/outputs/64&#45;&gt;/outputs/65</title>\n<path fill=\"none\" stroke=\"#000000\" d=\"M1250.003,-75C1258.0277,-75 1266.9665,-75 1275.5309,-75\"/>\n<polygon fill=\"#000000\" stroke=\"#000000\" points=\"1275.7051,-78.5001 1285.705,-75 1275.705,-71.5001 1275.7051,-78.5001\"/>\n</g>\n<!-- /outputs/66 -->\n<g id=\"node14\" class=\"node\">\n<title>/outputs/66</title>\n<polygon fill=\"#e8e8e8\" stroke=\"#000000\" points=\"1430,-93 1376,-93 1376,-57 1430,-57 1430,-93\"/>\n<text text-anchor=\"start\" x=\"1386\" y=\"-72\" font-family=\"Times\" font-size=\"10.00\" fill=\"#000000\">Softmax</text>\n</g>\n<!-- /outputs/65&#45;&gt;/outputs/66 -->\n<g id=\"edge14\" class=\"edge\">\n<title>/outputs/65&#45;&gt;/outputs/66</title>\n<path fill=\"none\" stroke=\"#000000\" d=\"M1340.003,-75C1348.0277,-75 1356.9665,-75 1365.5309,-75\"/>\n<polygon fill=\"#000000\" stroke=\"#000000\" points=\"1365.7051,-78.5001 1375.705,-75 1365.705,-71.5001 1365.7051,-78.5001\"/>\n</g>\n<!-- 5073522915530894936 -->\n<g id=\"node15\" class=\"node\">\n<title>5073522915530894936</title>\n<polygon fill=\"#e8e8e8\" stroke=\"#000000\" points=\"72,-69 0,-69 0,-25 72,-25 72,-69\"/>\n<text text-anchor=\"start\" x=\"8\" y=\"-53\" font-family=\"Times\" font-size=\"10.00\" fill=\"#000000\">Linear &gt; Relu</text>\n<text text-anchor=\"start\" x=\"57\" y=\"-32\" font-family=\"Times\" font-size=\"10.00\" fill=\"#000000\">x2</text>\n</g>\n<!-- 5073522915530894936&#45;&gt;/outputs/37 -->\n<g id=\"edge15\" class=\"edge\">\n<title>5073522915530894936&#45;&gt;/outputs/37</title>\n<path fill=\"none\" stroke=\"#000000\" d=\"M72.2222,-50.6102C83.6557,-51.5908 96.3448,-52.5152 108,-53 139.9724,-54.3299 148.0339,-54.4722 180,-53 188.9504,-52.5878 198.5721,-51.8579 207.5968,-51.0459\"/>\n<polygon fill=\"#000000\" stroke=\"#000000\" points=\"208.2182,-54.5026 217.8407,-50.069 207.5536,-47.5342 208.2182,-54.5026\"/>\n</g>\n<!-- 12427690122860767907 -->\n<g id=\"node16\" class=\"node\">\n<title>12427690122860767907</title>\n<polygon fill=\"#e8e8e8\" stroke=\"#000000\" points=\"180,-44 108,-44 108,0 180,0 180,-44\"/>\n<text text-anchor=\"start\" x=\"116\" y=\"-28\" font-family=\"Times\" font-size=\"10.00\" fill=\"#000000\">Linear &gt; Relu</text>\n<text text-anchor=\"start\" x=\"165\" y=\"-7\" font-family=\"Times\" font-size=\"10.00\" fill=\"#000000\">x2</text>\n</g>\n<!-- 5073522915530894936&#45;&gt;12427690122860767907 -->\n<g id=\"edge16\" class=\"edge\">\n<title>5073522915530894936&#45;&gt;12427690122860767907</title>\n<path fill=\"none\" stroke=\"#000000\" d=\"M72.2629,-38.6058C80.4552,-36.7094 89.2602,-34.6712 97.7994,-32.6946\"/>\n<polygon fill=\"#000000\" stroke=\"#000000\" points=\"98.6959,-36.0797 107.649,-30.4146 97.1173,-29.26 98.6959,-36.0797\"/>\n</g>\n<!-- 12427690122860767907&#45;&gt;/outputs/37 -->\n<g id=\"edge17\" class=\"edge\">\n<title>12427690122860767907&#45;&gt;/outputs/37</title>\n<path fill=\"none\" stroke=\"#000000\" d=\"M180.178,-30.955C189.2257,-33.1945 198.942,-35.5995 208.0277,-37.8484\"/>\n<polygon fill=\"#000000\" stroke=\"#000000\" points=\"207.4003,-41.2987 217.9484,-40.3041 209.0823,-34.5038 207.4003,-41.2987\"/>\n</g>\n<!-- 14782749695133585608&#45;&gt;/outputs/45 -->\n<g id=\"edge19\" class=\"edge\">\n<title>14782749695133585608&#45;&gt;/outputs/45</title>\n<path fill=\"none\" stroke=\"#000000\" d=\"M472.0213,-54.5517C480.525,-57.0427 489.6032,-59.702 498.1433,-62.2036\"/>\n<polygon fill=\"#000000\" stroke=\"#000000\" points=\"497.2741,-65.596 507.8547,-65.0484 499.2419,-58.8783 497.2741,-65.596\"/>\n</g>\n<!-- 3806150801028967198&#45;&gt;/outputs/50 -->\n<g id=\"edge21\" class=\"edge\">\n<title>3806150801028967198&#45;&gt;/outputs/50</title>\n<path fill=\"none\" stroke=\"#000000\" d=\"M670.178,-73C679.1284,-73 688.7332,-73 697.7344,-73\"/>\n<polygon fill=\"#000000\" stroke=\"#000000\" points=\"697.9484,-76.5001 707.9484,-73 697.9483,-69.5001 697.9484,-76.5001\"/>\n</g>\n<!-- 1865523696580628205&#45;&gt;/outputs/59 -->\n<g id=\"edge23\" class=\"edge\">\n<title>1865523696580628205&#45;&gt;/outputs/59</title>\n<path fill=\"none\" stroke=\"#000000\" d=\"M962.0213,-56.5517C970.525,-59.0427 979.6032,-61.702 988.1433,-64.2036\"/>\n<polygon fill=\"#000000\" stroke=\"#000000\" points=\"987.2741,-67.596 997.8547,-67.0484 989.2419,-60.8783 987.2741,-67.596\"/>\n</g>\n<!-- 9197719904207428225&#45;&gt;/outputs/64 -->\n<g id=\"edge25\" class=\"edge\">\n<title>9197719904207428225&#45;&gt;/outputs/64</title>\n<path fill=\"none\" stroke=\"#000000\" d=\"M1160.0213,-59.0963C1168.525,-61.2437 1177.6032,-63.5362 1186.1433,-65.6928\"/>\n<polygon fill=\"#000000\" stroke=\"#000000\" points=\"1185.3021,-69.0901 1195.8547,-68.1451 1187.0161,-62.3032 1185.3021,-69.0901\"/>\n</g>\n</g>\n</svg>\n",
            "text/plain": [
              "<hiddenlayer.graph.Graph at 0x7fb1b2410c90>"
            ]
          },
          "execution_count": 25,
          "metadata": {},
          "output_type": "execute_result"
        }
      ]
    },
    {
      "cell_type": "markdown",
      "metadata": {
        "id": "eRWtr6_u49mG"
      },
      "source": [
        "###Training Concatenated models"
      ]
    },
    {
      "cell_type": "code",
      "metadata": {
        "colab": {
          "base_uri": "https://localhost:8080/"
        },
        "id": "IdSEAwzx36Me",
        "outputId": "495d4612-5c2f-417e-9093-57f0323d982b"
      },
      "source": [
        "# Training for MNIST\n",
        "skipped_concat_loss_mnist, skipped_concat_acc_mnist = runner(skipper_concat_mnist, train_loader_MNIST, test_loader_MNIST)"
      ],
      "execution_count": null,
      "outputs": [
        {
          "name": "stderr",
          "output_type": "stream",
          "text": [
            "  0%|          | 0/20 [00:00<?, ?it/s]/usr/local/lib/python3.7/dist-packages/ipykernel_launcher.py:39: UserWarning: Implicit dimension choice for softmax has been deprecated. Change the call to include dim=X as an argument.\n",
            " 25%|██▌       | 5/20 [01:14<03:44, 14.98s/it]"
          ]
        },
        {
          "name": "stdout",
          "output_type": "stream",
          "text": [
            "Epoch 5 - Training loss: 1.6206503157920025 - val_acc: 0.8435999751091003\n"
          ]
        },
        {
          "name": "stderr",
          "output_type": "stream",
          "text": [
            " 50%|█████     | 10/20 [02:28<02:28, 14.85s/it]"
          ]
        },
        {
          "name": "stdout",
          "output_type": "stream",
          "text": [
            "Epoch 10 - Training loss: 1.5956628561019897 - val_acc: 0.866100013256073\n"
          ]
        },
        {
          "name": "stderr",
          "output_type": "stream",
          "text": [
            " 75%|███████▌  | 15/20 [03:44<01:15, 15.06s/it]"
          ]
        },
        {
          "name": "stdout",
          "output_type": "stream",
          "text": [
            "Epoch 15 - Training loss: 1.5084979939968028 - val_acc: 0.9483000040054321\n"
          ]
        },
        {
          "name": "stderr",
          "output_type": "stream",
          "text": [
            "100%|██████████| 20/20 [04:59<00:00, 14.95s/it]"
          ]
        },
        {
          "name": "stdout",
          "output_type": "stream",
          "text": [
            "Epoch 20 - Training loss: 1.4975248524483213 - val_acc: 0.9575999975204468\n"
          ]
        },
        {
          "name": "stderr",
          "output_type": "stream",
          "text": [
            "\n"
          ]
        }
      ]
    },
    {
      "cell_type": "code",
      "metadata": {
        "colab": {
          "base_uri": "https://localhost:8080/"
        },
        "id": "Z_EC-sZ64EZi",
        "outputId": "3cc73554-e161-4c6c-cc57-f8a996c3bbb5"
      },
      "source": [
        "# Training for CIFAR10\n",
        "skipped_concat_loss_cifar, skipped_concat_acc_cifar = runner(skipper_concat_cifar, train_loader_CIFAR10, test_loader_CIFAR10)"
      ],
      "execution_count": null,
      "outputs": [
        {
          "name": "stderr",
          "output_type": "stream",
          "text": [
            "  0%|          | 0/20 [00:00<?, ?it/s]/usr/local/lib/python3.7/dist-packages/ipykernel_launcher.py:39: UserWarning: Implicit dimension choice for softmax has been deprecated. Change the call to include dim=X as an argument.\n",
            " 25%|██▌       | 5/20 [01:29<04:35, 18.35s/it]"
          ]
        },
        {
          "name": "stdout",
          "output_type": "stream",
          "text": [
            "Epoch 5 - Training loss: 2.1655742988294486 - val_acc: 0.2840000092983246\n"
          ]
        },
        {
          "name": "stderr",
          "output_type": "stream",
          "text": [
            " 50%|█████     | 10/20 [03:03<03:07, 18.73s/it]"
          ]
        },
        {
          "name": "stdout",
          "output_type": "stream",
          "text": [
            "Epoch 10 - Training loss: 2.0963330585129407 - val_acc: 0.34779998660087585\n"
          ]
        },
        {
          "name": "stderr",
          "output_type": "stream",
          "text": [
            " 75%|███████▌  | 15/20 [04:36<01:33, 18.63s/it]"
          ]
        },
        {
          "name": "stdout",
          "output_type": "stream",
          "text": [
            "Epoch 15 - Training loss: 2.0695367571042507 - val_acc: 0.39739999175071716\n"
          ]
        },
        {
          "name": "stderr",
          "output_type": "stream",
          "text": [
            "100%|██████████| 20/20 [06:11<00:00, 18.56s/it]"
          ]
        },
        {
          "name": "stdout",
          "output_type": "stream",
          "text": [
            "Epoch 20 - Training loss: 2.0439931196825847 - val_acc: 0.4214000105857849\n"
          ]
        },
        {
          "name": "stderr",
          "output_type": "stream",
          "text": [
            "\n"
          ]
        }
      ]
    },
    {
      "cell_type": "markdown",
      "metadata": {
        "id": "gYvrJE5F5Xh4"
      },
      "source": [
        "###Training Hybrid Models"
      ]
    },
    {
      "cell_type": "code",
      "metadata": {
        "colab": {
          "base_uri": "https://localhost:8080/"
        },
        "id": "OUMtM8YH4Qmq",
        "outputId": "ceae72de-6fb9-4b89-fa21-8cd99a74d479"
      },
      "source": [
        "# Training for MNIST\n",
        "skipped_hybrid_loss_mnist, skipped_hybrid_acc_mnist = runner(skipper_hybrid_mnist, train_loader_MNIST, test_loader_MNIST)"
      ],
      "execution_count": null,
      "outputs": [
        {
          "name": "stderr",
          "output_type": "stream",
          "text": [
            " 25%|██▌       | 5/20 [01:13<03:41, 14.79s/it]"
          ]
        },
        {
          "name": "stdout",
          "output_type": "stream",
          "text": [
            "Epoch 5 - Training loss: 1.6993649325472244 - val_acc: 0.7635999917984009\n"
          ]
        },
        {
          "name": "stderr",
          "output_type": "stream",
          "text": [
            " 50%|█████     | 10/20 [02:27<02:27, 14.78s/it]"
          ]
        },
        {
          "name": "stdout",
          "output_type": "stream",
          "text": [
            "Epoch 10 - Training loss: 1.5842241738704925 - val_acc: 0.8654999732971191\n"
          ]
        },
        {
          "name": "stderr",
          "output_type": "stream",
          "text": [
            " 75%|███████▌  | 15/20 [03:42<01:14, 14.93s/it]"
          ]
        },
        {
          "name": "stdout",
          "output_type": "stream",
          "text": [
            "Epoch 15 - Training loss: 1.5720821071178355 - val_acc: 0.8783000111579895\n"
          ]
        },
        {
          "name": "stderr",
          "output_type": "stream",
          "text": [
            "100%|██████████| 20/20 [04:56<00:00, 14.80s/it]"
          ]
        },
        {
          "name": "stdout",
          "output_type": "stream",
          "text": [
            "Epoch 20 - Training loss: 1.481344044969437 - val_acc: 0.9699000120162964\n"
          ]
        },
        {
          "name": "stderr",
          "output_type": "stream",
          "text": [
            "\n"
          ]
        }
      ]
    },
    {
      "cell_type": "code",
      "metadata": {
        "colab": {
          "base_uri": "https://localhost:8080/"
        },
        "id": "UEbaJVsZ5iB9",
        "outputId": "1b8fb0b5-783b-4061-cd29-345118289717"
      },
      "source": [
        "# Training for CIFAR10\n",
        "skipped_hybrid_loss_cifar, skipped_hybrid_acc_cifar = runner(skipper_hybrid_cifar, train_loader_CIFAR10, test_loader_CIFAR10)"
      ],
      "execution_count": null,
      "outputs": [
        {
          "name": "stderr",
          "output_type": "stream",
          "text": [
            " 25%|██▌       | 5/20 [01:29<04:34, 18.33s/it]"
          ]
        },
        {
          "name": "stdout",
          "output_type": "stream",
          "text": [
            "Epoch 5 - Training loss: 2.100034561692452 - val_acc: 0.3619999885559082\n"
          ]
        },
        {
          "name": "stderr",
          "output_type": "stream",
          "text": [
            " 50%|█████     | 10/20 [03:03<03:07, 18.71s/it]"
          ]
        },
        {
          "name": "stdout",
          "output_type": "stream",
          "text": [
            "Epoch 10 - Training loss: 2.0592492800586077 - val_acc: 0.38359999656677246\n"
          ]
        },
        {
          "name": "stderr",
          "output_type": "stream",
          "text": [
            " 75%|███████▌  | 15/20 [04:37<01:33, 18.70s/it]"
          ]
        },
        {
          "name": "stdout",
          "output_type": "stream",
          "text": [
            "Epoch 15 - Training loss: 2.0329931913589943 - val_acc: 0.40700000524520874\n"
          ]
        },
        {
          "name": "stderr",
          "output_type": "stream",
          "text": [
            "100%|██████████| 20/20 [06:11<00:00, 18.57s/it]"
          ]
        },
        {
          "name": "stdout",
          "output_type": "stream",
          "text": [
            "Epoch 20 - Training loss: 2.0036938871656145 - val_acc: 0.44209998846054077\n"
          ]
        },
        {
          "name": "stderr",
          "output_type": "stream",
          "text": [
            "\n"
          ]
        }
      ]
    },
    {
      "cell_type": "markdown",
      "metadata": {
        "id": "3W48DFzJ5uXI"
      },
      "source": [
        "##Comparison\n",
        "\n",
        "Plotting Accuracy and Loss for both MNIST and CIFAR10"
      ]
    },
    {
      "cell_type": "code",
      "metadata": {
        "colab": {
          "base_uri": "https://localhost:8080/",
          "height": 545
        },
        "id": "9TngJh8o6UlE",
        "outputId": "035a42d2-5a31-4c4c-f4d3-001b14035c8d"
      },
      "source": [
        "plt.figure('Accuracy MNIST')\n",
        "plt.title('Accuracy MNIST')\n",
        "\n",
        "plt.plot([i.to(torch.device('cpu')).mul(100) for i in skipped_acc_mnist], label = 'Type 1')\n",
        "plt.plot([i.to(torch.device('cpu')).mul(100) for i in skipped_concat_acc_mnist], label = 'Type 2')\n",
        "plt.plot([i.to(torch.device('cpu')).mul(100) for i in skipped_hybrid_acc_mnist], label = 'Type 1 + Type 3')\n",
        "\n",
        "plt.xlim(0, 20)\n",
        "# plt.ylim(0, 100)\n",
        "plt.legend()\n",
        "plt.show()\n",
        "\n",
        "plt.figure('Loss MNIST')\n",
        "plt.title('Loss MNIST')\n",
        "\n",
        "plt.plot(skipped_loss_mnist, label = 'Type 1')\n",
        "plt.plot(skipped_concat_loss_mnist, label = 'Type 2')\n",
        "plt.plot(skipped_hybrid_loss_mnist, label = 'Type 1 + Type 3')\n",
        "\n",
        "plt.xlim(0, 20)\n",
        "\n",
        "plt.legend()\n",
        "plt.show()"
      ],
      "execution_count": null,
      "outputs": [
        {
          "data": {
            "image/png": "[encoded data removed]",
            "text/plain": [
              "<Figure size 432x288 with 1 Axes>"
            ]
          },
          "metadata": {},
          "output_type": "display_data"
        },
        {
          "data": {
            "image/png": "[encoded data removed]",
            "text/plain": [
              "<Figure size 432x288 with 1 Axes>"
            ]
          },
          "metadata": {},
          "output_type": "display_data"
        }
      ]
    },
    {
      "cell_type": "code",
      "metadata": {
        "colab": {
          "base_uri": "https://localhost:8080/",
          "height": 545
        },
        "id": "yAkUVn5d7Egk",
        "outputId": "c50e5c0b-9c1e-43d8-8131-57b06dceeb6c"
      },
      "source": [
        "plt.figure('Accuracy CIFAR10')\n",
        "plt.title('Accuracy CIFAR10')\n",
        "\n",
        "plt.plot([i.to(torch.device('cpu')).mul(100) for i in skipped_acc_cifar], label = 'Type 1')\n",
        "plt.plot([i.to(torch.device('cpu')).mul(100) for i in skipped_concat_acc_cifar], label = 'Type 2')\n",
        "plt.plot([i.to(torch.device('cpu')).mul(100) for i in skipped_hybrid_acc_cifar], label = 'Type 1 + Type 3')\n",
        "\n",
        "plt.xlim(0, 20)\n",
        "# plt.ylim(0, 100)\n",
        "plt.legend()\n",
        "plt.show()\n",
        "\n",
        "plt.figure('Loss CIFAR10')\n",
        "plt.title('Loss CIFAR10')\n",
        "\n",
        "plt.plot(skipped_loss_cifar, label = 'Type 1')\n",
        "plt.plot(skipped_concat_loss_cifar, label = 'Type 2')\n",
        "plt.plot(skipped_hybrid_loss_cifar, label = 'Type 1 + Type 3')\n",
        "\n",
        "plt.xlim(0, 20)\n",
        "\n",
        "plt.legend()\n",
        "plt.show()"
      ],
      "execution_count": null,
      "outputs": [
        {
          "data": {
            "image/png": "[encoded data removed]",
            "text/plain": [
              "<Figure size 432x288 with 1 Axes>"
            ]
          },
          "metadata": {},
          "output_type": "display_data"
        },
        {
          "data": {
            "image/png": "[encoded data removed]",
            "text/plain": [
              "<Figure size 432x288 with 1 Axes>"
            ]
          },
          "metadata": {},
          "output_type": "display_data"
        }
      ]
    },
    {
      "cell_type": "markdown",
      "metadata": {
        "id": "kiiKKfQ_7eKJ"
      },
      "source": [
        "##Observations\n",
        "\n",
        "We found that the combination of Type 1 and Type 3 reduces the loss the fastest, and that Type 1 is faster than Type 2. \n",
        "\n",
        "Hence, the accuracy of Type 1 + Type 3 increases the fastest. \n",
        "Type 1 and Type 2 were found to give similar performance in terms of accuracy, even though Type 1 loss was lower.\n",
        "\n",
        "\n"
      ]
    },
    {
      "cell_type": "markdown",
      "metadata": {
        "id": "rqaXi8-B7pn5"
      },
      "source": [
        "#Part 3 - Perform ablation studies over different characteristics of skip connections.\n",
        "\n"
      ]
    },
    {
      "cell_type": "markdown",
      "metadata": {
        "id": "uqPnXrAZJAfP"
      },
      "source": [
        "## Number of skip connections.\n",
        "\n",
        "Here our model is a 13 layer MLP. The model class MLP_sss takes a three character string which represents the absence or presence of skip connections in the block of similar sized layers.\n",
        "\n",
        "U - denotes an unskipped connection.\n",
        "\n",
        "S - denoted a skipped conncection."
      ]
    },
    {
      "cell_type": "code",
      "metadata": {
        "id": "Vn29dUdP8eME"
      },
      "source": [
        "class MLP_sss(torch.nn.Module):\n",
        "  \n",
        "    def __init__(self, input_size, s):\n",
        "        super(MLP_sss, self).__init__()\n",
        "        self.fc1 = torch.nn.Linear(input_size,256)\n",
        "        self.fc2 = torch.nn.Linear(256,256)\n",
        "        self.fc3 = torch.nn.Linear(256,256)\n",
        "        self.fc4 = torch.nn.Linear(256,256)\n",
        "        self.fc5 = torch.nn.Linear(256,128)\n",
        "        self.fc6 = torch.nn.Linear(128,128)\n",
        "        self.fc7 = torch.nn.Linear(128,128)\n",
        "        self.fc8 = torch.nn.Linear(128,128)\n",
        "        self.fc9 = torch.nn.Linear(128,64)\n",
        "        self.fc10 = torch.nn.Linear(64,64)\n",
        "        self.fc11 = torch.nn.Linear(64,64)\n",
        "        self.fc12 = torch.nn.Linear(64,64)\n",
        "        self.fc13 = torch.nn.Linear(64,10)\n",
        "\n",
        "        self.s = s\n",
        "\n",
        "    def forward(self, x):\n",
        "        output = x\n",
        "        output = torch.nn.functional.relu(self.fc1(output))\n",
        "        output = torch.nn.functional.relu(self.fc2(output))\n",
        "        if self.s[0] == 's':\n",
        "          res1 = output\n",
        "        output = torch.nn.functional.relu(self.fc3(output))\n",
        "        output = torch.nn.functional.relu(self.fc4(output))\n",
        "        if self.s[0] == 's':\n",
        "          output += res1\n",
        "        output = torch.nn.functional.relu(self.fc5(output))\n",
        "        output = torch.nn.functional.relu(self.fc6(output))\n",
        "        if self.s[1] == 's':\n",
        "          res2 = output\n",
        "        output = torch.nn.functional.relu(self.fc7(output))\n",
        "        output = torch.nn.functional.relu(self.fc8(output))\n",
        "        if self.s[1] == 's':\n",
        "          output += res2\n",
        "        output = torch.nn.functional.relu(self.fc9(output))\n",
        "        output = torch.nn.functional.relu(self.fc10(output))\n",
        "        if self.s[2] == 's':\n",
        "          res3 = output\n",
        "        output = torch.nn.functional.relu(self.fc11(output))\n",
        "        output = torch.nn.functional.relu(self.fc12(output))\n",
        "        if self.s[2] == 's':\n",
        "          output += res3\n",
        "        output = torch.nn.functional.softmax(self.fc13(output), dim = 1)\n",
        "        return output"
      ],
      "execution_count": null,
      "outputs": []
    },
    {
      "cell_type": "markdown",
      "metadata": {
        "id": "PvuU3mNi_aWs"
      },
      "source": [
        "####Initializing and Training for 'USS'"
      ]
    },
    {
      "cell_type": "code",
      "metadata": {
        "id": "pUxKyZLl8n9C"
      },
      "source": [
        "mlp_uss_mnist = MLP_sss(28*28*1 ,'uss')\n",
        "mlp_uss_mnist = mlp_uss_mnist.to(device)"
      ],
      "execution_count": null,
      "outputs": []
    },
    {
      "cell_type": "code",
      "metadata": {
        "colab": {
          "base_uri": "https://localhost:8080/"
        },
        "id": "1bs3E1Zv8ttZ",
        "outputId": "9c3f1671-0b47-4e73-df17-0a0cbedc7616"
      },
      "source": [
        "uss_loss_mnist, uss_acc_mnist = runner(mlp_uss_mnist, train_loader_MNIST, test_loader_MNIST)"
      ],
      "execution_count": null,
      "outputs": [
        {
          "name": "stderr",
          "output_type": "stream",
          "text": [
            " 25%|██▌       | 5/20 [01:11<03:35, 14.39s/it]"
          ]
        },
        {
          "name": "stdout",
          "output_type": "stream",
          "text": [
            "Epoch 5 - Training loss: 1.5803477444547287 - val_acc: 0.8899999856948853\n"
          ]
        },
        {
          "name": "stderr",
          "output_type": "stream",
          "text": [
            " 50%|█████     | 10/20 [02:24<02:25, 14.53s/it]"
          ]
        },
        {
          "name": "stdout",
          "output_type": "stream",
          "text": [
            "Epoch 10 - Training loss: 1.5332317108803608 - val_acc: 0.9222999811172485\n"
          ]
        },
        {
          "name": "stderr",
          "output_type": "stream",
          "text": [
            " 75%|███████▌  | 15/20 [03:36<01:12, 14.47s/it]"
          ]
        },
        {
          "name": "stdout",
          "output_type": "stream",
          "text": [
            "Epoch 15 - Training loss: 1.5151939615290215 - val_acc: 0.9361000061035156\n"
          ]
        },
        {
          "name": "stderr",
          "output_type": "stream",
          "text": [
            "100%|██████████| 20/20 [04:49<00:00, 14.48s/it]"
          ]
        },
        {
          "name": "stdout",
          "output_type": "stream",
          "text": [
            "Epoch 20 - Training loss: 1.5061232926997732 - val_acc: 0.9427000284194946\n"
          ]
        },
        {
          "name": "stderr",
          "output_type": "stream",
          "text": [
            "\n"
          ]
        }
      ]
    },
    {
      "cell_type": "code",
      "metadata": {
        "colab": {
          "base_uri": "https://localhost:8080/",
          "height": 208
        },
        "id": "prmraDuR_F43",
        "outputId": "58a80544-0d5e-43c6-f00b-7ac0bd4439db"
      },
      "source": [
        "mlp_uss_cifar = MLP_sss(32*32*3 ,'uss')\n",
        "mlp_uss_cifar = mlp_uss_cifar.to(device)\n",
        "hl.build_graph(mlp_uss_cifar, images)"
      ],
      "execution_count": null,
      "outputs": [
        {
          "data": {
            "image/svg+xml": "<?xml version=\"1.0\" encoding=\"UTF-8\" standalone=\"no\"?>\n<!DOCTYPE svg PUBLIC \"-//W3C//DTD SVG 1.1//EN\"\n \"http://www.w3.org/Graphics/SVG/1.1/DTD/svg11.dtd\">\n<!-- Generated by graphviz version 2.40.1 (20161225.0304)\n -->\n<!-- Title: %3 Pages: 1 -->\n<svg width=\"900pt\" height=\"141pt\"\n viewBox=\"0.00 0.00 900.00 141.00\" xmlns=\"http://www.w3.org/2000/svg\" xmlns:xlink=\"http://www.w3.org/1999/xlink\">\n<g id=\"graph0\" class=\"graph\" transform=\"scale(1 1) rotate(0) translate(72 105)\">\n<title>%3</title>\n<polygon fill=\"#ffffff\" stroke=\"transparent\" points=\"-72,36 -72,-105 828,-105 828,36 -72,36\"/>\n<!-- /outputs/43 -->\n<g id=\"node1\" class=\"node\">\n<title>/outputs/43</title>\n<polygon fill=\"#e8e8e8\" stroke=\"#000000\" points=\"270,-65 216,-65 216,-29 270,-29 270,-65\"/>\n<text text-anchor=\"start\" x=\"234\" y=\"-44\" font-family=\"Times\" font-size=\"10.00\" fill=\"#000000\">Add</text>\n</g>\n<!-- 10860682720034216653 -->\n<g id=\"node6\" class=\"node\">\n<title>10860682720034216653</title>\n<polygon fill=\"#e8e8e8\" stroke=\"#000000\" points=\"378,-69 306,-69 306,-25 378,-25 378,-69\"/>\n<text text-anchor=\"start\" x=\"314\" y=\"-53\" font-family=\"Times\" font-size=\"10.00\" fill=\"#000000\">Linear &gt; Relu</text>\n<text text-anchor=\"start\" x=\"363\" y=\"-32\" font-family=\"Times\" font-size=\"10.00\" fill=\"#000000\">x2</text>\n</g>\n<!-- /outputs/43&#45;&gt;10860682720034216653 -->\n<g id=\"edge4\" class=\"edge\">\n<title>/outputs/43&#45;&gt;10860682720034216653</title>\n<path fill=\"none\" stroke=\"#000000\" d=\"M270.0522,-47C277.9527,-47 286.8212,-47 295.5618,-47\"/>\n<polygon fill=\"#000000\" stroke=\"#000000\" points=\"295.6982,-50.5001 305.6982,-47 295.6982,-43.5001 295.6982,-50.5001\"/>\n</g>\n<!-- /outputs/52 -->\n<g id=\"node2\" class=\"node\">\n<title>/outputs/52</title>\n<polygon fill=\"#e8e8e8\" stroke=\"#000000\" points=\"576,-65 522,-65 522,-29 576,-29 576,-65\"/>\n<text text-anchor=\"start\" x=\"540\" y=\"-44\" font-family=\"Times\" font-size=\"10.00\" fill=\"#000000\">Add</text>\n</g>\n<!-- /outputs/53 -->\n<g id=\"node3\" class=\"node\">\n<title>/outputs/53</title>\n<polygon fill=\"#e8e8e8\" stroke=\"#000000\" points=\"666,-65 612,-65 612,-29 666,-29 666,-65\"/>\n<text text-anchor=\"start\" x=\"626\" y=\"-44\" font-family=\"Times\" font-size=\"10.00\" fill=\"#000000\">Linear</text>\n</g>\n<!-- /outputs/52&#45;&gt;/outputs/53 -->\n<g id=\"edge1\" class=\"edge\">\n<title>/outputs/52&#45;&gt;/outputs/53</title>\n<path fill=\"none\" stroke=\"#000000\" d=\"M576.003,-47C584.0277,-47 592.9665,-47 601.5309,-47\"/>\n<polygon fill=\"#000000\" stroke=\"#000000\" points=\"601.7051,-50.5001 611.705,-47 601.705,-43.5001 601.7051,-50.5001\"/>\n</g>\n<!-- /outputs/54 -->\n<g id=\"node4\" class=\"node\">\n<title>/outputs/54</title>\n<polygon fill=\"#e8e8e8\" stroke=\"#000000\" points=\"756,-65 702,-65 702,-29 756,-29 756,-65\"/>\n<text text-anchor=\"start\" x=\"712\" y=\"-44\" font-family=\"Times\" font-size=\"10.00\" fill=\"#000000\">Softmax</text>\n</g>\n<!-- /outputs/53&#45;&gt;/outputs/54 -->\n<g id=\"edge2\" class=\"edge\">\n<title>/outputs/53&#45;&gt;/outputs/54</title>\n<path fill=\"none\" stroke=\"#000000\" d=\"M666.003,-47C674.0277,-47 682.9665,-47 691.5309,-47\"/>\n<polygon fill=\"#000000\" stroke=\"#000000\" points=\"691.7051,-50.5001 701.705,-47 691.705,-43.5001 691.7051,-50.5001\"/>\n</g>\n<!-- 15002174799435210662 -->\n<g id=\"node5\" class=\"node\">\n<title>15002174799435210662</title>\n<polygon fill=\"#e8e8e8\" stroke=\"#000000\" points=\"180,-44 108,-44 108,0 180,0 180,-44\"/>\n<text text-anchor=\"start\" x=\"116\" y=\"-28\" font-family=\"Times\" font-size=\"10.00\" fill=\"#000000\">Linear &gt; Relu</text>\n<text text-anchor=\"start\" x=\"165\" y=\"-7\" font-family=\"Times\" font-size=\"10.00\" fill=\"#000000\">x2</text>\n</g>\n<!-- 15002174799435210662&#45;&gt;/outputs/43 -->\n<g id=\"edge3\" class=\"edge\">\n<title>15002174799435210662&#45;&gt;/outputs/43</title>\n<path fill=\"none\" stroke=\"#000000\" d=\"M180.0213,-31.0963C188.525,-33.2437 197.6032,-35.5362 206.1433,-37.6928\"/>\n<polygon fill=\"#000000\" stroke=\"#000000\" points=\"205.3021,-41.0901 215.8547,-40.1451 207.0161,-34.3032 205.3021,-41.0901\"/>\n</g>\n<!-- 10860682720034216653&#45;&gt;/outputs/52 -->\n<g id=\"edge5\" class=\"edge\">\n<title>10860682720034216653&#45;&gt;/outputs/52</title>\n<path fill=\"none\" stroke=\"#000000\" d=\"M378.2222,-50.6102C389.6557,-51.5908 402.3448,-52.5152 414,-53 445.9724,-54.3299 454.0361,-54.5187 486,-53 494.3484,-52.6034 503.2982,-51.9126 511.7547,-51.1377\"/>\n<polygon fill=\"#000000\" stroke=\"#000000\" points=\"512.1377,-54.617 521.7516,-50.1647 511.4596,-47.6499 512.1377,-54.617\"/>\n</g>\n<!-- 4239602141082846711 -->\n<g id=\"node7\" class=\"node\">\n<title>4239602141082846711</title>\n<polygon fill=\"#e8e8e8\" stroke=\"#000000\" points=\"486,-44 414,-44 414,0 486,0 486,-44\"/>\n<text text-anchor=\"start\" x=\"422\" y=\"-28\" font-family=\"Times\" font-size=\"10.00\" fill=\"#000000\">Linear &gt; Relu</text>\n<text text-anchor=\"start\" x=\"471\" y=\"-7\" font-family=\"Times\" font-size=\"10.00\" fill=\"#000000\">x2</text>\n</g>\n<!-- 10860682720034216653&#45;&gt;4239602141082846711 -->\n<g id=\"edge6\" class=\"edge\">\n<title>10860682720034216653&#45;&gt;4239602141082846711</title>\n<path fill=\"none\" stroke=\"#000000\" d=\"M378.2629,-38.6058C386.4552,-36.7094 395.2602,-34.6712 403.7994,-32.6946\"/>\n<polygon fill=\"#000000\" stroke=\"#000000\" points=\"404.6959,-36.0797 413.649,-30.4146 403.1173,-29.26 404.6959,-36.0797\"/>\n</g>\n<!-- 4239602141082846711&#45;&gt;/outputs/52 -->\n<g id=\"edge7\" class=\"edge\">\n<title>4239602141082846711&#45;&gt;/outputs/52</title>\n<path fill=\"none\" stroke=\"#000000\" d=\"M486.0213,-31.0963C494.525,-33.2437 503.6032,-35.5362 512.1433,-37.6928\"/>\n<polygon fill=\"#000000\" stroke=\"#000000\" points=\"511.3021,-41.0901 521.8547,-40.1451 513.0161,-34.3032 511.3021,-41.0901\"/>\n</g>\n<!-- 3553117539084721970 -->\n<g id=\"node8\" class=\"node\">\n<title>3553117539084721970</title>\n<polygon fill=\"#e8e8e8\" stroke=\"#000000\" points=\"72,-69 0,-69 0,-25 72,-25 72,-69\"/>\n<text text-anchor=\"start\" x=\"8\" y=\"-53\" font-family=\"Times\" font-size=\"10.00\" fill=\"#000000\">Linear &gt; Relu</text>\n<text text-anchor=\"start\" x=\"57\" y=\"-32\" font-family=\"Times\" font-size=\"10.00\" fill=\"#000000\">x6</text>\n</g>\n<!-- 3553117539084721970&#45;&gt;/outputs/43 -->\n<g id=\"edge8\" class=\"edge\">\n<title>3553117539084721970&#45;&gt;/outputs/43</title>\n<path fill=\"none\" stroke=\"#000000\" d=\"M72.2222,-50.6102C83.6557,-51.5908 96.3448,-52.5152 108,-53 139.9724,-54.3299 148.0361,-54.5187 180,-53 188.3484,-52.6034 197.2982,-51.9126 205.7547,-51.1377\"/>\n<polygon fill=\"#000000\" stroke=\"#000000\" points=\"206.1377,-54.617 215.7516,-50.1647 205.4596,-47.6499 206.1377,-54.617\"/>\n</g>\n<!-- 3553117539084721970&#45;&gt;15002174799435210662 -->\n<g id=\"edge9\" class=\"edge\">\n<title>3553117539084721970&#45;&gt;15002174799435210662</title>\n<path fill=\"none\" stroke=\"#000000\" d=\"M72.2629,-38.6058C80.4552,-36.7094 89.2602,-34.6712 97.7994,-32.6946\"/>\n<polygon fill=\"#000000\" stroke=\"#000000\" points=\"98.6959,-36.0797 107.649,-30.4146 97.1173,-29.26 98.6959,-36.0797\"/>\n</g>\n</g>\n</svg>\n",
            "text/plain": [
              "<hiddenlayer.graph.Graph at 0x7fb1b28f9950>"
            ]
          },
          "execution_count": 35,
          "metadata": {},
          "output_type": "execute_result"
        }
      ]
    },
    {
      "cell_type": "code",
      "metadata": {
        "colab": {
          "base_uri": "https://localhost:8080/"
        },
        "id": "tH7rtVjI_M0F",
        "outputId": "1f6fec48-c1b2-422b-9e7c-41cda2e8fb9c"
      },
      "source": [
        "uss_loss_cifar, uss_acc_cifar = runner(mlp_uss_cifar, train_loader_CIFAR10, test_loader_CIFAR10)"
      ],
      "execution_count": null,
      "outputs": [
        {
          "name": "stderr",
          "output_type": "stream",
          "text": [
            " 25%|██▌       | 5/20 [01:26<04:24, 17.61s/it]"
          ]
        },
        {
          "name": "stdout",
          "output_type": "stream",
          "text": [
            "Epoch 5 - Training loss: 2.16798732840285 - val_acc: 0.2953000068664551\n"
          ]
        },
        {
          "name": "stderr",
          "output_type": "stream",
          "text": [
            " 50%|█████     | 10/20 [02:57<03:00, 18.04s/it]"
          ]
        },
        {
          "name": "stdout",
          "output_type": "stream",
          "text": [
            "Epoch 10 - Training loss: 2.0952043557653623 - val_acc: 0.3515999913215637\n"
          ]
        },
        {
          "name": "stderr",
          "output_type": "stream",
          "text": [
            " 75%|███████▌  | 15/20 [04:28<01:30, 18.18s/it]"
          ]
        },
        {
          "name": "stdout",
          "output_type": "stream",
          "text": [
            "Epoch 15 - Training loss: 2.066794532902387 - val_acc: 0.38119998574256897\n"
          ]
        },
        {
          "name": "stderr",
          "output_type": "stream",
          "text": [
            "100%|██████████| 20/20 [05:58<00:00, 17.94s/it]"
          ]
        },
        {
          "name": "stdout",
          "output_type": "stream",
          "text": [
            "Epoch 20 - Training loss: 2.049018142782912 - val_acc: 0.4099999964237213\n"
          ]
        },
        {
          "name": "stderr",
          "output_type": "stream",
          "text": [
            "\n"
          ]
        }
      ]
    },
    {
      "cell_type": "markdown",
      "metadata": {
        "id": "D8jrOQ5r_q95"
      },
      "source": [
        "####Initializing and Training for 'UUS'"
      ]
    },
    {
      "cell_type": "code",
      "metadata": {
        "id": "hA-SwB9T_xHC"
      },
      "source": [
        "mlp_uus_mnist = MLP_sss(28*28*1 ,'uus')\n",
        "mlp_uus_mnist = mlp_uus_mnist.to(device)"
      ],
      "execution_count": null,
      "outputs": []
    },
    {
      "cell_type": "code",
      "metadata": {
        "colab": {
          "base_uri": "https://localhost:8080/"
        },
        "id": "BYyRO3ZE_xHC",
        "outputId": "c7a61ae8-8a8a-4fd4-ccac-ae1cfbab08d0"
      },
      "source": [
        "uus_loss_mnist, uus_acc_mnist = runner(mlp_uus_mnist, train_loader_MNIST, test_loader_MNIST)"
      ],
      "execution_count": null,
      "outputs": [
        {
          "name": "stderr",
          "output_type": "stream",
          "text": [
            " 25%|██▌       | 5/20 [01:11<03:34, 14.29s/it]"
          ]
        },
        {
          "name": "stdout",
          "output_type": "stream",
          "text": [
            "Epoch 5 - Training loss: 1.733388816549423 - val_acc: 0.7304999828338623\n"
          ]
        },
        {
          "name": "stderr",
          "output_type": "stream",
          "text": [
            " 50%|█████     | 10/20 [02:23<02:24, 14.46s/it]"
          ]
        },
        {
          "name": "stdout",
          "output_type": "stream",
          "text": [
            "Epoch 10 - Training loss: 1.617881584674754 - val_acc: 0.805899977684021\n"
          ]
        },
        {
          "name": "stderr",
          "output_type": "stream",
          "text": [
            " 75%|███████▌  | 15/20 [03:35<01:12, 14.46s/it]"
          ]
        },
        {
          "name": "stdout",
          "output_type": "stream",
          "text": [
            "Epoch 15 - Training loss: 1.6025512558348636 - val_acc: 0.8436999917030334\n"
          ]
        },
        {
          "name": "stderr",
          "output_type": "stream",
          "text": [
            "100%|██████████| 20/20 [04:47<00:00, 14.40s/it]"
          ]
        },
        {
          "name": "stdout",
          "output_type": "stream",
          "text": [
            "Epoch 20 - Training loss: 1.5942799405848727 - val_acc: 0.859000027179718\n"
          ]
        },
        {
          "name": "stderr",
          "output_type": "stream",
          "text": [
            "\n"
          ]
        }
      ]
    },
    {
      "cell_type": "code",
      "metadata": {
        "colab": {
          "base_uri": "https://localhost:8080/",
          "height": 208
        },
        "id": "al3xC8U-_xHD",
        "outputId": "5e20dbc5-5ec1-4fe0-c244-e3d6f4adeba0"
      },
      "source": [
        "mlp_uus_cifar = MLP_sss(32*32*3 ,'uus')\n",
        "mlp_uus_cifar = mlp_uus_cifar.to(device)\n",
        "hl.build_graph(mlp_uus_cifar, images)"
      ],
      "execution_count": null,
      "outputs": [
        {
          "data": {
            "image/svg+xml": "<?xml version=\"1.0\" encoding=\"UTF-8\" standalone=\"no\"?>\n<!DOCTYPE svg PUBLIC \"-//W3C//DTD SVG 1.1//EN\"\n \"http://www.w3.org/Graphics/SVG/1.1/DTD/svg11.dtd\">\n<!-- Generated by graphviz version 2.40.1 (20161225.0304)\n -->\n<!-- Title: %3 Pages: 1 -->\n<svg width=\"594pt\" height=\"141pt\"\n viewBox=\"0.00 0.00 594.00 141.00\" xmlns=\"http://www.w3.org/2000/svg\" xmlns:xlink=\"http://www.w3.org/1999/xlink\">\n<g id=\"graph0\" class=\"graph\" transform=\"scale(1 1) rotate(0) translate(72 105)\">\n<title>%3</title>\n<polygon fill=\"#ffffff\" stroke=\"transparent\" points=\"-72,36 -72,-105 522,-105 522,36 -72,36\"/>\n<!-- /outputs/51 -->\n<g id=\"node1\" class=\"node\">\n<title>/outputs/51</title>\n<polygon fill=\"#e8e8e8\" stroke=\"#000000\" points=\"270,-65 216,-65 216,-29 270,-29 270,-65\"/>\n<text text-anchor=\"start\" x=\"234\" y=\"-44\" font-family=\"Times\" font-size=\"10.00\" fill=\"#000000\">Add</text>\n</g>\n<!-- /outputs/52 -->\n<g id=\"node2\" class=\"node\">\n<title>/outputs/52</title>\n<polygon fill=\"#e8e8e8\" stroke=\"#000000\" points=\"360,-65 306,-65 306,-29 360,-29 360,-65\"/>\n<text text-anchor=\"start\" x=\"320\" y=\"-44\" font-family=\"Times\" font-size=\"10.00\" fill=\"#000000\">Linear</text>\n</g>\n<!-- /outputs/51&#45;&gt;/outputs/52 -->\n<g id=\"edge1\" class=\"edge\">\n<title>/outputs/51&#45;&gt;/outputs/52</title>\n<path fill=\"none\" stroke=\"#000000\" d=\"M270.003,-47C278.0277,-47 286.9665,-47 295.5309,-47\"/>\n<polygon fill=\"#000000\" stroke=\"#000000\" points=\"295.7051,-50.5001 305.705,-47 295.705,-43.5001 295.7051,-50.5001\"/>\n</g>\n<!-- /outputs/53 -->\n<g id=\"node3\" class=\"node\">\n<title>/outputs/53</title>\n<polygon fill=\"#e8e8e8\" stroke=\"#000000\" points=\"450,-65 396,-65 396,-29 450,-29 450,-65\"/>\n<text text-anchor=\"start\" x=\"406\" y=\"-44\" font-family=\"Times\" font-size=\"10.00\" fill=\"#000000\">Softmax</text>\n</g>\n<!-- /outputs/52&#45;&gt;/outputs/53 -->\n<g id=\"edge2\" class=\"edge\">\n<title>/outputs/52&#45;&gt;/outputs/53</title>\n<path fill=\"none\" stroke=\"#000000\" d=\"M360.003,-47C368.0277,-47 376.9665,-47 385.5309,-47\"/>\n<polygon fill=\"#000000\" stroke=\"#000000\" points=\"385.7051,-50.5001 395.705,-47 385.705,-43.5001 385.7051,-50.5001\"/>\n</g>\n<!-- 18077292433256336846 -->\n<g id=\"node4\" class=\"node\">\n<title>18077292433256336846</title>\n<polygon fill=\"#e8e8e8\" stroke=\"#000000\" points=\"180,-44 108,-44 108,0 180,0 180,-44\"/>\n<text text-anchor=\"start\" x=\"116\" y=\"-28\" font-family=\"Times\" font-size=\"10.00\" fill=\"#000000\">Linear &gt; Relu</text>\n<text text-anchor=\"start\" x=\"165\" y=\"-7\" font-family=\"Times\" font-size=\"10.00\" fill=\"#000000\">x2</text>\n</g>\n<!-- 18077292433256336846&#45;&gt;/outputs/51 -->\n<g id=\"edge3\" class=\"edge\">\n<title>18077292433256336846&#45;&gt;/outputs/51</title>\n<path fill=\"none\" stroke=\"#000000\" d=\"M180.0213,-31.0963C188.525,-33.2437 197.6032,-35.5362 206.1433,-37.6928\"/>\n<polygon fill=\"#000000\" stroke=\"#000000\" points=\"205.3021,-41.0901 215.8547,-40.1451 207.0161,-34.3032 205.3021,-41.0901\"/>\n</g>\n<!-- 9846751015851805772 -->\n<g id=\"node5\" class=\"node\">\n<title>9846751015851805772</title>\n<polygon fill=\"#e8e8e8\" stroke=\"#000000\" points=\"72,-69 0,-69 0,-25 72,-25 72,-69\"/>\n<text text-anchor=\"start\" x=\"8\" y=\"-53\" font-family=\"Times\" font-size=\"10.00\" fill=\"#000000\">Linear &gt; Relu</text>\n<text text-anchor=\"start\" x=\"52\" y=\"-32\" font-family=\"Times\" font-size=\"10.00\" fill=\"#000000\">x10</text>\n</g>\n<!-- 9846751015851805772&#45;&gt;/outputs/51 -->\n<g id=\"edge4\" class=\"edge\">\n<title>9846751015851805772&#45;&gt;/outputs/51</title>\n<path fill=\"none\" stroke=\"#000000\" d=\"M72.2222,-50.6102C83.6557,-51.5908 96.3448,-52.5152 108,-53 139.9724,-54.3299 148.0361,-54.5187 180,-53 188.3484,-52.6034 197.2982,-51.9126 205.7547,-51.1377\"/>\n<polygon fill=\"#000000\" stroke=\"#000000\" points=\"206.1377,-54.617 215.7516,-50.1647 205.4596,-47.6499 206.1377,-54.617\"/>\n</g>\n<!-- 9846751015851805772&#45;&gt;18077292433256336846 -->\n<g id=\"edge5\" class=\"edge\">\n<title>9846751015851805772&#45;&gt;18077292433256336846</title>\n<path fill=\"none\" stroke=\"#000000\" d=\"M72.2629,-38.6058C80.4552,-36.7094 89.2602,-34.6712 97.7994,-32.6946\"/>\n<polygon fill=\"#000000\" stroke=\"#000000\" points=\"98.6959,-36.0797 107.649,-30.4146 97.1173,-29.26 98.6959,-36.0797\"/>\n</g>\n</g>\n</svg>\n",
            "text/plain": [
              "<hiddenlayer.graph.Graph at 0x7fb1b2187bd0>"
            ]
          },
          "execution_count": 39,
          "metadata": {},
          "output_type": "execute_result"
        }
      ]
    },
    {
      "cell_type": "code",
      "metadata": {
        "colab": {
          "base_uri": "https://localhost:8080/"
        },
        "id": "hAKtDGW4_xHD",
        "outputId": "7ac808bd-b680-4357-cc8a-6b75e07cd496"
      },
      "source": [
        "uus_loss_cifar, uus_acc_cifar = runner(mlp_uus_cifar, train_loader_CIFAR10, test_loader_CIFAR10)"
      ],
      "execution_count": null,
      "outputs": [
        {
          "name": "stderr",
          "output_type": "stream",
          "text": [
            " 25%|██▌       | 5/20 [01:26<04:24, 17.61s/it]"
          ]
        },
        {
          "name": "stdout",
          "output_type": "stream",
          "text": [
            "Epoch 5 - Training loss: 2.166983974223234 - val_acc: 0.28130000829696655\n"
          ]
        },
        {
          "name": "stderr",
          "output_type": "stream",
          "text": [
            " 50%|█████     | 10/20 [02:56<02:59, 17.97s/it]"
          ]
        },
        {
          "name": "stdout",
          "output_type": "stream",
          "text": [
            "Epoch 10 - Training loss: 2.1275306757615535 - val_acc: 0.33390000462532043\n"
          ]
        },
        {
          "name": "stderr",
          "output_type": "stream",
          "text": [
            " 75%|███████▌  | 15/20 [04:26<01:29, 17.86s/it]"
          ]
        },
        {
          "name": "stdout",
          "output_type": "stream",
          "text": [
            "Epoch 15 - Training loss: 2.1006901191205394 - val_acc: 0.3711000084877014\n"
          ]
        },
        {
          "name": "stderr",
          "output_type": "stream",
          "text": [
            "100%|██████████| 20/20 [05:56<00:00, 17.83s/it]"
          ]
        },
        {
          "name": "stdout",
          "output_type": "stream",
          "text": [
            "Epoch 20 - Training loss: 2.0813456433159963 - val_acc: 0.3750999867916107\n"
          ]
        },
        {
          "name": "stderr",
          "output_type": "stream",
          "text": [
            "\n"
          ]
        }
      ]
    },
    {
      "cell_type": "markdown",
      "metadata": {
        "id": "DfJ2NEx0_sld"
      },
      "source": [
        "####Initializing and Training for 'SUS'"
      ]
    },
    {
      "cell_type": "code",
      "metadata": {
        "id": "hKAlnGN7AAek"
      },
      "source": [
        "mlp_sus_mnist = MLP_sss(28*28*1 ,'sus')\n",
        "mlp_sus_mnist = mlp_sus_mnist.to(device)"
      ],
      "execution_count": null,
      "outputs": []
    },
    {
      "cell_type": "code",
      "metadata": {
        "colab": {
          "base_uri": "https://localhost:8080/"
        },
        "id": "iiIkY68RAAer",
        "outputId": "dbaab410-2cc4-49d0-ccd5-ef828d6fafc5"
      },
      "source": [
        "sus_loss_mnist, sus_acc_mnist = runner(mlp_sus_mnist, train_loader_MNIST, test_loader_MNIST)"
      ],
      "execution_count": null,
      "outputs": [
        {
          "name": "stderr",
          "output_type": "stream",
          "text": [
            " 25%|██▌       | 5/20 [01:10<03:32, 14.18s/it]"
          ]
        },
        {
          "name": "stdout",
          "output_type": "stream",
          "text": [
            "Epoch 5 - Training loss: 1.7130698193895055 - val_acc: 0.7436000108718872\n"
          ]
        },
        {
          "name": "stderr",
          "output_type": "stream",
          "text": [
            " 50%|█████     | 10/20 [02:23<02:25, 14.54s/it]"
          ]
        },
        {
          "name": "stdout",
          "output_type": "stream",
          "text": [
            "Epoch 10 - Training loss: 1.6142615800208233 - val_acc: 0.8320000171661377\n"
          ]
        },
        {
          "name": "stderr",
          "output_type": "stream",
          "text": [
            " 75%|███████▌  | 15/20 [03:35<01:11, 14.29s/it]"
          ]
        },
        {
          "name": "stdout",
          "output_type": "stream",
          "text": [
            "Epoch 15 - Training loss: 1.5950073343642215 - val_acc: 0.8532000184059143\n"
          ]
        },
        {
          "name": "stderr",
          "output_type": "stream",
          "text": [
            "100%|██████████| 20/20 [04:47<00:00, 14.39s/it]"
          ]
        },
        {
          "name": "stdout",
          "output_type": "stream",
          "text": [
            "Epoch 20 - Training loss: 1.5872013355823273 - val_acc: 0.8601999878883362\n"
          ]
        },
        {
          "name": "stderr",
          "output_type": "stream",
          "text": [
            "\n"
          ]
        }
      ]
    },
    {
      "cell_type": "code",
      "metadata": {
        "colab": {
          "base_uri": "https://localhost:8080/",
          "height": 208
        },
        "id": "ukBnxT3XAAer",
        "outputId": "828a00cf-53a4-41e3-89c5-f2a0e1a7214d"
      },
      "source": [
        "mlp_sus_cifar = MLP_sss(32*32*3 ,'sus')\n",
        "mlp_sus_cifar = mlp_sus_cifar.to(device)\n",
        "hl.build_graph(mlp_sus_cifar, images)"
      ],
      "execution_count": null,
      "outputs": [
        {
          "data": {
            "image/svg+xml": "<?xml version=\"1.0\" encoding=\"UTF-8\" standalone=\"no\"?>\n<!DOCTYPE svg PUBLIC \"-//W3C//DTD SVG 1.1//EN\"\n \"http://www.w3.org/Graphics/SVG/1.1/DTD/svg11.dtd\">\n<!-- Generated by graphviz version 2.40.1 (20161225.0304)\n -->\n<!-- Title: %3 Pages: 1 -->\n<svg width=\"900pt\" height=\"141pt\"\n viewBox=\"0.00 0.00 900.00 141.00\" xmlns=\"http://www.w3.org/2000/svg\" xmlns:xlink=\"http://www.w3.org/1999/xlink\">\n<g id=\"graph0\" class=\"graph\" transform=\"scale(1 1) rotate(0) translate(72 105)\">\n<title>%3</title>\n<polygon fill=\"#ffffff\" stroke=\"transparent\" points=\"-72,36 -72,-105 828,-105 828,36 -72,36\"/>\n<!-- /outputs/35 -->\n<g id=\"node1\" class=\"node\">\n<title>/outputs/35</title>\n<polygon fill=\"#e8e8e8\" stroke=\"#000000\" points=\"270,-65 216,-65 216,-29 270,-29 270,-65\"/>\n<text text-anchor=\"start\" x=\"234\" y=\"-44\" font-family=\"Times\" font-size=\"10.00\" fill=\"#000000\">Add</text>\n</g>\n<!-- 904907999937160034 -->\n<g id=\"node8\" class=\"node\">\n<title>904907999937160034</title>\n<polygon fill=\"#e8e8e8\" stroke=\"#000000\" points=\"378,-69 306,-69 306,-25 378,-25 378,-69\"/>\n<text text-anchor=\"start\" x=\"314\" y=\"-53\" font-family=\"Times\" font-size=\"10.00\" fill=\"#000000\">Linear &gt; Relu</text>\n<text text-anchor=\"start\" x=\"363\" y=\"-32\" font-family=\"Times\" font-size=\"10.00\" fill=\"#000000\">x6</text>\n</g>\n<!-- /outputs/35&#45;&gt;904907999937160034 -->\n<g id=\"edge7\" class=\"edge\">\n<title>/outputs/35&#45;&gt;904907999937160034</title>\n<path fill=\"none\" stroke=\"#000000\" d=\"M270.0522,-47C277.9527,-47 286.8212,-47 295.5618,-47\"/>\n<polygon fill=\"#000000\" stroke=\"#000000\" points=\"295.6982,-50.5001 305.6982,-47 295.6982,-43.5001 295.6982,-50.5001\"/>\n</g>\n<!-- /outputs/52 -->\n<g id=\"node2\" class=\"node\">\n<title>/outputs/52</title>\n<polygon fill=\"#e8e8e8\" stroke=\"#000000\" points=\"576,-65 522,-65 522,-29 576,-29 576,-65\"/>\n<text text-anchor=\"start\" x=\"540\" y=\"-44\" font-family=\"Times\" font-size=\"10.00\" fill=\"#000000\">Add</text>\n</g>\n<!-- /outputs/53 -->\n<g id=\"node3\" class=\"node\">\n<title>/outputs/53</title>\n<polygon fill=\"#e8e8e8\" stroke=\"#000000\" points=\"666,-65 612,-65 612,-29 666,-29 666,-65\"/>\n<text text-anchor=\"start\" x=\"626\" y=\"-44\" font-family=\"Times\" font-size=\"10.00\" fill=\"#000000\">Linear</text>\n</g>\n<!-- /outputs/52&#45;&gt;/outputs/53 -->\n<g id=\"edge1\" class=\"edge\">\n<title>/outputs/52&#45;&gt;/outputs/53</title>\n<path fill=\"none\" stroke=\"#000000\" d=\"M576.003,-47C584.0277,-47 592.9665,-47 601.5309,-47\"/>\n<polygon fill=\"#000000\" stroke=\"#000000\" points=\"601.7051,-50.5001 611.705,-47 601.705,-43.5001 601.7051,-50.5001\"/>\n</g>\n<!-- /outputs/54 -->\n<g id=\"node4\" class=\"node\">\n<title>/outputs/54</title>\n<polygon fill=\"#e8e8e8\" stroke=\"#000000\" points=\"756,-65 702,-65 702,-29 756,-29 756,-65\"/>\n<text text-anchor=\"start\" x=\"712\" y=\"-44\" font-family=\"Times\" font-size=\"10.00\" fill=\"#000000\">Softmax</text>\n</g>\n<!-- /outputs/53&#45;&gt;/outputs/54 -->\n<g id=\"edge2\" class=\"edge\">\n<title>/outputs/53&#45;&gt;/outputs/54</title>\n<path fill=\"none\" stroke=\"#000000\" d=\"M666.003,-47C674.0277,-47 682.9665,-47 691.5309,-47\"/>\n<polygon fill=\"#000000\" stroke=\"#000000\" points=\"691.7051,-50.5001 701.705,-47 691.705,-43.5001 691.7051,-50.5001\"/>\n</g>\n<!-- 3170437970283218482 -->\n<g id=\"node5\" class=\"node\">\n<title>3170437970283218482</title>\n<polygon fill=\"#e8e8e8\" stroke=\"#000000\" points=\"72,-69 0,-69 0,-25 72,-25 72,-69\"/>\n<text text-anchor=\"start\" x=\"8\" y=\"-53\" font-family=\"Times\" font-size=\"10.00\" fill=\"#000000\">Linear &gt; Relu</text>\n<text text-anchor=\"start\" x=\"57\" y=\"-32\" font-family=\"Times\" font-size=\"10.00\" fill=\"#000000\">x2</text>\n</g>\n<!-- 3170437970283218482&#45;&gt;/outputs/35 -->\n<g id=\"edge3\" class=\"edge\">\n<title>3170437970283218482&#45;&gt;/outputs/35</title>\n<path fill=\"none\" stroke=\"#000000\" d=\"M72.2222,-50.6102C83.6557,-51.5908 96.3448,-52.5152 108,-53 139.9724,-54.3299 148.0361,-54.5187 180,-53 188.3484,-52.6034 197.2982,-51.9126 205.7547,-51.1377\"/>\n<polygon fill=\"#000000\" stroke=\"#000000\" points=\"206.1377,-54.617 215.7516,-50.1647 205.4596,-47.6499 206.1377,-54.617\"/>\n</g>\n<!-- 5172514477470634956 -->\n<g id=\"node6\" class=\"node\">\n<title>5172514477470634956</title>\n<polygon fill=\"#e8e8e8\" stroke=\"#000000\" points=\"180,-44 108,-44 108,0 180,0 180,-44\"/>\n<text text-anchor=\"start\" x=\"116\" y=\"-28\" font-family=\"Times\" font-size=\"10.00\" fill=\"#000000\">Linear &gt; Relu</text>\n<text text-anchor=\"start\" x=\"165\" y=\"-7\" font-family=\"Times\" font-size=\"10.00\" fill=\"#000000\">x2</text>\n</g>\n<!-- 3170437970283218482&#45;&gt;5172514477470634956 -->\n<g id=\"edge4\" class=\"edge\">\n<title>3170437970283218482&#45;&gt;5172514477470634956</title>\n<path fill=\"none\" stroke=\"#000000\" d=\"M72.2629,-38.6058C80.4552,-36.7094 89.2602,-34.6712 97.7994,-32.6946\"/>\n<polygon fill=\"#000000\" stroke=\"#000000\" points=\"98.6959,-36.0797 107.649,-30.4146 97.1173,-29.26 98.6959,-36.0797\"/>\n</g>\n<!-- 5172514477470634956&#45;&gt;/outputs/35 -->\n<g id=\"edge5\" class=\"edge\">\n<title>5172514477470634956&#45;&gt;/outputs/35</title>\n<path fill=\"none\" stroke=\"#000000\" d=\"M180.0213,-31.0963C188.525,-33.2437 197.6032,-35.5362 206.1433,-37.6928\"/>\n<polygon fill=\"#000000\" stroke=\"#000000\" points=\"205.3021,-41.0901 215.8547,-40.1451 207.0161,-34.3032 205.3021,-41.0901\"/>\n</g>\n<!-- 16693621769961902964 -->\n<g id=\"node7\" class=\"node\">\n<title>16693621769961902964</title>\n<polygon fill=\"#e8e8e8\" stroke=\"#000000\" points=\"486,-44 414,-44 414,0 486,0 486,-44\"/>\n<text text-anchor=\"start\" x=\"422\" y=\"-28\" font-family=\"Times\" font-size=\"10.00\" fill=\"#000000\">Linear &gt; Relu</text>\n<text text-anchor=\"start\" x=\"471\" y=\"-7\" font-family=\"Times\" font-size=\"10.00\" fill=\"#000000\">x2</text>\n</g>\n<!-- 16693621769961902964&#45;&gt;/outputs/52 -->\n<g id=\"edge6\" class=\"edge\">\n<title>16693621769961902964&#45;&gt;/outputs/52</title>\n<path fill=\"none\" stroke=\"#000000\" d=\"M486.0213,-31.0963C494.525,-33.2437 503.6032,-35.5362 512.1433,-37.6928\"/>\n<polygon fill=\"#000000\" stroke=\"#000000\" points=\"511.3021,-41.0901 521.8547,-40.1451 513.0161,-34.3032 511.3021,-41.0901\"/>\n</g>\n<!-- 904907999937160034&#45;&gt;/outputs/52 -->\n<g id=\"edge8\" class=\"edge\">\n<title>904907999937160034&#45;&gt;/outputs/52</title>\n<path fill=\"none\" stroke=\"#000000\" d=\"M378.2222,-50.6102C389.6557,-51.5908 402.3448,-52.5152 414,-53 445.9724,-54.3299 454.0361,-54.5187 486,-53 494.3484,-52.6034 503.2982,-51.9126 511.7547,-51.1377\"/>\n<polygon fill=\"#000000\" stroke=\"#000000\" points=\"512.1377,-54.617 521.7516,-50.1647 511.4596,-47.6499 512.1377,-54.617\"/>\n</g>\n<!-- 904907999937160034&#45;&gt;16693621769961902964 -->\n<g id=\"edge9\" class=\"edge\">\n<title>904907999937160034&#45;&gt;16693621769961902964</title>\n<path fill=\"none\" stroke=\"#000000\" d=\"M378.2629,-38.6058C386.4552,-36.7094 395.2602,-34.6712 403.7994,-32.6946\"/>\n<polygon fill=\"#000000\" stroke=\"#000000\" points=\"404.6959,-36.0797 413.649,-30.4146 403.1173,-29.26 404.6959,-36.0797\"/>\n</g>\n</g>\n</svg>\n",
            "text/plain": [
              "<hiddenlayer.graph.Graph at 0x7fb1b217ffd0>"
            ]
          },
          "execution_count": 43,
          "metadata": {},
          "output_type": "execute_result"
        }
      ]
    },
    {
      "cell_type": "code",
      "metadata": {
        "colab": {
          "base_uri": "https://localhost:8080/"
        },
        "id": "Dd7G0pvbAAer",
        "outputId": "7434ab38-7241-4b8d-c2dd-c91574702489"
      },
      "source": [
        "sus_loss_cifar, sus_acc_cifar = runner(mlp_sus_cifar, train_loader_CIFAR10, test_loader_CIFAR10)"
      ],
      "execution_count": null,
      "outputs": [
        {
          "name": "stderr",
          "output_type": "stream",
          "text": [
            " 25%|██▌       | 5/20 [01:26<04:24, 17.65s/it]"
          ]
        },
        {
          "name": "stdout",
          "output_type": "stream",
          "text": [
            "Epoch 5 - Training loss: 2.1606872556160908 - val_acc: 0.2994999885559082\n"
          ]
        },
        {
          "name": "stderr",
          "output_type": "stream",
          "text": [
            " 50%|█████     | 10/20 [02:59<03:03, 18.31s/it]"
          ]
        },
        {
          "name": "stdout",
          "output_type": "stream",
          "text": [
            "Epoch 10 - Training loss: 2.108986089424211 - val_acc: 0.33570000529289246\n"
          ]
        },
        {
          "name": "stderr",
          "output_type": "stream",
          "text": [
            " 75%|███████▌  | 15/20 [04:30<01:31, 18.29s/it]"
          ]
        },
        {
          "name": "stdout",
          "output_type": "stream",
          "text": [
            "Epoch 15 - Training loss: 2.07249074566121 - val_acc: 0.38499999046325684\n"
          ]
        },
        {
          "name": "stderr",
          "output_type": "stream",
          "text": [
            "100%|██████████| 20/20 [06:01<00:00, 18.09s/it]"
          ]
        },
        {
          "name": "stdout",
          "output_type": "stream",
          "text": [
            "Epoch 20 - Training loss: 2.046818125612882 - val_acc: 0.3905999958515167\n"
          ]
        },
        {
          "name": "stderr",
          "output_type": "stream",
          "text": [
            "\n"
          ]
        }
      ]
    },
    {
      "cell_type": "markdown",
      "metadata": {
        "id": "IAZ4p2BJ_tK-"
      },
      "source": [
        "####Initializing and Training for 'SSU'"
      ]
    },
    {
      "cell_type": "code",
      "metadata": {
        "id": "6Upr7yU5A6Oq"
      },
      "source": [
        "mlp_ssu_mnist = MLP_sss(28*28*1 ,'ssu')\n",
        "mlp_ssu_mnist = mlp_ssu_mnist.to(device)"
      ],
      "execution_count": null,
      "outputs": []
    },
    {
      "cell_type": "code",
      "metadata": {
        "colab": {
          "base_uri": "https://localhost:8080/"
        },
        "id": "atsWPyNJA--C",
        "outputId": "1125dd15-fdd9-4510-a268-28688941296f"
      },
      "source": [
        "ssu_loss_mnist, ssu_acc_mnist = runner(mlp_ssu_mnist, train_loader_MNIST, test_loader_MNIST)"
      ],
      "execution_count": null,
      "outputs": [
        {
          "name": "stderr",
          "output_type": "stream",
          "text": [
            " 25%|██▌       | 5/20 [01:11<03:34, 14.32s/it]"
          ]
        },
        {
          "name": "stdout",
          "output_type": "stream",
          "text": [
            "Epoch 5 - Training loss: 1.6764579509166961 - val_acc: 0.8700000047683716\n"
          ]
        },
        {
          "name": "stderr",
          "output_type": "stream",
          "text": [
            " 50%|█████     | 10/20 [02:23<02:23, 14.36s/it]"
          ]
        },
        {
          "name": "stdout",
          "output_type": "stream",
          "text": [
            "Epoch 10 - Training loss: 1.5194829864704862 - val_acc: 0.9358999729156494\n"
          ]
        },
        {
          "name": "stderr",
          "output_type": "stream",
          "text": [
            " 75%|███████▌  | 15/20 [03:35<01:12, 14.49s/it]"
          ]
        },
        {
          "name": "stdout",
          "output_type": "stream",
          "text": [
            "Epoch 15 - Training loss: 1.5036526005318824 - val_acc: 0.9521999955177307\n"
          ]
        },
        {
          "name": "stderr",
          "output_type": "stream",
          "text": [
            "100%|██████████| 20/20 [04:48<00:00, 14.42s/it]"
          ]
        },
        {
          "name": "stdout",
          "output_type": "stream",
          "text": [
            "Epoch 20 - Training loss: 1.4976193088166256 - val_acc: 0.9577999711036682\n"
          ]
        },
        {
          "name": "stderr",
          "output_type": "stream",
          "text": [
            "\n"
          ]
        }
      ]
    },
    {
      "cell_type": "code",
      "metadata": {
        "colab": {
          "base_uri": "https://localhost:8080/",
          "height": 208
        },
        "id": "FW_ZpL3SBESY",
        "outputId": "bacacf30-61a4-4ede-9921-9fb4ddada60d"
      },
      "source": [
        "mlp_ssu_cifar = MLP_sss(32*32*3 ,'ssu')\n",
        "mlp_ssu_cifar = mlp_ssu_cifar.to(device)\n",
        "hl.build_graph(mlp_ssu_cifar, images)"
      ],
      "execution_count": null,
      "outputs": [
        {
          "data": {
            "image/svg+xml": "<?xml version=\"1.0\" encoding=\"UTF-8\" standalone=\"no\"?>\n<!DOCTYPE svg PUBLIC \"-//W3C//DTD SVG 1.1//EN\"\n \"http://www.w3.org/Graphics/SVG/1.1/DTD/svg11.dtd\">\n<!-- Generated by graphviz version 2.40.1 (20161225.0304)\n -->\n<!-- Title: %3 Pages: 1 -->\n<svg width=\"1008pt\" height=\"141pt\"\n viewBox=\"0.00 0.00 1008.00 141.00\" xmlns=\"http://www.w3.org/2000/svg\" xmlns:xlink=\"http://www.w3.org/1999/xlink\">\n<g id=\"graph0\" class=\"graph\" transform=\"scale(1 1) rotate(0) translate(72 105)\">\n<title>%3</title>\n<polygon fill=\"#ffffff\" stroke=\"transparent\" points=\"-72,36 -72,-105 936,-105 936,36 -72,36\"/>\n<!-- /outputs/35 -->\n<g id=\"node1\" class=\"node\">\n<title>/outputs/35</title>\n<polygon fill=\"#e8e8e8\" stroke=\"#000000\" points=\"270,-65 216,-65 216,-29 270,-29 270,-65\"/>\n<text text-anchor=\"start\" x=\"234\" y=\"-44\" font-family=\"Times\" font-size=\"10.00\" fill=\"#000000\">Add</text>\n</g>\n<!-- 1618226537380275712 -->\n<g id=\"node7\" class=\"node\">\n<title>1618226537380275712</title>\n<polygon fill=\"#e8e8e8\" stroke=\"#000000\" points=\"378,-69 306,-69 306,-25 378,-25 378,-69\"/>\n<text text-anchor=\"start\" x=\"314\" y=\"-53\" font-family=\"Times\" font-size=\"10.00\" fill=\"#000000\">Linear &gt; Relu</text>\n<text text-anchor=\"start\" x=\"363\" y=\"-32\" font-family=\"Times\" font-size=\"10.00\" fill=\"#000000\">x2</text>\n</g>\n<!-- /outputs/35&#45;&gt;1618226537380275712 -->\n<g id=\"edge5\" class=\"edge\">\n<title>/outputs/35&#45;&gt;1618226537380275712</title>\n<path fill=\"none\" stroke=\"#000000\" d=\"M270.0522,-47C277.9527,-47 286.8212,-47 295.5618,-47\"/>\n<polygon fill=\"#000000\" stroke=\"#000000\" points=\"295.6982,-50.5001 305.6982,-47 295.6982,-43.5001 295.6982,-50.5001\"/>\n</g>\n<!-- /outputs/44 -->\n<g id=\"node2\" class=\"node\">\n<title>/outputs/44</title>\n<polygon fill=\"#e8e8e8\" stroke=\"#000000\" points=\"576,-65 522,-65 522,-29 576,-29 576,-65\"/>\n<text text-anchor=\"start\" x=\"540\" y=\"-44\" font-family=\"Times\" font-size=\"10.00\" fill=\"#000000\">Add</text>\n</g>\n<!-- 17491595721177871151 -->\n<g id=\"node9\" class=\"node\">\n<title>17491595721177871151</title>\n<polygon fill=\"#e8e8e8\" stroke=\"#000000\" points=\"684,-69 612,-69 612,-25 684,-25 684,-69\"/>\n<text text-anchor=\"start\" x=\"620\" y=\"-53\" font-family=\"Times\" font-size=\"10.00\" fill=\"#000000\">Linear &gt; Relu</text>\n<text text-anchor=\"start\" x=\"669\" y=\"-32\" font-family=\"Times\" font-size=\"10.00\" fill=\"#000000\">x4</text>\n</g>\n<!-- /outputs/44&#45;&gt;17491595721177871151 -->\n<g id=\"edge9\" class=\"edge\">\n<title>/outputs/44&#45;&gt;17491595721177871151</title>\n<path fill=\"none\" stroke=\"#000000\" d=\"M576.0522,-47C583.9527,-47 592.8212,-47 601.5618,-47\"/>\n<polygon fill=\"#000000\" stroke=\"#000000\" points=\"601.6982,-50.5001 611.6982,-47 601.6982,-43.5001 601.6982,-50.5001\"/>\n</g>\n<!-- /outputs/53 -->\n<g id=\"node3\" class=\"node\">\n<title>/outputs/53</title>\n<polygon fill=\"#e8e8e8\" stroke=\"#000000\" points=\"774,-65 720,-65 720,-29 774,-29 774,-65\"/>\n<text text-anchor=\"start\" x=\"734\" y=\"-44\" font-family=\"Times\" font-size=\"10.00\" fill=\"#000000\">Linear</text>\n</g>\n<!-- /outputs/54 -->\n<g id=\"node4\" class=\"node\">\n<title>/outputs/54</title>\n<polygon fill=\"#e8e8e8\" stroke=\"#000000\" points=\"864,-65 810,-65 810,-29 864,-29 864,-65\"/>\n<text text-anchor=\"start\" x=\"820\" y=\"-44\" font-family=\"Times\" font-size=\"10.00\" fill=\"#000000\">Softmax</text>\n</g>\n<!-- /outputs/53&#45;&gt;/outputs/54 -->\n<g id=\"edge1\" class=\"edge\">\n<title>/outputs/53&#45;&gt;/outputs/54</title>\n<path fill=\"none\" stroke=\"#000000\" d=\"M774.003,-47C782.0277,-47 790.9665,-47 799.5309,-47\"/>\n<polygon fill=\"#000000\" stroke=\"#000000\" points=\"799.7051,-50.5001 809.705,-47 799.705,-43.5001 799.7051,-50.5001\"/>\n</g>\n<!-- 5037028113165520534 -->\n<g id=\"node5\" class=\"node\">\n<title>5037028113165520534</title>\n<polygon fill=\"#e8e8e8\" stroke=\"#000000\" points=\"72,-69 0,-69 0,-25 72,-25 72,-69\"/>\n<text text-anchor=\"start\" x=\"8\" y=\"-53\" font-family=\"Times\" font-size=\"10.00\" fill=\"#000000\">Linear &gt; Relu</text>\n<text text-anchor=\"start\" x=\"57\" y=\"-32\" font-family=\"Times\" font-size=\"10.00\" fill=\"#000000\">x2</text>\n</g>\n<!-- 5037028113165520534&#45;&gt;/outputs/35 -->\n<g id=\"edge2\" class=\"edge\">\n<title>5037028113165520534&#45;&gt;/outputs/35</title>\n<path fill=\"none\" stroke=\"#000000\" d=\"M72.2222,-50.6102C83.6557,-51.5908 96.3448,-52.5152 108,-53 139.9724,-54.3299 148.0361,-54.5187 180,-53 188.3484,-52.6034 197.2982,-51.9126 205.7547,-51.1377\"/>\n<polygon fill=\"#000000\" stroke=\"#000000\" points=\"206.1377,-54.617 215.7516,-50.1647 205.4596,-47.6499 206.1377,-54.617\"/>\n</g>\n<!-- 4985866867888445659 -->\n<g id=\"node6\" class=\"node\">\n<title>4985866867888445659</title>\n<polygon fill=\"#e8e8e8\" stroke=\"#000000\" points=\"180,-44 108,-44 108,0 180,0 180,-44\"/>\n<text text-anchor=\"start\" x=\"116\" y=\"-28\" font-family=\"Times\" font-size=\"10.00\" fill=\"#000000\">Linear &gt; Relu</text>\n<text text-anchor=\"start\" x=\"165\" y=\"-7\" font-family=\"Times\" font-size=\"10.00\" fill=\"#000000\">x2</text>\n</g>\n<!-- 5037028113165520534&#45;&gt;4985866867888445659 -->\n<g id=\"edge3\" class=\"edge\">\n<title>5037028113165520534&#45;&gt;4985866867888445659</title>\n<path fill=\"none\" stroke=\"#000000\" d=\"M72.2629,-38.6058C80.4552,-36.7094 89.2602,-34.6712 97.7994,-32.6946\"/>\n<polygon fill=\"#000000\" stroke=\"#000000\" points=\"98.6959,-36.0797 107.649,-30.4146 97.1173,-29.26 98.6959,-36.0797\"/>\n</g>\n<!-- 4985866867888445659&#45;&gt;/outputs/35 -->\n<g id=\"edge4\" class=\"edge\">\n<title>4985866867888445659&#45;&gt;/outputs/35</title>\n<path fill=\"none\" stroke=\"#000000\" d=\"M180.0213,-31.0963C188.525,-33.2437 197.6032,-35.5362 206.1433,-37.6928\"/>\n<polygon fill=\"#000000\" stroke=\"#000000\" points=\"205.3021,-41.0901 215.8547,-40.1451 207.0161,-34.3032 205.3021,-41.0901\"/>\n</g>\n<!-- 1618226537380275712&#45;&gt;/outputs/44 -->\n<g id=\"edge6\" class=\"edge\">\n<title>1618226537380275712&#45;&gt;/outputs/44</title>\n<path fill=\"none\" stroke=\"#000000\" d=\"M378.2222,-50.6102C389.6557,-51.5908 402.3448,-52.5152 414,-53 445.9724,-54.3299 454.0361,-54.5187 486,-53 494.3484,-52.6034 503.2982,-51.9126 511.7547,-51.1377\"/>\n<polygon fill=\"#000000\" stroke=\"#000000\" points=\"512.1377,-54.617 521.7516,-50.1647 511.4596,-47.6499 512.1377,-54.617\"/>\n</g>\n<!-- 1086064969826273887 -->\n<g id=\"node8\" class=\"node\">\n<title>1086064969826273887</title>\n<polygon fill=\"#e8e8e8\" stroke=\"#000000\" points=\"486,-44 414,-44 414,0 486,0 486,-44\"/>\n<text text-anchor=\"start\" x=\"422\" y=\"-28\" font-family=\"Times\" font-size=\"10.00\" fill=\"#000000\">Linear &gt; Relu</text>\n<text text-anchor=\"start\" x=\"471\" y=\"-7\" font-family=\"Times\" font-size=\"10.00\" fill=\"#000000\">x2</text>\n</g>\n<!-- 1618226537380275712&#45;&gt;1086064969826273887 -->\n<g id=\"edge7\" class=\"edge\">\n<title>1618226537380275712&#45;&gt;1086064969826273887</title>\n<path fill=\"none\" stroke=\"#000000\" d=\"M378.2629,-38.6058C386.4552,-36.7094 395.2602,-34.6712 403.7994,-32.6946\"/>\n<polygon fill=\"#000000\" stroke=\"#000000\" points=\"404.6959,-36.0797 413.649,-30.4146 403.1173,-29.26 404.6959,-36.0797\"/>\n</g>\n<!-- 1086064969826273887&#45;&gt;/outputs/44 -->\n<g id=\"edge8\" class=\"edge\">\n<title>1086064969826273887&#45;&gt;/outputs/44</title>\n<path fill=\"none\" stroke=\"#000000\" d=\"M486.0213,-31.0963C494.525,-33.2437 503.6032,-35.5362 512.1433,-37.6928\"/>\n<polygon fill=\"#000000\" stroke=\"#000000\" points=\"511.3021,-41.0901 521.8547,-40.1451 513.0161,-34.3032 511.3021,-41.0901\"/>\n</g>\n<!-- 17491595721177871151&#45;&gt;/outputs/53 -->\n<g id=\"edge10\" class=\"edge\">\n<title>17491595721177871151&#45;&gt;/outputs/53</title>\n<path fill=\"none\" stroke=\"#000000\" d=\"M684.0213,-47C692.3402,-47 701.2088,-47 709.5856,-47\"/>\n<polygon fill=\"#000000\" stroke=\"#000000\" points=\"709.8548,-50.5001 719.8547,-47 709.8547,-43.5001 709.8548,-50.5001\"/>\n</g>\n</g>\n</svg>\n",
            "text/plain": [
              "<hiddenlayer.graph.Graph at 0x7fb1b21297d0>"
            ]
          },
          "execution_count": 47,
          "metadata": {},
          "output_type": "execute_result"
        }
      ]
    },
    {
      "cell_type": "code",
      "metadata": {
        "colab": {
          "base_uri": "https://localhost:8080/"
        },
        "id": "7zv8bpKJBJ0-",
        "outputId": "ca97da87-ba88-4388-b6cf-7f104ed82e01"
      },
      "source": [
        "ssu_loss_cifar, ssu_acc_cifar = runner(mlp_ssu_cifar, train_loader_CIFAR10, test_loader_CIFAR10)"
      ],
      "execution_count": null,
      "outputs": [
        {
          "name": "stderr",
          "output_type": "stream",
          "text": [
            " 25%|██▌       | 5/20 [01:28<04:29, 17.95s/it]"
          ]
        },
        {
          "name": "stdout",
          "output_type": "stream",
          "text": [
            "Epoch 5 - Training loss: 2.169813738793743 - val_acc: 0.26739999651908875\n"
          ]
        },
        {
          "name": "stderr",
          "output_type": "stream",
          "text": [
            " 50%|█████     | 10/20 [02:59<03:02, 18.27s/it]"
          ]
        },
        {
          "name": "stdout",
          "output_type": "stream",
          "text": [
            "Epoch 10 - Training loss: 2.1297342315012093 - val_acc: 0.334199994802475\n"
          ]
        },
        {
          "name": "stderr",
          "output_type": "stream",
          "text": [
            " 75%|███████▌  | 15/20 [04:31<01:31, 18.23s/it]"
          ]
        },
        {
          "name": "stdout",
          "output_type": "stream",
          "text": [
            "Epoch 15 - Training loss: 2.1054414157964745 - val_acc: 0.3521000146865845\n"
          ]
        },
        {
          "name": "stderr",
          "output_type": "stream",
          "text": [
            "100%|██████████| 20/20 [06:03<00:00, 18.16s/it]"
          ]
        },
        {
          "name": "stdout",
          "output_type": "stream",
          "text": [
            "Epoch 20 - Training loss: 2.0738636285674814 - val_acc: 0.3709999918937683\n"
          ]
        },
        {
          "name": "stderr",
          "output_type": "stream",
          "text": [
            "\n"
          ]
        }
      ]
    },
    {
      "cell_type": "markdown",
      "metadata": {
        "id": "bO7OGgxtBiwm"
      },
      "source": [
        "###Comparison\n",
        "\n",
        "Plotting Accuracy and Loss for both MNIST and CIFAR10"
      ]
    },
    {
      "cell_type": "code",
      "metadata": {
        "colab": {
          "base_uri": "https://localhost:8080/",
          "height": 545
        },
        "id": "R7Als8F_BjBW",
        "outputId": "33672aa6-89ce-4443-9e1d-fea12deda4ea"
      },
      "source": [
        "plt.figure('Accuracy')\n",
        "plt.title('Accuracy MNIST')\n",
        "\n",
        "plt.plot([i.to(torch.device('cpu')).mul(100) for i in unskipped_acc_mnist], label = 'UUU')\n",
        "plt.plot([i.to(torch.device('cpu')).mul(100) for i in skipped_acc_mnist], label = 'SSS')\n",
        "plt.plot([i.to(torch.device('cpu')).mul(100) for i in uss_acc_mnist], label = 'USS')\n",
        "plt.plot([i.to(torch.device('cpu')).mul(100) for i in uus_acc_mnist], label = 'UUS')\n",
        "plt.plot([i.to(torch.device('cpu')).mul(100) for i in sus_acc_mnist], label = 'SUS')\n",
        "plt.plot([i.to(torch.device('cpu')).mul(100) for i in ssu_acc_mnist], label = 'SSU')\n",
        "\n",
        "plt.xlim(0, 20)\n",
        "# plt.ylim(0, 100)\n",
        "plt.legend()\n",
        "plt.show()\n",
        "\n",
        "plt.figure('Loss')\n",
        "plt.title('Loss MNIST')\n",
        "\n",
        "plt.plot(unskipped_loss_mnist, label = 'UUU')\n",
        "plt.plot(skipped_loss_mnist, label = 'SSS')\n",
        "plt.plot(uss_loss_mnist, label = 'USS')\n",
        "plt.plot(uus_loss_mnist, label = 'UUS')\n",
        "plt.plot(sus_loss_mnist, label = 'SUS')\n",
        "plt.plot(ssu_loss_mnist, label = 'SSU')\n",
        "\n",
        "plt.xlim(0, 20)\n",
        "\n",
        "plt.legend()\n",
        "plt.show()"
      ],
      "execution_count": 66,
      "outputs": [
        {
          "output_type": "display_data",
          "data": {
            "image/png": "[encoded data removed]",
            "text/plain": [
              "<Figure size 432x288 with 1 Axes>"
            ]
          },
          "metadata": {
            "needs_background": "light"
          }
        },
        {
          "output_type": "display_data",
          "data": {
            "image/png": "[encoded data removed]",
            "text/plain": [
              "<Figure size 432x288 with 1 Axes>"
            ]
          },
          "metadata": {
            "needs_background": "light"
          }
        }
      ]
    },
    {
      "cell_type": "code",
      "metadata": {
        "colab": {
          "base_uri": "https://localhost:8080/",
          "height": 545
        },
        "id": "CyYh7taUB3BY",
        "outputId": "fb4fb490-2f1a-4ad6-f06b-430b2c830e4f"
      },
      "source": [
        "plt.figure('Accuracy')\n",
        "plt.title('Accuracy CIFAR10')\n",
        "\n",
        "plt.plot([i.to(torch.device('cpu')).mul(100) for i in unskipped_acc_cifar], label = 'UUU')\n",
        "plt.plot([i.to(torch.device('cpu')).mul(100) for i in skipped_acc_cifar], label = 'SSS')\n",
        "plt.plot([i.to(torch.device('cpu')).mul(100) for i in uss_acc_cifar], label = 'USS')\n",
        "plt.plot([i.to(torch.device('cpu')).mul(100) for i in uus_acc_cifar], label = 'UUS')\n",
        "plt.plot([i.to(torch.device('cpu')).mul(100) for i in sus_acc_cifar], label = 'SUS')\n",
        "plt.plot([i.to(torch.device('cpu')).mul(100) for i in ssu_acc_cifar], label = 'SSU')\n",
        "\n",
        "plt.xlim(0, 20)\n",
        "# plt.ylim(0, 100)\n",
        "plt.legend()\n",
        "plt.show()\n",
        "\n",
        "plt.figure('Loss')\n",
        "plt.title('Loss CIFAR10')\n",
        "\n",
        "plt.plot(unskipped_loss_cifar, label = 'UUU')\n",
        "plt.plot(skipped_loss_cifar, label = 'SSS')\n",
        "plt.plot(uss_loss_cifar, label = 'USS')\n",
        "plt.plot(uus_loss_cifar, label = 'UUS')\n",
        "plt.plot(sus_loss_cifar, label = 'SUS')\n",
        "plt.plot(ssu_loss_cifar, label = 'SSU')\n",
        "\n",
        "plt.xlim(0, 20)\n",
        "\n",
        "plt.legend()\n",
        "plt.show()"
      ],
      "execution_count": 65,
      "outputs": [
        {
          "output_type": "display_data",
          "data": {
            "image/png": "[encoded data removed]",
            "text/plain": [
              "<Figure size 432x288 with 1 Axes>"
            ]
          },
          "metadata": {
            "needs_background": "light"
          }
        },
        {
          "output_type": "display_data",
          "data": {
            "image/png": "[encoded data removed]",
            "text/plain": [
              "<Figure size 432x288 with 1 Axes>"
            ]
          },
          "metadata": {
            "needs_background": "light"
          }
        }
      ]
    },
    {
      "cell_type": "markdown",
      "metadata": {
        "id": "cVHQB1ajzP-N"
      },
      "source": [
        "###Observations\n",
        "\n",
        "UUU, the model with no skip connection performed the worst, in both accuracy, as well as loss, for both datasets.\n",
        "\n",
        "Whereas, SSS performed the best in both Loss and Accuracy, over both datasets.\n",
        "\n",
        "In general, we saw that the models with more skip connections, saw better performance overall.\n",
        "\n",
        "USS performed the best consistently in comparision to SUS and SSU, which tells us that deeper skip connections give better results."
      ]
    },
    {
      "cell_type": "markdown",
      "metadata": {
        "id": "FnYNrBpwB_x3"
      },
      "source": [
        "## Number of layers skipped\n",
        "\n",
        "Here is a 11 layered MLP generator, which takes in a two character string, which denoted the number of layers skipped in each occasion. The original structure was changed to support this experiment."
      ]
    },
    {
      "cell_type": "code",
      "metadata": {
        "id": "h-KM65SUB_Zh"
      },
      "source": [
        "class MLP_gap(torch.nn.Module):\n",
        "  \n",
        "    def __init__(self, inputsize, s):\n",
        "\n",
        "        super(MLP_gap, self).__init__()\n",
        "        self.fc1 = torch.nn.Linear(inputsize,256)\n",
        "        self.fc2 = torch.nn.Linear(256,256)\n",
        "        self.fc3 = torch.nn.Linear(256,256)\n",
        "        self.fc4 = torch.nn.Linear(256,256)\n",
        "        self.fc5 = torch.nn.Linear(256,256)\n",
        "        self.fc6 = torch.nn.Linear(256,256)\n",
        "        self.fc7 = torch.nn.Linear(256,64)\n",
        "        self.fc8 = torch.nn.Linear(64,64)\n",
        "        self.fc9 = torch.nn.Linear(64,64)\n",
        "        self.fc10 = torch.nn.Linear(64,64)\n",
        "        self.fc11 = torch.nn.Linear(64,10)\n",
        "\n",
        "        self.s = s\n",
        "\n",
        "    def forward(self, x):\n",
        "        output = x\n",
        "        output = torch.nn.functional.relu(self.fc1(output))\n",
        "        output = torch.nn.functional.relu(self.fc2(output))\n",
        "        res1 = output\n",
        "        output = torch.nn.functional.relu(self.fc3(output))\n",
        "        output = torch.nn.functional.relu(self.fc4(output))\n",
        "        if self.s[0] == '2':                              \n",
        "          output += res1\n",
        "        output = torch.nn.functional.relu(self.fc5(output))\n",
        "        if self.s[0] == '3':\n",
        "          output += res1\n",
        "        output = torch.nn.functional.relu(self.fc6(output))\n",
        "        output = torch.nn.functional.relu(self.fc7(output))\n",
        "        if self.s[1] == '3':\n",
        "          res2 = output\n",
        "        output = torch.nn.functional.relu(self.fc8(output))\n",
        "        if self.s[1] == '2':\n",
        "          res2 = output\n",
        "        output = torch.nn.functional.relu(self.fc9(output))\n",
        "        output = torch.nn.functional.relu(self.fc10(output))\n",
        "        output += res2\n",
        "        output = torch.nn.functional.softmax(self.fc11(output), dim = 1)\n",
        "        return output"
      ],
      "execution_count": null,
      "outputs": []
    },
    {
      "cell_type": "markdown",
      "metadata": {
        "id": "Ycl0JA-s7dez"
      },
      "source": [
        "###Initializing and Training '22'"
      ]
    },
    {
      "cell_type": "code",
      "metadata": {
        "colab": {
          "base_uri": "https://localhost:8080/",
          "height": 208
        },
        "id": "m1YHsy4oDYk9",
        "outputId": "9d1ef12a-b216-4f19-c43b-997f4f9c2180"
      },
      "source": [
        "mlp_gap22_mnist = MLP_gap(28*28*1, '22')\n",
        "mlp_gap22_mnist = mlp_gap22_mnist.to(device)\n",
        "\n",
        "mlp_gap22_cifar = MLP_gap(32*32*3, '22')\n",
        "mlp_gap22_cifar = mlp_gap22_cifar.to(device)\n",
        "\n",
        "hl.build_graph(mlp_gap22_cifar, images)"
      ],
      "execution_count": null,
      "outputs": [
        {
          "data": {
            "image/svg+xml": "<?xml version=\"1.0\" encoding=\"UTF-8\" standalone=\"no\"?>\n<!DOCTYPE svg PUBLIC \"-//W3C//DTD SVG 1.1//EN\"\n \"http://www.w3.org/Graphics/SVG/1.1/DTD/svg11.dtd\">\n<!-- Generated by graphviz version 2.40.1 (20161225.0304)\n -->\n<!-- Title: %3 Pages: 1 -->\n<svg width=\"900pt\" height=\"141pt\"\n viewBox=\"0.00 0.00 900.00 141.00\" xmlns=\"http://www.w3.org/2000/svg\" xmlns:xlink=\"http://www.w3.org/1999/xlink\">\n<g id=\"graph0\" class=\"graph\" transform=\"scale(1 1) rotate(0) translate(72 105)\">\n<title>%3</title>\n<polygon fill=\"#ffffff\" stroke=\"transparent\" points=\"-72,36 -72,-105 828,-105 828,36 -72,36\"/>\n<!-- /outputs/31 -->\n<g id=\"node1\" class=\"node\">\n<title>/outputs/31</title>\n<polygon fill=\"#e8e8e8\" stroke=\"#000000\" points=\"270,-65 216,-65 216,-29 270,-29 270,-65\"/>\n<text text-anchor=\"start\" x=\"234\" y=\"-44\" font-family=\"Times\" font-size=\"10.00\" fill=\"#000000\">Add</text>\n</g>\n<!-- 8819367031999940549 -->\n<g id=\"node8\" class=\"node\">\n<title>8819367031999940549</title>\n<polygon fill=\"#e8e8e8\" stroke=\"#000000\" points=\"378,-69 306,-69 306,-25 378,-25 378,-69\"/>\n<text text-anchor=\"start\" x=\"314\" y=\"-53\" font-family=\"Times\" font-size=\"10.00\" fill=\"#000000\">Linear &gt; Relu</text>\n<text text-anchor=\"start\" x=\"363\" y=\"-32\" font-family=\"Times\" font-size=\"10.00\" fill=\"#000000\">x4</text>\n</g>\n<!-- /outputs/31&#45;&gt;8819367031999940549 -->\n<g id=\"edge7\" class=\"edge\">\n<title>/outputs/31&#45;&gt;8819367031999940549</title>\n<path fill=\"none\" stroke=\"#000000\" d=\"M270.0522,-47C277.9527,-47 286.8212,-47 295.5618,-47\"/>\n<polygon fill=\"#000000\" stroke=\"#000000\" points=\"295.6982,-50.5001 305.6982,-47 295.6982,-43.5001 295.6982,-50.5001\"/>\n</g>\n<!-- /outputs/44 -->\n<g id=\"node2\" class=\"node\">\n<title>/outputs/44</title>\n<polygon fill=\"#e8e8e8\" stroke=\"#000000\" points=\"576,-65 522,-65 522,-29 576,-29 576,-65\"/>\n<text text-anchor=\"start\" x=\"540\" y=\"-44\" font-family=\"Times\" font-size=\"10.00\" fill=\"#000000\">Add</text>\n</g>\n<!-- /outputs/45 -->\n<g id=\"node3\" class=\"node\">\n<title>/outputs/45</title>\n<polygon fill=\"#e8e8e8\" stroke=\"#000000\" points=\"666,-65 612,-65 612,-29 666,-29 666,-65\"/>\n<text text-anchor=\"start\" x=\"626\" y=\"-44\" font-family=\"Times\" font-size=\"10.00\" fill=\"#000000\">Linear</text>\n</g>\n<!-- /outputs/44&#45;&gt;/outputs/45 -->\n<g id=\"edge1\" class=\"edge\">\n<title>/outputs/44&#45;&gt;/outputs/45</title>\n<path fill=\"none\" stroke=\"#000000\" d=\"M576.003,-47C584.0277,-47 592.9665,-47 601.5309,-47\"/>\n<polygon fill=\"#000000\" stroke=\"#000000\" points=\"601.7051,-50.5001 611.705,-47 601.705,-43.5001 601.7051,-50.5001\"/>\n</g>\n<!-- /outputs/46 -->\n<g id=\"node4\" class=\"node\">\n<title>/outputs/46</title>\n<polygon fill=\"#e8e8e8\" stroke=\"#000000\" points=\"756,-65 702,-65 702,-29 756,-29 756,-65\"/>\n<text text-anchor=\"start\" x=\"712\" y=\"-44\" font-family=\"Times\" font-size=\"10.00\" fill=\"#000000\">Softmax</text>\n</g>\n<!-- /outputs/45&#45;&gt;/outputs/46 -->\n<g id=\"edge2\" class=\"edge\">\n<title>/outputs/45&#45;&gt;/outputs/46</title>\n<path fill=\"none\" stroke=\"#000000\" d=\"M666.003,-47C674.0277,-47 682.9665,-47 691.5309,-47\"/>\n<polygon fill=\"#000000\" stroke=\"#000000\" points=\"691.7051,-50.5001 701.705,-47 691.705,-43.5001 691.7051,-50.5001\"/>\n</g>\n<!-- 4649136894456483692 -->\n<g id=\"node5\" class=\"node\">\n<title>4649136894456483692</title>\n<polygon fill=\"#e8e8e8\" stroke=\"#000000\" points=\"72,-69 0,-69 0,-25 72,-25 72,-69\"/>\n<text text-anchor=\"start\" x=\"8\" y=\"-53\" font-family=\"Times\" font-size=\"10.00\" fill=\"#000000\">Linear &gt; Relu</text>\n<text text-anchor=\"start\" x=\"57\" y=\"-32\" font-family=\"Times\" font-size=\"10.00\" fill=\"#000000\">x2</text>\n</g>\n<!-- 4649136894456483692&#45;&gt;/outputs/31 -->\n<g id=\"edge3\" class=\"edge\">\n<title>4649136894456483692&#45;&gt;/outputs/31</title>\n<path fill=\"none\" stroke=\"#000000\" d=\"M72.2222,-50.6102C83.6557,-51.5908 96.3448,-52.5152 108,-53 139.9724,-54.3299 148.0361,-54.5187 180,-53 188.3484,-52.6034 197.2982,-51.9126 205.7547,-51.1377\"/>\n<polygon fill=\"#000000\" stroke=\"#000000\" points=\"206.1377,-54.617 215.7516,-50.1647 205.4596,-47.6499 206.1377,-54.617\"/>\n</g>\n<!-- 3461915250584903651 -->\n<g id=\"node6\" class=\"node\">\n<title>3461915250584903651</title>\n<polygon fill=\"#e8e8e8\" stroke=\"#000000\" points=\"180,-44 108,-44 108,0 180,0 180,-44\"/>\n<text text-anchor=\"start\" x=\"116\" y=\"-28\" font-family=\"Times\" font-size=\"10.00\" fill=\"#000000\">Linear &gt; Relu</text>\n<text text-anchor=\"start\" x=\"165\" y=\"-7\" font-family=\"Times\" font-size=\"10.00\" fill=\"#000000\">x2</text>\n</g>\n<!-- 4649136894456483692&#45;&gt;3461915250584903651 -->\n<g id=\"edge4\" class=\"edge\">\n<title>4649136894456483692&#45;&gt;3461915250584903651</title>\n<path fill=\"none\" stroke=\"#000000\" d=\"M72.2629,-38.6058C80.4552,-36.7094 89.2602,-34.6712 97.7994,-32.6946\"/>\n<polygon fill=\"#000000\" stroke=\"#000000\" points=\"98.6959,-36.0797 107.649,-30.4146 97.1173,-29.26 98.6959,-36.0797\"/>\n</g>\n<!-- 3461915250584903651&#45;&gt;/outputs/31 -->\n<g id=\"edge5\" class=\"edge\">\n<title>3461915250584903651&#45;&gt;/outputs/31</title>\n<path fill=\"none\" stroke=\"#000000\" d=\"M180.0213,-31.0963C188.525,-33.2437 197.6032,-35.5362 206.1433,-37.6928\"/>\n<polygon fill=\"#000000\" stroke=\"#000000\" points=\"205.3021,-41.0901 215.8547,-40.1451 207.0161,-34.3032 205.3021,-41.0901\"/>\n</g>\n<!-- 13234919474359058956 -->\n<g id=\"node7\" class=\"node\">\n<title>13234919474359058956</title>\n<polygon fill=\"#e8e8e8\" stroke=\"#000000\" points=\"486,-44 414,-44 414,0 486,0 486,-44\"/>\n<text text-anchor=\"start\" x=\"422\" y=\"-28\" font-family=\"Times\" font-size=\"10.00\" fill=\"#000000\">Linear &gt; Relu</text>\n<text text-anchor=\"start\" x=\"471\" y=\"-7\" font-family=\"Times\" font-size=\"10.00\" fill=\"#000000\">x2</text>\n</g>\n<!-- 13234919474359058956&#45;&gt;/outputs/44 -->\n<g id=\"edge6\" class=\"edge\">\n<title>13234919474359058956&#45;&gt;/outputs/44</title>\n<path fill=\"none\" stroke=\"#000000\" d=\"M486.0213,-31.0963C494.525,-33.2437 503.6032,-35.5362 512.1433,-37.6928\"/>\n<polygon fill=\"#000000\" stroke=\"#000000\" points=\"511.3021,-41.0901 521.8547,-40.1451 513.0161,-34.3032 511.3021,-41.0901\"/>\n</g>\n<!-- 8819367031999940549&#45;&gt;/outputs/44 -->\n<g id=\"edge8\" class=\"edge\">\n<title>8819367031999940549&#45;&gt;/outputs/44</title>\n<path fill=\"none\" stroke=\"#000000\" d=\"M378.2222,-50.6102C389.6557,-51.5908 402.3448,-52.5152 414,-53 445.9724,-54.3299 454.0361,-54.5187 486,-53 494.3484,-52.6034 503.2982,-51.9126 511.7547,-51.1377\"/>\n<polygon fill=\"#000000\" stroke=\"#000000\" points=\"512.1377,-54.617 521.7516,-50.1647 511.4596,-47.6499 512.1377,-54.617\"/>\n</g>\n<!-- 8819367031999940549&#45;&gt;13234919474359058956 -->\n<g id=\"edge9\" class=\"edge\">\n<title>8819367031999940549&#45;&gt;13234919474359058956</title>\n<path fill=\"none\" stroke=\"#000000\" d=\"M378.2629,-38.6058C386.4552,-36.7094 395.2602,-34.6712 403.7994,-32.6946\"/>\n<polygon fill=\"#000000\" stroke=\"#000000\" points=\"404.6959,-36.0797 413.649,-30.4146 403.1173,-29.26 404.6959,-36.0797\"/>\n</g>\n</g>\n</svg>\n",
            "text/plain": [
              "<hiddenlayer.graph.Graph at 0x7fb1b1e377d0>"
            ]
          },
          "execution_count": 52,
          "metadata": {},
          "output_type": "execute_result"
        }
      ]
    },
    {
      "cell_type": "code",
      "metadata": {
        "colab": {
          "base_uri": "https://localhost:8080/"
        },
        "id": "c1s3TTI3EHti",
        "outputId": "c2324af5-6f78-45ad-a6d4-2e234de30a75"
      },
      "source": [
        "s22_loss_mnist, s22_acc_mnist = runner(mlp_gap22_mnist, train_loader_MNIST, test_loader_MNIST)"
      ],
      "execution_count": null,
      "outputs": [
        {
          "name": "stderr",
          "output_type": "stream",
          "text": [
            " 25%|██▌       | 5/20 [01:12<03:39, 14.65s/it]"
          ]
        },
        {
          "name": "stdout",
          "output_type": "stream",
          "text": [
            "Epoch 5 - Training loss: 1.5565276851045324 - val_acc: 0.902400016784668\n"
          ]
        },
        {
          "name": "stderr",
          "output_type": "stream",
          "text": [
            " 50%|█████     | 10/20 [02:26<02:27, 14.78s/it]"
          ]
        },
        {
          "name": "stdout",
          "output_type": "stream",
          "text": [
            "Epoch 10 - Training loss: 1.518676125242355 - val_acc: 0.9363999962806702\n"
          ]
        },
        {
          "name": "stderr",
          "output_type": "stream",
          "text": [
            " 75%|███████▌  | 15/20 [03:40<01:14, 14.83s/it]"
          ]
        },
        {
          "name": "stdout",
          "output_type": "stream",
          "text": [
            "Epoch 15 - Training loss: 1.503560484723842 - val_acc: 0.9502000212669373\n"
          ]
        },
        {
          "name": "stderr",
          "output_type": "stream",
          "text": [
            "100%|██████████| 20/20 [04:55<00:00, 14.77s/it]"
          ]
        },
        {
          "name": "stdout",
          "output_type": "stream",
          "text": [
            "Epoch 20 - Training loss: 1.4949936572541582 - val_acc: 0.9538999795913696\n"
          ]
        },
        {
          "name": "stderr",
          "output_type": "stream",
          "text": [
            "\n"
          ]
        }
      ]
    },
    {
      "cell_type": "code",
      "metadata": {
        "colab": {
          "base_uri": "https://localhost:8080/"
        },
        "id": "aRSu9sA0Ea_L",
        "outputId": "8bedb03f-92f5-41c8-be3e-3eeb8d36b24c"
      },
      "source": [
        "s22_loss_cifar, s22_acc_cifar = runner(mlp_gap22_cifar, train_loader_CIFAR10, test_loader_CIFAR10)"
      ],
      "execution_count": null,
      "outputs": [
        {
          "name": "stderr",
          "output_type": "stream",
          "text": [
            " 25%|██▌       | 5/20 [01:28<04:32, 18.18s/it]"
          ]
        },
        {
          "name": "stdout",
          "output_type": "stream",
          "text": [
            "Epoch 5 - Training loss: 2.148400756777549 - val_acc: 0.31679999828338623\n"
          ]
        },
        {
          "name": "stderr",
          "output_type": "stream",
          "text": [
            " 50%|█████     | 10/20 [03:00<03:03, 18.31s/it]"
          ]
        },
        {
          "name": "stdout",
          "output_type": "stream",
          "text": [
            "Epoch 10 - Training loss: 2.0794484396370088 - val_acc: 0.37599998712539673\n"
          ]
        },
        {
          "name": "stderr",
          "output_type": "stream",
          "text": [
            " 75%|███████▌  | 15/20 [04:33<01:32, 18.55s/it]"
          ]
        },
        {
          "name": "stdout",
          "output_type": "stream",
          "text": [
            "Epoch 15 - Training loss: 2.0444433324191036 - val_acc: 0.4099999964237213\n"
          ]
        },
        {
          "name": "stderr",
          "output_type": "stream",
          "text": [
            "100%|██████████| 20/20 [06:05<00:00, 18.29s/it]"
          ]
        },
        {
          "name": "stdout",
          "output_type": "stream",
          "text": [
            "Epoch 20 - Training loss: 2.022419200259812 - val_acc: 0.4390000104904175\n"
          ]
        },
        {
          "name": "stderr",
          "output_type": "stream",
          "text": [
            "\n"
          ]
        }
      ]
    },
    {
      "cell_type": "markdown",
      "metadata": {
        "id": "ZDLSbmKP7lVP"
      },
      "source": [
        "###Initializing and Training '32'"
      ]
    },
    {
      "cell_type": "code",
      "metadata": {
        "colab": {
          "base_uri": "https://localhost:8080/"
        },
        "id": "OGjQddocDb-r",
        "outputId": "810b79d2-ebe1-46de-ab46-44ef263e9339"
      },
      "source": [
        "mlp_gap32_mnist = MLP_gap(28*28*1, '32')\n",
        "mlp_gap32_mnist = mlp_gap22_mnist.to(device)\n",
        "\n",
        "mlp_gap32_cifar = MLP_gap(32*32*3, '32')\n",
        "mlp_gap32_cifar = mlp_gap32_cifar.to(device)\n",
        "\n",
        "hl.build_graph(mlp_gap32_cifar, images)"
      ],
      "execution_count": null,
      "outputs": [
        {
          "data": {
            "image/svg+xml": "<?xml version=\"1.0\" encoding=\"UTF-8\" standalone=\"no\"?>\n<!DOCTYPE svg PUBLIC \"-//W3C//DTD SVG 1.1//EN\"\n \"http://www.w3.org/Graphics/SVG/1.1/DTD/svg11.dtd\">\n<!-- Generated by graphviz version 2.40.1 (20161225.0304)\n -->\n<!-- Title: %3 Pages: 1 -->\n<svg width=\"900pt\" height=\"141pt\"\n viewBox=\"0.00 0.00 900.00 141.00\" xmlns=\"http://www.w3.org/2000/svg\" xmlns:xlink=\"http://www.w3.org/1999/xlink\">\n<g id=\"graph0\" class=\"graph\" transform=\"scale(1 1) rotate(0) translate(72 105)\">\n<title>%3</title>\n<polygon fill=\"#ffffff\" stroke=\"transparent\" points=\"-72,36 -72,-105 828,-105 828,36 -72,36\"/>\n<!-- /outputs/33 -->\n<g id=\"node1\" class=\"node\">\n<title>/outputs/33</title>\n<polygon fill=\"#e8e8e8\" stroke=\"#000000\" points=\"270,-65 216,-65 216,-29 270,-29 270,-65\"/>\n<text text-anchor=\"start\" x=\"234\" y=\"-44\" font-family=\"Times\" font-size=\"10.00\" fill=\"#000000\">Add</text>\n</g>\n<!-- 561528330056391324 -->\n<g id=\"node8\" class=\"node\">\n<title>561528330056391324</title>\n<polygon fill=\"#e8e8e8\" stroke=\"#000000\" points=\"378,-69 306,-69 306,-25 378,-25 378,-69\"/>\n<text text-anchor=\"start\" x=\"314\" y=\"-53\" font-family=\"Times\" font-size=\"10.00\" fill=\"#000000\">Linear &gt; Relu</text>\n<text text-anchor=\"start\" x=\"363\" y=\"-32\" font-family=\"Times\" font-size=\"10.00\" fill=\"#000000\">x3</text>\n</g>\n<!-- /outputs/33&#45;&gt;561528330056391324 -->\n<g id=\"edge7\" class=\"edge\">\n<title>/outputs/33&#45;&gt;561528330056391324</title>\n<path fill=\"none\" stroke=\"#000000\" d=\"M270.0522,-47C277.9527,-47 286.8212,-47 295.5618,-47\"/>\n<polygon fill=\"#000000\" stroke=\"#000000\" points=\"295.6982,-50.5001 305.6982,-47 295.6982,-43.5001 295.6982,-50.5001\"/>\n</g>\n<!-- /outputs/44 -->\n<g id=\"node2\" class=\"node\">\n<title>/outputs/44</title>\n<polygon fill=\"#e8e8e8\" stroke=\"#000000\" points=\"576,-65 522,-65 522,-29 576,-29 576,-65\"/>\n<text text-anchor=\"start\" x=\"540\" y=\"-44\" font-family=\"Times\" font-size=\"10.00\" fill=\"#000000\">Add</text>\n</g>\n<!-- /outputs/45 -->\n<g id=\"node3\" class=\"node\">\n<title>/outputs/45</title>\n<polygon fill=\"#e8e8e8\" stroke=\"#000000\" points=\"666,-65 612,-65 612,-29 666,-29 666,-65\"/>\n<text text-anchor=\"start\" x=\"626\" y=\"-44\" font-family=\"Times\" font-size=\"10.00\" fill=\"#000000\">Linear</text>\n</g>\n<!-- /outputs/44&#45;&gt;/outputs/45 -->\n<g id=\"edge1\" class=\"edge\">\n<title>/outputs/44&#45;&gt;/outputs/45</title>\n<path fill=\"none\" stroke=\"#000000\" d=\"M576.003,-47C584.0277,-47 592.9665,-47 601.5309,-47\"/>\n<polygon fill=\"#000000\" stroke=\"#000000\" points=\"601.7051,-50.5001 611.705,-47 601.705,-43.5001 601.7051,-50.5001\"/>\n</g>\n<!-- /outputs/46 -->\n<g id=\"node4\" class=\"node\">\n<title>/outputs/46</title>\n<polygon fill=\"#e8e8e8\" stroke=\"#000000\" points=\"756,-65 702,-65 702,-29 756,-29 756,-65\"/>\n<text text-anchor=\"start\" x=\"712\" y=\"-44\" font-family=\"Times\" font-size=\"10.00\" fill=\"#000000\">Softmax</text>\n</g>\n<!-- /outputs/45&#45;&gt;/outputs/46 -->\n<g id=\"edge2\" class=\"edge\">\n<title>/outputs/45&#45;&gt;/outputs/46</title>\n<path fill=\"none\" stroke=\"#000000\" d=\"M666.003,-47C674.0277,-47 682.9665,-47 691.5309,-47\"/>\n<polygon fill=\"#000000\" stroke=\"#000000\" points=\"691.7051,-50.5001 701.705,-47 691.705,-43.5001 691.7051,-50.5001\"/>\n</g>\n<!-- 2628896871213119507 -->\n<g id=\"node5\" class=\"node\">\n<title>2628896871213119507</title>\n<polygon fill=\"#e8e8e8\" stroke=\"#000000\" points=\"72,-69 0,-69 0,-25 72,-25 72,-69\"/>\n<text text-anchor=\"start\" x=\"8\" y=\"-53\" font-family=\"Times\" font-size=\"10.00\" fill=\"#000000\">Linear &gt; Relu</text>\n<text text-anchor=\"start\" x=\"57\" y=\"-32\" font-family=\"Times\" font-size=\"10.00\" fill=\"#000000\">x2</text>\n</g>\n<!-- 2628896871213119507&#45;&gt;/outputs/33 -->\n<g id=\"edge3\" class=\"edge\">\n<title>2628896871213119507&#45;&gt;/outputs/33</title>\n<path fill=\"none\" stroke=\"#000000\" d=\"M72.2222,-50.6102C83.6557,-51.5908 96.3448,-52.5152 108,-53 139.9724,-54.3299 148.0361,-54.5187 180,-53 188.3484,-52.6034 197.2982,-51.9126 205.7547,-51.1377\"/>\n<polygon fill=\"#000000\" stroke=\"#000000\" points=\"206.1377,-54.617 215.7516,-50.1647 205.4596,-47.6499 206.1377,-54.617\"/>\n</g>\n<!-- 15846487022473270628 -->\n<g id=\"node7\" class=\"node\">\n<title>15846487022473270628</title>\n<polygon fill=\"#e8e8e8\" stroke=\"#000000\" points=\"180,-44 108,-44 108,0 180,0 180,-44\"/>\n<text text-anchor=\"start\" x=\"116\" y=\"-28\" font-family=\"Times\" font-size=\"10.00\" fill=\"#000000\">Linear &gt; Relu</text>\n<text text-anchor=\"start\" x=\"165\" y=\"-7\" font-family=\"Times\" font-size=\"10.00\" fill=\"#000000\">x3</text>\n</g>\n<!-- 2628896871213119507&#45;&gt;15846487022473270628 -->\n<g id=\"edge5\" class=\"edge\">\n<title>2628896871213119507&#45;&gt;15846487022473270628</title>\n<path fill=\"none\" stroke=\"#000000\" d=\"M72.2629,-38.6058C80.4552,-36.7094 89.2602,-34.6712 97.7994,-32.6946\"/>\n<polygon fill=\"#000000\" stroke=\"#000000\" points=\"98.6959,-36.0797 107.649,-30.4146 97.1173,-29.26 98.6959,-36.0797\"/>\n</g>\n<!-- 14393023825220120745 -->\n<g id=\"node6\" class=\"node\">\n<title>14393023825220120745</title>\n<polygon fill=\"#e8e8e8\" stroke=\"#000000\" points=\"486,-44 414,-44 414,0 486,0 486,-44\"/>\n<text text-anchor=\"start\" x=\"422\" y=\"-28\" font-family=\"Times\" font-size=\"10.00\" fill=\"#000000\">Linear &gt; Relu</text>\n<text text-anchor=\"start\" x=\"471\" y=\"-7\" font-family=\"Times\" font-size=\"10.00\" fill=\"#000000\">x2</text>\n</g>\n<!-- 14393023825220120745&#45;&gt;/outputs/44 -->\n<g id=\"edge4\" class=\"edge\">\n<title>14393023825220120745&#45;&gt;/outputs/44</title>\n<path fill=\"none\" stroke=\"#000000\" d=\"M486.0213,-31.0963C494.525,-33.2437 503.6032,-35.5362 512.1433,-37.6928\"/>\n<polygon fill=\"#000000\" stroke=\"#000000\" points=\"511.3021,-41.0901 521.8547,-40.1451 513.0161,-34.3032 511.3021,-41.0901\"/>\n</g>\n<!-- 15846487022473270628&#45;&gt;/outputs/33 -->\n<g id=\"edge6\" class=\"edge\">\n<title>15846487022473270628&#45;&gt;/outputs/33</title>\n<path fill=\"none\" stroke=\"#000000\" d=\"M180.0213,-31.0963C188.525,-33.2437 197.6032,-35.5362 206.1433,-37.6928\"/>\n<polygon fill=\"#000000\" stroke=\"#000000\" points=\"205.3021,-41.0901 215.8547,-40.1451 207.0161,-34.3032 205.3021,-41.0901\"/>\n</g>\n<!-- 561528330056391324&#45;&gt;/outputs/44 -->\n<g id=\"edge8\" class=\"edge\">\n<title>561528330056391324&#45;&gt;/outputs/44</title>\n<path fill=\"none\" stroke=\"#000000\" d=\"M378.2222,-50.6102C389.6557,-51.5908 402.3448,-52.5152 414,-53 445.9724,-54.3299 454.0361,-54.5187 486,-53 494.3484,-52.6034 503.2982,-51.9126 511.7547,-51.1377\"/>\n<polygon fill=\"#000000\" stroke=\"#000000\" points=\"512.1377,-54.617 521.7516,-50.1647 511.4596,-47.6499 512.1377,-54.617\"/>\n</g>\n<!-- 561528330056391324&#45;&gt;14393023825220120745 -->\n<g id=\"edge9\" class=\"edge\">\n<title>561528330056391324&#45;&gt;14393023825220120745</title>\n<path fill=\"none\" stroke=\"#000000\" d=\"M378.2629,-38.6058C386.4552,-36.7094 395.2602,-34.6712 403.7994,-32.6946\"/>\n<polygon fill=\"#000000\" stroke=\"#000000\" points=\"404.6959,-36.0797 413.649,-30.4146 403.1173,-29.26 404.6959,-36.0797\"/>\n</g>\n</g>\n</svg>\n",
            "text/plain": [
              "<hiddenlayer.graph.Graph at 0x7fb1b1ff9950>"
            ]
          },
          "execution_count": 55,
          "metadata": {},
          "output_type": "execute_result"
        }
      ]
    },
    {
      "cell_type": "code",
      "metadata": {
        "colab": {
          "background_save": true,
          "base_uri": "https://localhost:8080/"
        },
        "id": "_hJu8S_fEiUS",
        "outputId": "86c9bd2f-eb4a-45d8-924f-c3a799744010"
      },
      "source": [
        "s32_loss_mnist, s32_acc_mnist = runner(mlp_gap32_mnist, train_loader_MNIST, test_loader_MNIST)"
      ],
      "execution_count": null,
      "outputs": [
        {
          "name": "stderr",
          "output_type": "stream",
          "text": [
            " 25%|██▌       | 5/20 [01:12<03:38, 14.55s/it]"
          ]
        },
        {
          "name": "stdout",
          "output_type": "stream",
          "text": [
            "Epoch 5 - Training loss: 1.49080843773294 - val_acc: 0.9563999772071838\n"
          ]
        },
        {
          "name": "stderr",
          "output_type": "stream",
          "text": [
            " 50%|█████     | 10/20 [02:26<02:27, 14.70s/it]"
          ]
        },
        {
          "name": "stdout",
          "output_type": "stream",
          "text": [
            "Epoch 10 - Training loss: 1.4867139237992306 - val_acc: 0.9607999920845032\n"
          ]
        },
        {
          "name": "stderr",
          "output_type": "stream",
          "text": [
            " 75%|███████▌  | 15/20 [03:41<01:15, 15.08s/it]"
          ]
        },
        {
          "name": "stdout",
          "output_type": "stream",
          "text": [
            "Epoch 15 - Training loss: 1.4840479424659243 - val_acc: 0.9656999707221985\n"
          ]
        },
        {
          "name": "stderr",
          "output_type": "stream",
          "text": [
            "100%|██████████| 20/20 [05:00<00:00, 15.04s/it]"
          ]
        },
        {
          "name": "stdout",
          "output_type": "stream",
          "text": [
            "Epoch 20 - Training loss: 1.4820373195282956 - val_acc: 0.9672999978065491\n"
          ]
        },
        {
          "name": "stderr",
          "output_type": "stream",
          "text": [
            "\n"
          ]
        }
      ]
    },
    {
      "cell_type": "code",
      "metadata": {
        "colab": {
          "background_save": true
        },
        "id": "Z0_UMhblEiEW",
        "outputId": "dd625399-e0d7-4758-bdd7-24d10121c3d8"
      },
      "source": [
        "s32_loss_cifar, s32_acc_cifar = runner(mlp_gap32_cifar, train_loader_CIFAR10, test_loader_CIFAR10)"
      ],
      "execution_count": null,
      "outputs": [
        {
          "name": "stderr",
          "output_type": "stream",
          "text": [
            " 25%|██▌       | 5/20 [01:27<04:26, 17.76s/it]"
          ]
        },
        {
          "name": "stdout",
          "output_type": "stream",
          "text": [
            "Epoch 5 - Training loss: 2.1145933671873443 - val_acc: 0.3472999930381775\n"
          ]
        },
        {
          "name": "stderr",
          "output_type": "stream",
          "text": [
            " 50%|█████     | 10/20 [02:58<03:02, 18.24s/it]"
          ]
        },
        {
          "name": "stdout",
          "output_type": "stream",
          "text": [
            "Epoch 10 - Training loss: 2.072339208758607 - val_acc: 0.3831000030040741\n"
          ]
        },
        {
          "name": "stderr",
          "output_type": "stream",
          "text": [
            " 75%|███████▌  | 15/20 [04:29<01:31, 18.27s/it]"
          ]
        },
        {
          "name": "stdout",
          "output_type": "stream",
          "text": [
            "Epoch 15 - Training loss: 2.0438556567746766 - val_acc: 0.4115000069141388\n"
          ]
        },
        {
          "name": "stderr",
          "output_type": "stream",
          "text": [
            "100%|██████████| 20/20 [06:01<00:00, 18.06s/it]"
          ]
        },
        {
          "name": "stdout",
          "output_type": "stream",
          "text": [
            "Epoch 20 - Training loss: 2.026865152071933 - val_acc: 0.42149999737739563\n"
          ]
        },
        {
          "name": "stderr",
          "output_type": "stream",
          "text": [
            "\n"
          ]
        }
      ]
    },
    {
      "cell_type": "markdown",
      "metadata": {
        "id": "X5CofHkb7nR_"
      },
      "source": [
        "###Initializing and Training '33'"
      ]
    },
    {
      "cell_type": "code",
      "metadata": {
        "colab": {
          "background_save": true
        },
        "id": "GjhpS3NkD4l6",
        "outputId": "b0edfbe2-6d6a-48af-9598-606259572918"
      },
      "source": [
        "mlp_gap33_mnist = MLP_gap(28*28*1, '33')\n",
        "mlp_gap33_mnist = mlp_gap22_mnist.to(device)\n",
        "\n",
        "mlp_gap33_cifar = MLP_gap(32*32*3, '33')\n",
        "mlp_gap33_cifar = mlp_gap33_cifar.to(device)\n",
        "\n",
        "hl.build_graph(mlp_gap33_cifar, images)"
      ],
      "execution_count": null,
      "outputs": [
        {
          "data": {
            "image/svg+xml": "<?xml version=\"1.0\" encoding=\"UTF-8\" standalone=\"no\"?>\n<!DOCTYPE svg PUBLIC \"-//W3C//DTD SVG 1.1//EN\"\n \"http://www.w3.org/Graphics/SVG/1.1/DTD/svg11.dtd\">\n<!-- Generated by graphviz version 2.40.1 (20161225.0304)\n -->\n<!-- Title: %3 Pages: 1 -->\n<svg width=\"900pt\" height=\"141pt\"\n viewBox=\"0.00 0.00 900.00 141.00\" xmlns=\"http://www.w3.org/2000/svg\" xmlns:xlink=\"http://www.w3.org/1999/xlink\">\n<g id=\"graph0\" class=\"graph\" transform=\"scale(1 1) rotate(0) translate(72 105)\">\n<title>%3</title>\n<polygon fill=\"#ffffff\" stroke=\"transparent\" points=\"-72,36 -72,-105 828,-105 828,36 -72,36\"/>\n<!-- /outputs/33 -->\n<g id=\"node1\" class=\"node\">\n<title>/outputs/33</title>\n<polygon fill=\"#e8e8e8\" stroke=\"#000000\" points=\"270,-65 216,-65 216,-29 270,-29 270,-65\"/>\n<text text-anchor=\"start\" x=\"234\" y=\"-44\" font-family=\"Times\" font-size=\"10.00\" fill=\"#000000\">Add</text>\n</g>\n<!-- 14031936432927438019 -->\n<g id=\"node6\" class=\"node\">\n<title>14031936432927438019</title>\n<polygon fill=\"#e8e8e8\" stroke=\"#000000\" points=\"378,-69 306,-69 306,-25 378,-25 378,-69\"/>\n<text text-anchor=\"start\" x=\"314\" y=\"-53\" font-family=\"Times\" font-size=\"10.00\" fill=\"#000000\">Linear &gt; Relu</text>\n<text text-anchor=\"start\" x=\"363\" y=\"-32\" font-family=\"Times\" font-size=\"10.00\" fill=\"#000000\">x2</text>\n</g>\n<!-- /outputs/33&#45;&gt;14031936432927438019 -->\n<g id=\"edge4\" class=\"edge\">\n<title>/outputs/33&#45;&gt;14031936432927438019</title>\n<path fill=\"none\" stroke=\"#000000\" d=\"M270.0522,-47C277.9527,-47 286.8212,-47 295.5618,-47\"/>\n<polygon fill=\"#000000\" stroke=\"#000000\" points=\"295.6982,-50.5001 305.6982,-47 295.6982,-43.5001 295.6982,-50.5001\"/>\n</g>\n<!-- /outputs/44 -->\n<g id=\"node2\" class=\"node\">\n<title>/outputs/44</title>\n<polygon fill=\"#e8e8e8\" stroke=\"#000000\" points=\"576,-65 522,-65 522,-29 576,-29 576,-65\"/>\n<text text-anchor=\"start\" x=\"540\" y=\"-44\" font-family=\"Times\" font-size=\"10.00\" fill=\"#000000\">Add</text>\n</g>\n<!-- /outputs/45 -->\n<g id=\"node3\" class=\"node\">\n<title>/outputs/45</title>\n<polygon fill=\"#e8e8e8\" stroke=\"#000000\" points=\"666,-65 612,-65 612,-29 666,-29 666,-65\"/>\n<text text-anchor=\"start\" x=\"626\" y=\"-44\" font-family=\"Times\" font-size=\"10.00\" fill=\"#000000\">Linear</text>\n</g>\n<!-- /outputs/44&#45;&gt;/outputs/45 -->\n<g id=\"edge1\" class=\"edge\">\n<title>/outputs/44&#45;&gt;/outputs/45</title>\n<path fill=\"none\" stroke=\"#000000\" d=\"M576.003,-47C584.0277,-47 592.9665,-47 601.5309,-47\"/>\n<polygon fill=\"#000000\" stroke=\"#000000\" points=\"601.7051,-50.5001 611.705,-47 601.705,-43.5001 601.7051,-50.5001\"/>\n</g>\n<!-- /outputs/46 -->\n<g id=\"node4\" class=\"node\">\n<title>/outputs/46</title>\n<polygon fill=\"#e8e8e8\" stroke=\"#000000\" points=\"756,-65 702,-65 702,-29 756,-29 756,-65\"/>\n<text text-anchor=\"start\" x=\"712\" y=\"-44\" font-family=\"Times\" font-size=\"10.00\" fill=\"#000000\">Softmax</text>\n</g>\n<!-- /outputs/45&#45;&gt;/outputs/46 -->\n<g id=\"edge2\" class=\"edge\">\n<title>/outputs/45&#45;&gt;/outputs/46</title>\n<path fill=\"none\" stroke=\"#000000\" d=\"M666.003,-47C674.0277,-47 682.9665,-47 691.5309,-47\"/>\n<polygon fill=\"#000000\" stroke=\"#000000\" points=\"691.7051,-50.5001 701.705,-47 691.705,-43.5001 691.7051,-50.5001\"/>\n</g>\n<!-- 3857667543932160050 -->\n<g id=\"node5\" class=\"node\">\n<title>3857667543932160050</title>\n<polygon fill=\"#e8e8e8\" stroke=\"#000000\" points=\"72,-69 0,-69 0,-25 72,-25 72,-69\"/>\n<text text-anchor=\"start\" x=\"8\" y=\"-53\" font-family=\"Times\" font-size=\"10.00\" fill=\"#000000\">Linear &gt; Relu</text>\n<text text-anchor=\"start\" x=\"57\" y=\"-32\" font-family=\"Times\" font-size=\"10.00\" fill=\"#000000\">x2</text>\n</g>\n<!-- 3857667543932160050&#45;&gt;/outputs/33 -->\n<g id=\"edge3\" class=\"edge\">\n<title>3857667543932160050&#45;&gt;/outputs/33</title>\n<path fill=\"none\" stroke=\"#000000\" d=\"M72.2222,-50.6102C83.6557,-51.5908 96.3448,-52.5152 108,-53 139.9724,-54.3299 148.0361,-54.5187 180,-53 188.3484,-52.6034 197.2982,-51.9126 205.7547,-51.1377\"/>\n<polygon fill=\"#000000\" stroke=\"#000000\" points=\"206.1377,-54.617 215.7516,-50.1647 205.4596,-47.6499 206.1377,-54.617\"/>\n</g>\n<!-- 13736071888696092526 -->\n<g id=\"node7\" class=\"node\">\n<title>13736071888696092526</title>\n<polygon fill=\"#e8e8e8\" stroke=\"#000000\" points=\"180,-44 108,-44 108,0 180,0 180,-44\"/>\n<text text-anchor=\"start\" x=\"116\" y=\"-28\" font-family=\"Times\" font-size=\"10.00\" fill=\"#000000\">Linear &gt; Relu</text>\n<text text-anchor=\"start\" x=\"165\" y=\"-7\" font-family=\"Times\" font-size=\"10.00\" fill=\"#000000\">x3</text>\n</g>\n<!-- 3857667543932160050&#45;&gt;13736071888696092526 -->\n<g id=\"edge6\" class=\"edge\">\n<title>3857667543932160050&#45;&gt;13736071888696092526</title>\n<path fill=\"none\" stroke=\"#000000\" d=\"M72.2629,-38.6058C80.4552,-36.7094 89.2602,-34.6712 97.7994,-32.6946\"/>\n<polygon fill=\"#000000\" stroke=\"#000000\" points=\"98.6959,-36.0797 107.649,-30.4146 97.1173,-29.26 98.6959,-36.0797\"/>\n</g>\n<!-- 14031936432927438019&#45;&gt;/outputs/44 -->\n<g id=\"edge5\" class=\"edge\">\n<title>14031936432927438019&#45;&gt;/outputs/44</title>\n<path fill=\"none\" stroke=\"#000000\" d=\"M378.2222,-50.6102C389.6557,-51.5908 402.3448,-52.5152 414,-53 445.9724,-54.3299 454.0361,-54.5187 486,-53 494.3484,-52.6034 503.2982,-51.9126 511.7547,-51.1377\"/>\n<polygon fill=\"#000000\" stroke=\"#000000\" points=\"512.1377,-54.617 521.7516,-50.1647 511.4596,-47.6499 512.1377,-54.617\"/>\n</g>\n<!-- 12840662573888532287 -->\n<g id=\"node8\" class=\"node\">\n<title>12840662573888532287</title>\n<polygon fill=\"#e8e8e8\" stroke=\"#000000\" points=\"486,-44 414,-44 414,0 486,0 486,-44\"/>\n<text text-anchor=\"start\" x=\"422\" y=\"-28\" font-family=\"Times\" font-size=\"10.00\" fill=\"#000000\">Linear &gt; Relu</text>\n<text text-anchor=\"start\" x=\"471\" y=\"-7\" font-family=\"Times\" font-size=\"10.00\" fill=\"#000000\">x3</text>\n</g>\n<!-- 14031936432927438019&#45;&gt;12840662573888532287 -->\n<g id=\"edge8\" class=\"edge\">\n<title>14031936432927438019&#45;&gt;12840662573888532287</title>\n<path fill=\"none\" stroke=\"#000000\" d=\"M378.2629,-38.6058C386.4552,-36.7094 395.2602,-34.6712 403.7994,-32.6946\"/>\n<polygon fill=\"#000000\" stroke=\"#000000\" points=\"404.6959,-36.0797 413.649,-30.4146 403.1173,-29.26 404.6959,-36.0797\"/>\n</g>\n<!-- 13736071888696092526&#45;&gt;/outputs/33 -->\n<g id=\"edge7\" class=\"edge\">\n<title>13736071888696092526&#45;&gt;/outputs/33</title>\n<path fill=\"none\" stroke=\"#000000\" d=\"M180.0213,-31.0963C188.525,-33.2437 197.6032,-35.5362 206.1433,-37.6928\"/>\n<polygon fill=\"#000000\" stroke=\"#000000\" points=\"205.3021,-41.0901 215.8547,-40.1451 207.0161,-34.3032 205.3021,-41.0901\"/>\n</g>\n<!-- 12840662573888532287&#45;&gt;/outputs/44 -->\n<g id=\"edge9\" class=\"edge\">\n<title>12840662573888532287&#45;&gt;/outputs/44</title>\n<path fill=\"none\" stroke=\"#000000\" d=\"M486.0213,-31.0963C494.525,-33.2437 503.6032,-35.5362 512.1433,-37.6928\"/>\n<polygon fill=\"#000000\" stroke=\"#000000\" points=\"511.3021,-41.0901 521.8547,-40.1451 513.0161,-34.3032 511.3021,-41.0901\"/>\n</g>\n</g>\n</svg>\n",
            "text/plain": [
              "<hiddenlayer.graph.Graph at 0x7fb1b202bf10>"
            ]
          },
          "execution_count": null,
          "metadata": {},
          "output_type": "execute_result"
        }
      ]
    },
    {
      "cell_type": "code",
      "metadata": {
        "colab": {
          "background_save": true
        },
        "id": "AMwcRvuZE1B5",
        "outputId": "ff19f786-8f88-4324-ef09-3deea9c04426"
      },
      "source": [
        "s33_loss_mnist, s33_acc_mnist = runner(mlp_gap33_mnist, train_loader_MNIST, test_loader_MNIST)"
      ],
      "execution_count": null,
      "outputs": [
        {
          "name": "stderr",
          "output_type": "stream",
          "text": [
            " 25%|██▌       | 5/20 [01:23<04:09, 16.66s/it]"
          ]
        },
        {
          "name": "stdout",
          "output_type": "stream",
          "text": [
            "Epoch 5 - Training loss: 1.4805642757009954 - val_acc: 0.9689000248908997\n"
          ]
        },
        {
          "name": "stderr",
          "output_type": "stream",
          "text": [
            " 50%|█████     | 10/20 [02:48<02:51, 17.12s/it]"
          ]
        },
        {
          "name": "stdout",
          "output_type": "stream",
          "text": [
            "Epoch 10 - Training loss: 1.4776692162168787 - val_acc: 0.9708999991416931\n"
          ]
        },
        {
          "name": "stderr",
          "output_type": "stream",
          "text": [
            " 75%|███████▌  | 15/20 [04:18<01:29, 17.82s/it]"
          ]
        },
        {
          "name": "stdout",
          "output_type": "stream",
          "text": [
            "Epoch 15 - Training loss: 1.4779452714514225 - val_acc: 0.9696999788284302\n"
          ]
        },
        {
          "name": "stderr",
          "output_type": "stream",
          "text": [
            "100%|██████████| 20/20 [05:55<00:00, 17.78s/it]"
          ]
        },
        {
          "name": "stdout",
          "output_type": "stream",
          "text": [
            "Epoch 20 - Training loss: 1.477580384497947 - val_acc: 0.9704999923706055\n"
          ]
        },
        {
          "name": "stderr",
          "output_type": "stream",
          "text": [
            "\n"
          ]
        }
      ]
    },
    {
      "cell_type": "code",
      "metadata": {
        "id": "xKRRSSbqE5O5",
        "colab": {
          "base_uri": "https://localhost:8080/"
        },
        "outputId": "01d44242-46a3-41ee-ea2d-0ac2a08bda5c"
      },
      "source": [
        "s33_loss_cifar, s33_acc_cifar = runner(mlp_gap33_cifar, train_loader_CIFAR10, test_loader_CIFAR10)"
      ],
      "execution_count": 60,
      "outputs": [
        {
          "metadata": {
            "tags": null
          },
          "name": "stderr",
          "output_type": "stream",
          "text": [
            " 25%|██▌       | 5/20 [01:26<04:23, 17.57s/it]"
          ]
        },
        {
          "metadata": {
            "tags": null
          },
          "name": "stdout",
          "output_type": "stream",
          "text": [
            "Epoch 5 - Training loss: 2.1034552394127357 - val_acc: 0.3580999970436096\n"
          ]
        },
        {
          "metadata": {
            "tags": null
          },
          "name": "stderr",
          "output_type": "stream",
          "text": [
            " 50%|█████     | 10/20 [02:58<03:02, 18.21s/it]"
          ]
        },
        {
          "metadata": {
            "tags": null
          },
          "name": "stdout",
          "output_type": "stream",
          "text": [
            "Epoch 10 - Training loss: 2.0646671737943376 - val_acc: 0.3935999870300293\n"
          ]
        },
        {
          "metadata": {
            "tags": null
          },
          "name": "stderr",
          "output_type": "stream",
          "text": [
            " 75%|███████▌  | 15/20 [04:29<01:31, 18.26s/it]"
          ]
        },
        {
          "metadata": {
            "tags": null
          },
          "name": "stdout",
          "output_type": "stream",
          "text": [
            "Epoch 15 - Training loss: 2.031748214546515 - val_acc: 0.41830000281333923\n"
          ]
        },
        {
          "output_type": "stream",
          "name": "stderr",
          "text": [
            "100%|██████████| 20/20 [06:00<00:00, 18.01s/it]"
          ]
        },
        {
          "output_type": "stream",
          "name": "stdout",
          "text": [
            "Epoch 20 - Training loss: 2.0049896818034503 - val_acc: 0.43779999017715454\n"
          ]
        },
        {
          "output_type": "stream",
          "name": "stderr",
          "text": [
            "\n"
          ]
        }
      ]
    },
    {
      "cell_type": "markdown",
      "metadata": {
        "id": "mtUgnevp7rG5"
      },
      "source": [
        "###Comparison"
      ]
    },
    {
      "cell_type": "code",
      "metadata": {
        "id": "mNLe_zNLGIZg",
        "colab": {
          "base_uri": "https://localhost:8080/",
          "height": 545
        },
        "outputId": "e304e702-8824-48c3-8912-6ebcbac77238"
      },
      "source": [
        "plt.figure('Accuracy MNIST')\n",
        "plt.title('Accuracy MNIST')\n",
        "\n",
        "plt.plot([i.to(torch.device('cpu')).mul(100) for i in s22_acc_mnist], label = '22')\n",
        "plt.plot([i.to(torch.device('cpu')).mul(100) for i in s32_acc_mnist], label = '32')\n",
        "plt.plot([i.to(torch.device('cpu')).mul(100) for i in s33_acc_mnist], label = '33')\n",
        "\n",
        "plt.xlim(0, 20)\n",
        "# plt.ylim(0, 100)\n",
        "plt.legend()\n",
        "plt.show()\n",
        "\n",
        "plt.figure('Loss')\n",
        "plt.title('Loss MNIST')\n",
        "\n",
        "plt.plot(s22_loss_mnist, label = '22')\n",
        "plt.plot(s32_loss_mnist, label = '32')\n",
        "plt.plot(s33_loss_mnist, label = '33')\n",
        "\n",
        "plt.xlim(0, 20)\n",
        "\n",
        "plt.legend()\n",
        "plt.show()"
      ],
      "execution_count": 64,
      "outputs": [
        {
          "output_type": "display_data",
          "data": {
            "image/png": "[encoded data removed]",
            "text/plain": [
              "<Figure size 432x288 with 1 Axes>"
            ]
          },
          "metadata": {
            "needs_background": "light"
          }
        },
        {
          "output_type": "display_data",
          "data": {
            "image/png": "[encoded data removed]",
            "text/plain": [
              "<Figure size 432x288 with 1 Axes>"
            ]
          },
          "metadata": {
            "needs_background": "light"
          }
        }
      ]
    },
    {
      "cell_type": "code",
      "metadata": {
        "id": "zMP6QaPfGbUq",
        "colab": {
          "base_uri": "https://localhost:8080/",
          "height": 545
        },
        "outputId": "9601e72c-aab8-4bb0-d2ed-93464160685b"
      },
      "source": [
        "plt.figure('Accuracy')\n",
        "plt.title('Accuracy CIFAR10')\n",
        "\n",
        "plt.plot([i.to(torch.device('cpu')).mul(100) for i in s22_acc_cifar], label = '22')\n",
        "plt.plot([i.to(torch.device('cpu')).mul(100) for i in s32_acc_cifar], label = '32')\n",
        "plt.plot([i.to(torch.device('cpu')).mul(100) for i in s33_acc_cifar], label = '33')\n",
        "\n",
        "plt.xlim(0, 20)\n",
        "# plt.ylim(0, 100)\n",
        "plt.legend()\n",
        "plt.show()\n",
        "\n",
        "plt.figure('Loss')\n",
        "plt.title('Loss CIFAR10')\n",
        "\n",
        "plt.plot(s22_loss_cifar, label = '22')\n",
        "plt.plot(s32_loss_cifar, label = '32')\n",
        "plt.plot(s33_loss_cifar, label = '33')\n",
        "\n",
        "plt.xlim(0, 20)\n",
        "\n",
        "plt.legend()\n",
        "plt.show()"
      ],
      "execution_count": 63,
      "outputs": [
        {
          "output_type": "display_data",
          "data": {
            "image/png": "[encoded data removed]",
            "text/plain": [
              "<Figure size 432x288 with 1 Axes>"
            ]
          },
          "metadata": {
            "needs_background": "light"
          }
        },
        {
          "output_type": "display_data",
          "data": {
            "image/png": "[encoded data removed]",
            "text/plain": [
              "<Figure size 432x288 with 1 Axes>"
            ]
          },
          "metadata": {
            "needs_background": "light"
          }
        }
      ]
    },
    {
      "cell_type": "markdown",
      "metadata": {
        "id": "RB9SHYhx70Eb"
      },
      "source": [
        "###Observations\n",
        "\n",
        "'33' performed the best in both datasets. We also observed that '33' and '32' did most of their learning in epoch 1 itself."
      ]
    },
    {
      "cell_type": "markdown",
      "metadata": {
        "id": "M1dA4IFM9YSr"
      },
      "source": [
        "#BONUS"
      ]
    },
    {
      "cell_type": "markdown",
      "metadata": {
        "id": "Z2rk57n_ArGO"
      },
      "source": [
        "Hypothesis: Through a skip connection it is easier to realize an identity connection, by making weight and biases between the skip connections zero. This enables a deeper neural network to give an on-par performance to a comparatively shallow network."
      ]
    },
    {
      "cell_type": "code",
      "metadata": {
        "id": "8mGavdSzIlf9"
      },
      "source": [
        "mlp_shallow_mnist = MLP([784, 256, 128, 64, 10])\n",
        "mlp_shallow_mnist = mlp_shallow_mnist.to(device)"
      ],
      "execution_count": 68,
      "outputs": []
    },
    {
      "cell_type": "code",
      "metadata": {
        "id": "ciCODO78_lKT"
      },
      "source": [
        "mlp_shallow_cifar = MLP([32*32*3, 256, 128, 64, 10])\n",
        "mlp_shallow_cifar = mlp_shallow_cifar.to(device)"
      ],
      "execution_count": 72,
      "outputs": []
    },
    {
      "cell_type": "code",
      "metadata": {
        "colab": {
          "base_uri": "https://localhost:8080/"
        },
        "id": "ocGG5thb-brI",
        "outputId": "b642840c-d7ad-48c4-870a-396b5d4b86d4"
      },
      "source": [
        "shallow_loss_mnist, shallow_acc_mnist = runner(mlp_shallow_mnist, train_loader_MNIST, test_loader_MNIST)"
      ],
      "execution_count": 69,
      "outputs": [
        {
          "output_type": "stream",
          "name": "stderr",
          "text": [
            " 25%|██▌       | 5/20 [00:55<02:48, 11.21s/it]"
          ]
        },
        {
          "output_type": "stream",
          "name": "stdout",
          "text": [
            "Epoch 5 - Training loss: 1.6178287922067844 - val_acc: 0.8489999771118164\n"
          ]
        },
        {
          "output_type": "stream",
          "name": "stderr",
          "text": [
            " 50%|█████     | 10/20 [01:52<01:52, 11.22s/it]"
          ]
        },
        {
          "output_type": "stream",
          "name": "stdout",
          "text": [
            "Epoch 10 - Training loss: 1.5971439031844443 - val_acc: 0.8622999787330627\n"
          ]
        },
        {
          "output_type": "stream",
          "name": "stderr",
          "text": [
            " 75%|███████▌  | 15/20 [02:47<00:55, 11.17s/it]"
          ]
        },
        {
          "output_type": "stream",
          "name": "stdout",
          "text": [
            "Epoch 15 - Training loss: 1.5880727615762265 - val_acc: 0.8683000206947327\n"
          ]
        },
        {
          "output_type": "stream",
          "name": "stderr",
          "text": [
            "100%|██████████| 20/20 [03:44<00:00, 11.21s/it]"
          ]
        },
        {
          "output_type": "stream",
          "name": "stdout",
          "text": [
            "Epoch 20 - Training loss: 1.537207444170688 - val_acc: 0.9506999850273132\n"
          ]
        },
        {
          "output_type": "stream",
          "name": "stderr",
          "text": [
            "\n"
          ]
        }
      ]
    },
    {
      "cell_type": "code",
      "metadata": {
        "colab": {
          "base_uri": "https://localhost:8080/"
        },
        "id": "6eGHNtkq-lFu",
        "outputId": "3ffcb541-419d-4054-c118-744bc2ed8471"
      },
      "source": [
        "shallow_loss_cifar, shallow_acc_cifar = runner(mlp_shallow_cifar, train_loader_CIFAR10, test_loader_CIFAR10)"
      ],
      "execution_count": 73,
      "outputs": [
        {
          "output_type": "stream",
          "name": "stderr",
          "text": [
            " 25%|██▌       | 5/20 [01:15<03:49, 15.27s/it]"
          ]
        },
        {
          "output_type": "stream",
          "name": "stdout",
          "text": [
            "Epoch 5 - Training loss: 2.103964275243331 - val_acc: 0.3614000082015991\n"
          ]
        },
        {
          "output_type": "stream",
          "name": "stderr",
          "text": [
            " 50%|█████     | 10/20 [02:33<02:35, 15.51s/it]"
          ]
        },
        {
          "output_type": "stream",
          "name": "stdout",
          "text": [
            "Epoch 10 - Training loss: 2.0706981086001104 - val_acc: 0.3788999915122986\n"
          ]
        },
        {
          "output_type": "stream",
          "name": "stderr",
          "text": [
            " 75%|███████▌  | 15/20 [03:52<01:18, 15.71s/it]"
          ]
        },
        {
          "output_type": "stream",
          "name": "stdout",
          "text": [
            "Epoch 15 - Training loss: 2.045923330345932 - val_acc: 0.4092000126838684\n"
          ]
        },
        {
          "output_type": "stream",
          "name": "stderr",
          "text": [
            "100%|██████████| 20/20 [05:10<00:00, 15.54s/it]"
          ]
        },
        {
          "output_type": "stream",
          "name": "stdout",
          "text": [
            "Epoch 20 - Training loss: 2.0247034533899657 - val_acc: 0.4293999969959259\n"
          ]
        },
        {
          "output_type": "stream",
          "name": "stderr",
          "text": [
            "\n"
          ]
        }
      ]
    },
    {
      "cell_type": "code",
      "metadata": {
        "colab": {
          "base_uri": "https://localhost:8080/",
          "height": 545
        },
        "id": "MzAxeTP2_APZ",
        "outputId": "06358df0-a822-4b70-c42c-c501a417b11f"
      },
      "source": [
        "plt.figure('Accuracy MNIST')\n",
        "plt.title('Accuracy MNIST')\n",
        "\n",
        "plt.plot([i.to(torch.device('cpu')).mul(100) for i in skipped_acc_mnist], label = 'Skipped')\n",
        "plt.plot([i.to(torch.device('cpu')).mul(100) for i in shallow_acc_mnist], label = 'Shallow')\n",
        "\n",
        "plt.xlim(0, 20)\n",
        "# plt.ylim(0, 100)\n",
        "plt.legend()\n",
        "plt.show()\n",
        "\n",
        "plt.figure('Loss MNIST')\n",
        "plt.title('Loss MNIST')\n",
        "\n",
        "plt.plot(skipped_loss_mnist, label = 'Skipped')\n",
        "plt.plot(shallow_loss_mnist, label = 'Shallow')\n",
        "\n",
        "plt.xlim(0, 20)\n",
        "\n",
        "plt.legend()\n",
        "plt.show()"
      ],
      "execution_count": 70,
      "outputs": [
        {
          "output_type": "display_data",
          "data": {
            "image/png": "[encoded data removed]",
            "text/plain": [
              "<Figure size 432x288 with 1 Axes>"
            ]
          },
          "metadata": {
            "needs_background": "light"
          }
        },
        {
          "output_type": "display_data",
          "data": {
            "image/png": "[encoded data removed]",
            "text/plain": [
              "<Figure size 432x288 with 1 Axes>"
            ]
          },
          "metadata": {
            "needs_background": "light"
          }
        }
      ]
    },
    {
      "cell_type": "code",
      "metadata": {
        "colab": {
          "base_uri": "https://localhost:8080/",
          "height": 545
        },
        "id": "k9DW9lvh_C7n",
        "outputId": "746e0ed4-2c44-4ea8-972f-d8fe46e00dca"
      },
      "source": [
        "plt.figure('Accuracy CIFAR')\n",
        "plt.title('Accuracy CIFAR')\n",
        "\n",
        "plt.plot([i.to(torch.device('cpu')).mul(100) for i in skipped_acc_cifar], label = 'Skipped')\n",
        "plt.plot([i.to(torch.device('cpu')).mul(100) for i in shallow_acc_cifar], label = 'Shallow')\n",
        "\n",
        "plt.xlim(0, 20)\n",
        "# plt.ylim(0, 100)\n",
        "plt.legend()\n",
        "plt.show()\n",
        "\n",
        "plt.figure('Loss CIFAR')\n",
        "plt.title('Loss CIFAR')\n",
        "\n",
        "plt.plot(skipped_loss_cifar, label = 'Skipped')\n",
        "plt.plot(shallow_loss_cifar, label = 'Shallow')\n",
        "\n",
        "plt.xlim(0, 20)\n",
        "\n",
        "plt.legend()\n",
        "plt.show()"
      ],
      "execution_count": 74,
      "outputs": [
        {
          "output_type": "display_data",
          "data": {
            "image/png": "[encoded data removed]",
            "text/plain": [
              "<Figure size 432x288 with 1 Axes>"
            ]
          },
          "metadata": {
            "needs_background": "light"
          }
        },
        {
          "output_type": "display_data",
          "data": {
            "image/png": "[encoded data removed]",
            "text/plain": [
              "<Figure size 432x288 with 1 Axes>"
            ]
          },
          "metadata": {
            "needs_background": "light"
          }
        }
      ]
    },
    {
      "cell_type": "markdown",
      "metadata": {
        "id": "yIcYB-2NCFOl"
      },
      "source": [
        "##Observations\n",
        "\n",
        "The shallow and skipped models gave a similar results in both datasets."
      ]
    },
    {
      "cell_type": "markdown",
      "metadata": {
        "id": "0IMP1GICFFvH"
      },
      "source": [
        "#Probable Explanations for our observations\n",
        "\n",
        "Reflecting to the hypothesis stated in the BONUS section and the Observations made in Part 1, we see that:\n",
        "\n",
        "\n",
        "1.   Deep neural networks have higher training error over shallower ones.\n",
        "2.   Given that skip connections help us realize identity connections, it can help make a deep neural network behave like a shallower one. Hence, reducing the training error.\n",
        "\n",
        "\n",
        "It might also be that addition of skip connections increases the information available at hand to each layer, by addition of activations from previous layers.\n",
        "\n",
        "It can also be seen that in case of CIFAR10, accuracy remains below 50%. This could be because different colour channels making the same pixel in the image are not being grouped together, which is not the case in MNIST.\n",
        "\n"
      ]
    }
  ]
}